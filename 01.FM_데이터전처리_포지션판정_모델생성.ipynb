{
 "cells": [
  {
   "cell_type": "markdown",
   "id": "white-throw",
   "metadata": {},
   "source": [
    "# 필요한 라이브러리 import"
   ]
  },
  {
   "cell_type": "code",
   "execution_count": 20,
   "id": "minor-mechanics",
   "metadata": {
    "ExecuteTime": {
     "end_time": "2021-12-24T04:37:03.885877Z",
     "start_time": "2021-12-24T04:37:03.881877Z"
    }
   },
   "outputs": [],
   "source": [
    "import pandas as pd\n",
    "import os\n",
    "import re\n",
    "import csv\n",
    "import numpy as np\n",
    "from sklearn.model_selection import train_test_split,KFold,GridSearchCV\n",
    "from sklearn.ensemble import RandomForestClassifier\n",
    "from sklearn.metrics import accuracy_score\n",
    "import warnings\n",
    "import matplotlib.pyplot as plt\n",
    "import seaborn as sns\n",
    "import joblib\n",
    "from collections import defaultdict\n",
    "plt.rc('font', family='Malgun Gothic') \n",
    "plt.rc('font', size=10)\n",
    "warnings.filterwarnings(\"ignore\")"
   ]
  },
  {
   "cell_type": "markdown",
   "id": "norwegian-grass",
   "metadata": {},
   "source": [
    "# 선수의 포지션을 예측하는 모델 생성"
   ]
  },
  {
   "cell_type": "markdown",
   "id": "9bc33797",
   "metadata": {},
   "source": [
    "## 데이터 전처리"
   ]
  },
  {
   "cell_type": "code",
   "execution_count": 21,
   "id": "silent-causing",
   "metadata": {
    "ExecuteTime": {
     "end_time": "2021-12-24T04:37:03.916909Z",
     "start_time": "2021-12-24T04:37:03.886877Z"
    }
   },
   "outputs": [],
   "source": [
    "# csv 파일을 불러와 데이터 프레임 생성\n",
    "# 이 데이터는 선수의 포지션을 공격,미드필더,수비 세부분으로 라벨링을 한 데이터입니다.\n",
    "position_df = pd.read_csv('./datas/포지션판별모델생성용데이터.csv',encoding='utf-8')\n",
    "\n",
    "# 사용할 칼럼만 선택\n",
    "use_col = ['이름', '구분', '경기 당 드리블', '기회 창출/90', '경기당 유효 슈팅/90',\n",
    "           '경기당 슈팅/90', 'Int/90', '공중 A/90', '경기당 헤더 성공', '태클', \n",
    "           '경기당 패스 시도/90','경기당 패스 성공/90', 'K Ps/90']\n",
    "\n",
    "# 필요한 행만 추출\n",
    "position_df = position_df[use_col]\n",
    "\n",
    "# 결측치 제거\n",
    "position_df = position_df.drop(index = position_df[position_df['구분'].isna()].index)\n",
    "\n",
    "# 인덱스 초기화\n",
    "position_df = position_df.reset_index(drop=True)\n",
    "\n",
    "\n",
    "# 포지션 수치형 변수로 변경\n",
    "def position_label(x):\n",
    "    if x == '미드필더':\n",
    "        return 0   \n",
    "    elif x == '수비수':\n",
    "        return 1    \n",
    "    else:\n",
    "        return 2\n",
    "\n",
    "position_df['구분'] = position_df['구분'].map(position_label)"
   ]
  },
  {
   "cell_type": "markdown",
   "id": "cb13a8b7",
   "metadata": {},
   "source": [
    "## RandomForest 모델 생성"
   ]
  },
  {
   "cell_type": "markdown",
   "id": "b6a2b1ea",
   "metadata": {},
   "source": [
    "### GridSearchCV를 통해 최적의 하이퍼파라미터 찾기"
   ]
  },
  {
   "cell_type": "code",
   "execution_count": 22,
   "id": "009c8b68",
   "metadata": {
    "ExecuteTime": {
     "end_time": "2021-12-24T04:38:23.862385Z",
     "start_time": "2021-12-24T04:37:03.917911Z"
    }
   },
   "outputs": [
    {
     "name": "stdout",
     "output_type": "stream",
     "text": [
      "best params :  {'class_weight': 'balanced_subsample', 'criterion': 'gini', 'n_estimators': 750, 'n_jobs': -1, 'oob_score': True, 'random_state': 123}\n",
      "accuracy_score :  0.83\n"
     ]
    }
   ],
   "source": [
    "X,Y = position_df.iloc[:,2:],position_df.loc[:,'구분']\n",
    "\n",
    "x_train, x_test, y_train, y_test = train_test_split(X,Y,test_size=0.2)\n",
    "\n",
    "rf_params = {\n",
    "        \"criterion\" : ['gini','entropy'],\n",
    "        \"n_estimators\" : [100,250,500,750],\n",
    "        \"oob_score\" : [True,False],\n",
    "        \"n_jobs\" : [-1],\n",
    "        \"random_state\" : [123],\n",
    "        \"class_weight\" : ['balanced','balanced_subsample',None]\n",
    "}\n",
    "\n",
    "rf_model = RandomForestClassifier(\n",
    "        oob_score=True,\n",
    "        n_jobs = -1,\n",
    "        random_state=123)\n",
    "\n",
    "grid_tree = GridSearchCV(rf_model,param_grid=rf_params,cv=5,refit=True)\n",
    "\n",
    "grid_tree.fit(x_train, y_train)\n",
    "\n",
    "y_predict = grid_tree.predict(x_test)\n",
    "\n",
    "print('best params : ',grid_tree.best_params_)\n",
    "\n",
    "print('accuracy_score : ', accuracy_score(y_test,y_predict))"
   ]
  },
  {
   "cell_type": "markdown",
   "id": "5e6fbbf6",
   "metadata": {},
   "source": [
    "### 최적의 하이퍼파라미터를 이용해서 모델 학습 with k_fold"
   ]
  },
  {
   "cell_type": "code",
   "execution_count": 25,
   "id": "stunning-percentage",
   "metadata": {
    "ExecuteTime": {
     "end_time": "2021-12-24T04:39:39.422698Z",
     "start_time": "2021-12-24T04:39:26.424932Z"
    }
   },
   "outputs": [],
   "source": [
    "split_count = 10\n",
    "\n",
    "kf = KFold(n_splits= split_count)\n",
    "kf.get_n_splits(X)\n",
    "\n",
    "# 모델들을 저장할 리스트\n",
    "rf_model_list = []\n",
    "\n",
    "# 모델 정확도를 저장할 리스트\n",
    "rf_acc_score_list = []\n",
    "\n",
    "for train_index, test_index in kf.split(X):\n",
    "\n",
    "    x_train, x_test = X.values[train_index], X.values[test_index]\n",
    "    y_train, y_test = Y.values[train_index], Y.values[test_index]\n",
    "    \n",
    "    created_model = RandomForestClassifier(\n",
    "        n_estimators = 750,\n",
    "        oob_score=True,\n",
    "        n_jobs = -1,\n",
    "        class_weight= 'balanced_subsample',\n",
    "        random_state=123)\n",
    "    \n",
    "    created_model.fit(x_train, y_train)\n",
    "    \n",
    "    pred = created_model.predict(x_test)\n",
    "    \n",
    "    rf_acc_score_list.append(accuracy_score(y_test, pred))\n",
    "        \n",
    "    rf_model_list.append(created_model)"
   ]
  },
  {
   "cell_type": "code",
   "execution_count": 26,
   "id": "absolute-tourist",
   "metadata": {
    "ExecuteTime": {
     "end_time": "2021-12-24T04:39:47.425503Z",
     "start_time": "2021-12-24T04:39:47.415503Z"
    }
   },
   "outputs": [
    {
     "data": {
      "text/plain": [
       "[0.86, 0.92, 0.94, 0.8, 0.82, 0.84, 0.9, 0.94, 0.88, 0.84]"
      ]
     },
     "execution_count": 26,
     "metadata": {},
     "output_type": "execute_result"
    }
   ],
   "source": [
    "# 정확도\n",
    "rf_acc_score_list"
   ]
  },
  {
   "cell_type": "code",
   "execution_count": 27,
   "id": "a051a187",
   "metadata": {
    "ExecuteTime": {
     "end_time": "2021-12-24T04:39:51.282497Z",
     "start_time": "2021-12-24T04:39:51.266486Z"
    }
   },
   "outputs": [],
   "source": [
    "# 최대 정확도의 모델을 선택\n",
    "best_rf_model = rf_model_list[np.argmax(rf_acc_score_list)]"
   ]
  },
  {
   "cell_type": "code",
   "execution_count": 29,
   "id": "6c3223be",
   "metadata": {
    "ExecuteTime": {
     "end_time": "2021-12-24T04:40:11.835294Z",
     "start_time": "2021-12-24T04:40:11.576297Z"
    }
   },
   "outputs": [
    {
     "data": {
      "text/plain": [
       "['./models/position_model.pkl']"
      ]
     },
     "execution_count": 29,
     "metadata": {},
     "output_type": "execute_result"
    }
   ],
   "source": [
    "# 예측모델 저장\n",
    "joblib.dump(best_rf_model,'./models/position_model.pkl')"
   ]
  },
  {
   "cell_type": "code",
   "execution_count": 30,
   "id": "8048399e",
   "metadata": {
    "ExecuteTime": {
     "end_time": "2021-12-24T04:40:14.347295Z",
     "start_time": "2021-12-24T04:40:14.231298Z"
    }
   },
   "outputs": [
    {
     "data": {
      "text/html": [
       "<div>\n",
       "<style scoped>\n",
       "    .dataframe tbody tr th:only-of-type {\n",
       "        vertical-align: middle;\n",
       "    }\n",
       "\n",
       "    .dataframe tbody tr th {\n",
       "        vertical-align: top;\n",
       "    }\n",
       "\n",
       "    .dataframe thead th {\n",
       "        text-align: right;\n",
       "    }\n",
       "</style>\n",
       "<table border=\"1\" class=\"dataframe\">\n",
       "  <thead>\n",
       "    <tr style=\"text-align: right;\">\n",
       "      <th></th>\n",
       "      <th>이름</th>\n",
       "      <th>구분</th>\n",
       "      <th>경기 당 드리블</th>\n",
       "      <th>기회 창출/90</th>\n",
       "      <th>경기당 유효 슈팅/90</th>\n",
       "      <th>경기당 슈팅/90</th>\n",
       "      <th>Int/90</th>\n",
       "      <th>공중 A/90</th>\n",
       "      <th>경기당 헤더 성공</th>\n",
       "      <th>태클</th>\n",
       "      <th>경기당 패스 시도/90</th>\n",
       "      <th>경기당 패스 성공/90</th>\n",
       "      <th>K Ps/90</th>\n",
       "      <th>예측 포지션</th>\n",
       "    </tr>\n",
       "  </thead>\n",
       "  <tbody>\n",
       "    <tr>\n",
       "      <th>108</th>\n",
       "      <td>Maxwel Cornet</td>\n",
       "      <td>공격수</td>\n",
       "      <td>1.69</td>\n",
       "      <td>0.18</td>\n",
       "      <td>0.36</td>\n",
       "      <td>0.78</td>\n",
       "      <td>1.63</td>\n",
       "      <td>6.82</td>\n",
       "      <td>3.92</td>\n",
       "      <td>3.56</td>\n",
       "      <td>35.25</td>\n",
       "      <td>30.97</td>\n",
       "      <td>1.63</td>\n",
       "      <td>미드필더</td>\n",
       "    </tr>\n",
       "    <tr>\n",
       "      <th>111</th>\n",
       "      <td>Charlie Taylor</td>\n",
       "      <td>미드필더</td>\n",
       "      <td>0.69</td>\n",
       "      <td>0.09</td>\n",
       "      <td>0.05</td>\n",
       "      <td>0.28</td>\n",
       "      <td>3.07</td>\n",
       "      <td>6.88</td>\n",
       "      <td>5.08</td>\n",
       "      <td>2.01</td>\n",
       "      <td>46.21</td>\n",
       "      <td>42.02</td>\n",
       "      <td>0.78</td>\n",
       "      <td>수비수</td>\n",
       "    </tr>\n",
       "    <tr>\n",
       "      <th>142</th>\n",
       "      <td>Oriol Romeu</td>\n",
       "      <td>수비수</td>\n",
       "      <td>0.12</td>\n",
       "      <td>0.49</td>\n",
       "      <td>0.15</td>\n",
       "      <td>0.35</td>\n",
       "      <td>1.08</td>\n",
       "      <td>4.42</td>\n",
       "      <td>3.46</td>\n",
       "      <td>1.80</td>\n",
       "      <td>52.30</td>\n",
       "      <td>47.36</td>\n",
       "      <td>0.99</td>\n",
       "      <td>미드필더</td>\n",
       "    </tr>\n",
       "  </tbody>\n",
       "</table>\n",
       "</div>"
      ],
      "text/plain": [
       "                 이름    구분  경기 당 드리블  기회 창출/90  경기당 유효 슈팅/90  경기당 슈팅/90  \\\n",
       "108   Maxwel Cornet   공격수      1.69      0.18          0.36       0.78   \n",
       "111  Charlie Taylor  미드필더      0.69      0.09          0.05       0.28   \n",
       "142     Oriol Romeu   수비수      0.12      0.49          0.15       0.35   \n",
       "\n",
       "     Int/90  공중 A/90  경기당 헤더 성공    태클  경기당 패스 시도/90  경기당 패스 성공/90  K Ps/90  \\\n",
       "108    1.63     6.82       3.92  3.56         35.25         30.97     1.63   \n",
       "111    3.07     6.88       5.08  2.01         46.21         42.02     0.78   \n",
       "142    1.08     4.42       3.46  1.80         52.30         47.36     0.99   \n",
       "\n",
       "    예측 포지션  \n",
       "108   미드필더  \n",
       "111    수비수  \n",
       "142   미드필더  "
      ]
     },
     "execution_count": 30,
     "metadata": {},
     "output_type": "execute_result"
    }
   ],
   "source": [
    "# 실제 나의 생각과 예측된 포지션을 비교\n",
    "real_predicted = best_rf_model.predict(position_df.iloc[:,2:])\n",
    "position_df['예측 포지션'] = real_predicted\n",
    "\n",
    "def position_label_reverse(x):\n",
    "    if x == 0:\n",
    "        return '미드필더'\n",
    "    \n",
    "    elif x == 1:\n",
    "        return '수비수'\n",
    "    \n",
    "    else:\n",
    "        return '공격수'\n",
    "\n",
    "\n",
    "position_df['예측 포지션'] = position_df['예측 포지션'].map(position_label_reverse)\n",
    "position_df['구분'] = position_df['구분'].map(position_label_reverse)\n",
    "\n",
    "position_df[position_df['구분']!=position_df['예측 포지션']]"
   ]
  }
 ],
 "metadata": {
  "kernelspec": {
   "display_name": "Python 3 (ipykernel)",
   "language": "python",
   "name": "python3"
  },
  "language_info": {
   "codemirror_mode": {
    "name": "ipython",
    "version": 3
   },
   "file_extension": ".py",
   "mimetype": "text/x-python",
   "name": "python",
   "nbconvert_exporter": "python",
   "pygments_lexer": "ipython3",
   "version": "3.9.7"
  },
  "toc": {
   "base_numbering": 1,
   "nav_menu": {},
   "number_sections": true,
   "sideBar": true,
   "skip_h1_title": false,
   "title_cell": "Table of Contents",
   "title_sidebar": "Contents",
   "toc_cell": false,
   "toc_position": {},
   "toc_section_display": true,
   "toc_window_display": false
  },
  "varInspector": {
   "cols": {
    "lenName": 16,
    "lenType": 16,
    "lenVar": 40
   },
   "kernels_config": {
    "python": {
     "delete_cmd_postfix": "",
     "delete_cmd_prefix": "del ",
     "library": "var_list.py",
     "varRefreshCmd": "print(var_dic_list())"
    },
    "r": {
     "delete_cmd_postfix": ") ",
     "delete_cmd_prefix": "rm(",
     "library": "var_list.r",
     "varRefreshCmd": "cat(var_dic_list()) "
    }
   },
   "types_to_exclude": [
    "module",
    "function",
    "builtin_function_or_method",
    "instance",
    "_Feature"
   ],
   "window_display": false
  }
 },
 "nbformat": 4,
 "nbformat_minor": 5
}
