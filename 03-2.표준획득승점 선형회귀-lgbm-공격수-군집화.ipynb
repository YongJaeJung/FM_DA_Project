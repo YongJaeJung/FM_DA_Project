{
 "cells": [
  {
   "cell_type": "markdown",
   "id": "e9dd0864",
   "metadata": {},
   "source": [
    "# 필요한 라이브러리 import"
   ]
  },
  {
   "cell_type": "code",
   "execution_count": 1,
   "id": "9da569b5",
   "metadata": {
    "ExecuteTime": {
     "end_time": "2021-12-25T15:50:06.026128Z",
     "start_time": "2021-12-25T15:50:04.720128Z"
    }
   },
   "outputs": [],
   "source": [
    "import pandas as pd\n",
    "import numpy as np\n",
    "import seaborn as sns\n",
    "import matplotlib.pyplot as plt\n",
    "from collections import defaultdict\n",
    "import warnings\n",
    "from sklearn.metrics import mean_absolute_error,mean_squared_error\n",
    "import pickle\n",
    "from sklearn.model_selection import train_test_split\n",
    "from scipy import stats\n",
    "from statsmodels.stats.outliers_influence import variance_inflation_factor as vif\n",
    "from itertools import combinations\n",
    "from sklearn.model_selection import KFold\n",
    "from scipy.stats import spearmanr\n",
    "from sklearn.metrics import mean_absolute_error\n",
    "warnings.filterwarnings(action='ignore')\n",
    "plt.rc('font',family='Malgun Gothic')\n",
    "plt.rc('font',size=10)\n",
    "%matplotlib inline"
   ]
  },
  {
   "cell_type": "markdown",
   "id": "537742a4",
   "metadata": {},
   "source": [
    "# 데이터로드"
   ]
  },
  {
   "cell_type": "code",
   "execution_count": 2,
   "id": "d6adea72",
   "metadata": {
    "ExecuteTime": {
     "end_time": "2021-12-25T15:50:06.089128Z",
     "start_time": "2021-12-25T15:50:06.028128Z"
    }
   },
   "outputs": [],
   "source": [
    "# 빈 데이터 프레임 생성\n",
    "\n",
    "fm_data_df = pd.DataFrame(columns=['이름','포지션','골','도움','경기당 팀 득점/90',\n",
    "                                 '경기당 팀 실점/90', 'Cr C/A', 'FA', '반칙 수/90', '기회 창출/90',\n",
    "                                 '경기당 유효 슈팅/90', '경기당 슈팅/90', 'Int/90', '달린 거리/90분', \n",
    "                                 '공중 A/90', '태클 성공률','경기당 패스 시도/90', '경기당 패스 성공/90', \n",
    "                                 'K Ps/90', '태클 성공/90', '드리블 성공/90', \n",
    "                                 '헤더 성공/90', 'Cr A/90', '평균획득승점/경기'])\n",
    "\n",
    "# 모든 데이터 프레임 이어붙이기\n",
    "fm_data_df = pd.concat([fm_data_df,pd.read_csv('./datas/NEW_FM_DATA_FOR_ML/2021-2022/2021-2022ML.csv',encoding='utf-8-sig')])\n",
    "fm_data_df = fm_data_df.reset_index(drop=True)\n",
    "fm_data_df = pd.concat([fm_data_df,pd.read_csv('./datas/NEW_FM_DATA_FOR_ML/2022-2023/2022-2023ML.csv',encoding='utf-8-sig')])\n",
    "fm_data_df = fm_data_df.reset_index(drop=True)\n",
    "fm_data_df = pd.concat([fm_data_df,pd.read_csv('./datas/NEW_FM_DATA_FOR_ML/2023-2024/2023-2024ML.csv',encoding='utf-8-sig')])\n",
    "fm_data_df = fm_data_df.reset_index(drop=True)\n",
    "\n",
    "# 데이터 프레임 컬럼명 변경 및 자료형 변경\n",
    "fm_data_df.rename(columns={'Cr C/A':'크로스 성공률','FA':'파울 획득','Int/90':'인터셉트/90','공중 A/90':'공중볼시도/90','K Ps/90':'키패스/90','Cr A/90':'크로스 시도/90'},inplace=True)\n",
    "fm_data_df = fm_data_df.astype({'골':np.int64,'도움':np.int64,'파울 획득':np.int64,'태클 성공률':np.int64})\n",
    "\n",
    "# 공격수만 추출\n",
    "forward_df = fm_data_df[fm_data_df['포지션']=='공격수']\n",
    "forward_df = forward_df.reset_index(drop=True)"
   ]
  },
  {
   "cell_type": "markdown",
   "id": "dfa8373a",
   "metadata": {},
   "source": [
    "# 데이터 EDA"
   ]
  },
  {
   "cell_type": "markdown",
   "id": "d17320ec",
   "metadata": {},
   "source": [
    "## 모델 생성에 사용할 독립변수, 종속변수 선별"
   ]
  },
  {
   "cell_type": "code",
   "execution_count": 3,
   "id": "5bb41e7c",
   "metadata": {
    "ExecuteTime": {
     "end_time": "2021-12-25T15:50:06.105129Z",
     "start_time": "2021-12-25T15:50:06.091128Z"
    }
   },
   "outputs": [],
   "source": [
    "num_col = [forward_df.columns[i] for i,x in enumerate(forward_df.dtypes) if x == 'int64' or x == 'float64']\n",
    "independent_value = set(num_col) - set(['평균획득승점/경기','출장시간','승','무','패','경기당 팀 득점/90','경기당 팀 실점/90'])\n",
    "dependent_value = '평균획득승점/경기'"
   ]
  },
  {
   "cell_type": "markdown",
   "id": "fe28ef6f",
   "metadata": {},
   "source": [
    "## 결측치 확인"
   ]
  },
  {
   "cell_type": "code",
   "execution_count": 4,
   "id": "33ff6c99",
   "metadata": {
    "ExecuteTime": {
     "end_time": "2021-12-25T15:50:06.121129Z",
     "start_time": "2021-12-25T15:50:06.107128Z"
    }
   },
   "outputs": [
    {
     "data": {
      "text/plain": [
       "이름              0\n",
       "포지션             0\n",
       "골               0\n",
       "도움              0\n",
       "경기당 팀 득점/90     0\n",
       "경기당 팀 실점/90     0\n",
       "크로스 성공률         0\n",
       "파울 획득           0\n",
       "반칙 수/90         0\n",
       "기회 창출/90        0\n",
       "경기당 유효 슈팅/90    0\n",
       "경기당 슈팅/90       0\n",
       "인터셉트/90         0\n",
       "달린 거리/90분       0\n",
       "공중볼시도/90        0\n",
       "태클 성공률          0\n",
       "경기당 패스 시도/90    0\n",
       "경기당 패스 성공/90    0\n",
       "키패스/90          0\n",
       "태클 성공/90        0\n",
       "드리블 성공/90       0\n",
       "헤더 성공/90        0\n",
       "크로스 시도/90       0\n",
       "평균획득승점/경기       0\n",
       "시즌              0\n",
       "dtype: int64"
      ]
     },
     "execution_count": 4,
     "metadata": {},
     "output_type": "execute_result"
    }
   ],
   "source": [
    "forward_df.isna().sum()"
   ]
  },
  {
   "cell_type": "markdown",
   "id": "28864ae2",
   "metadata": {},
   "source": [
    "## 변수 군집화"
   ]
  },
  {
   "cell_type": "markdown",
   "id": "a56a88e6",
   "metadata": {},
   "source": [
    "### 패스 군집화"
   ]
  },
  {
   "cell_type": "code",
   "execution_count": 5,
   "id": "51a8f776",
   "metadata": {
    "ExecuteTime": {
     "end_time": "2021-12-25T15:50:06.272127Z",
     "start_time": "2021-12-25T15:50:06.122128Z"
    }
   },
   "outputs": [],
   "source": [
    "from sklearn.cluster import KMeans\n",
    "from sklearn import mixture\n",
    "from sklearn.preprocessing import StandardScaler\n",
    "from sklearn import datasets\n",
    "from sklearn.metrics import silhouette_score"
   ]
  },
  {
   "cell_type": "code",
   "execution_count": 6,
   "id": "530f5d28",
   "metadata": {
    "ExecuteTime": {
     "end_time": "2021-12-25T15:50:06.678128Z",
     "start_time": "2021-12-25T15:50:06.273129Z"
    }
   },
   "outputs": [
    {
     "name": "stdout",
     "output_type": "stream",
     "text": [
      "k : 2 , score: 5510.071934917474\n",
      "k : 3 , score: 3260.4705302122416\n",
      "k : 4 , score: 2275.6500080856827\n",
      "k : 5 , score: 1501.7584442308678\n",
      "k : 6 , score: 1112.5214742660937\n",
      "k : 7 , score: 855.1222766000275\n",
      "k : 8 , score: 679.3124567879726\n",
      "k : 9 , score: 572.1171083690101\n"
     ]
    },
    {
     "data": {
      "text/plain": [
       "[<matplotlib.lines.Line2D at 0x15b83d14940>]"
      ]
     },
     "execution_count": 6,
     "metadata": {},
     "output_type": "execute_result"
    },
    {
     "data": {
      "image/png": "[encoded data removed]",
      "text/plain": [
       "<Figure size 432x288 with 1 Axes>"
      ]
     },
     "metadata": {
      "needs_background": "light"
     },
     "output_type": "display_data"
    }
   ],
   "source": [
    "k_range = range(2,10)\n",
    "inertia_arr = []\n",
    "\n",
    "for k in k_range:\n",
    "    kmeans = KMeans(n_clusters=k,random_state=123)\n",
    "    kmeans.fit(list(zip(forward_df['경기당 패스 성공/90'],forward_df['경기당 패스 시도/90'])))\n",
    "    inertia = kmeans.inertia_\n",
    "\n",
    "    print(f'k : {k} , score: {inertia}')\n",
    "    \n",
    "    inertia_arr.append(inertia)\n",
    "    \n",
    "plt.plot(k_range,inertia_arr)"
   ]
  },
  {
   "cell_type": "code",
   "execution_count": 7,
   "id": "0f129a36",
   "metadata": {
    "ExecuteTime": {
     "end_time": "2021-12-25T15:50:06.724127Z",
     "start_time": "2021-12-25T15:50:06.679128Z"
    }
   },
   "outputs": [],
   "source": [
    "pass_kmeans = KMeans(n_clusters=3,random_state=123).fit(list(zip(forward_df['경기당 패스 성공/90'],forward_df['경기당 패스 시도/90'])))\n",
    "\n",
    "forward_df['패스군집'] = pass_kmeans.predict(list(zip(forward_df['경기당 패스 성공/90'],forward_df['경기당 패스 시도/90'])))\n",
    "\n",
    "forward_df['패스군집_이름'] = forward_df['패스군집'].map(lambda x : '일반패스군' if x == 0 else ('안전패스군' if x == 1 else '위험패스군'))"
   ]
  },
  {
   "cell_type": "code",
   "execution_count": 8,
   "id": "39569bd4",
   "metadata": {
    "ExecuteTime": {
     "end_time": "2021-12-25T15:50:06.889128Z",
     "start_time": "2021-12-25T15:50:06.725128Z"
    }
   },
   "outputs": [
    {
     "data": {
      "text/plain": [
       "<AxesSubplot:xlabel='경기당 패스 성공/90', ylabel='경기당 패스 시도/90'>"
      ]
     },
     "execution_count": 8,
     "metadata": {},
     "output_type": "execute_result"
    },
    {
     "data": {
      "image/png": "[encoded data removed]",
      "text/plain": [
       "<Figure size 432x288 with 1 Axes>"
      ]
     },
     "metadata": {
      "needs_background": "light"
     },
     "output_type": "display_data"
    }
   ],
   "source": [
    "sns.scatterplot(x='경기당 패스 성공/90',y='경기당 패스 시도/90',data=forward_df,hue='패스군집_이름')"
   ]
  },
  {
   "cell_type": "code",
   "execution_count": 9,
   "id": "4a8cf90e",
   "metadata": {
    "ExecuteTime": {
     "end_time": "2021-12-25T15:50:06.904128Z",
     "start_time": "2021-12-25T15:50:06.890128Z"
    }
   },
   "outputs": [],
   "source": [
    "independent_value = independent_value - set(['경기당 패스 성공/90','경기당 패스 시도/90'])"
   ]
  },
  {
   "cell_type": "code",
   "execution_count": 10,
   "id": "2227bdc5",
   "metadata": {
    "ExecuteTime": {
     "end_time": "2021-12-25T15:50:06.919127Z",
     "start_time": "2021-12-25T15:50:06.905128Z"
    }
   },
   "outputs": [],
   "source": [
    "safe_pass_df = forward_df[forward_df['패스군집_이름']=='안전패스군']\n",
    "normal_pass_df = forward_df[forward_df['패스군집_이름']=='일반패스군']\n",
    "danger_pass_df = forward_df[forward_df['패스군집_이름']=='위험패스군']"
   ]
  },
  {
   "cell_type": "markdown",
   "id": "078c44f3",
   "metadata": {},
   "source": [
    "# 패스 군집별 모델 생성"
   ]
  },
  {
   "cell_type": "code",
   "execution_count": 11,
   "id": "0bf9ba18",
   "metadata": {
    "ExecuteTime": {
     "end_time": "2021-12-25T15:50:07.655127Z",
     "start_time": "2021-12-25T15:50:06.920128Z"
    }
   },
   "outputs": [],
   "source": [
    "from lightgbm import LGBMRegressor\n",
    "from sklearn.model_selection import GridSearchCV,train_test_split,StratifiedKFold\n",
    "\n",
    "def gridsearch_by_cluster(df):\n",
    "    forward_lgbm = LGBMRegressor()\n",
    "\n",
    "    params = {\n",
    "        'num_leaves': [5,10,15,20,25,30],\n",
    "        'learning_rate': [0.01,0.1,0.2],\n",
    "        'n_estimators':[100],\n",
    "        'max_depth': [-1],\n",
    "        'objective' : [\"regression\",'huber'],\n",
    "        'random_state' :[123],\n",
    "        'reg_alpha' : [1.1,1.2,1.3,1.4,1.5],\n",
    "        'reg_lambda' : [1.1,1.2,1.3,1.4,1.5],\n",
    "        'subsample': [0.5,0.6,0.7,0.8,0.9,1.0],\n",
    "        'extra_trees' : [True]\n",
    "    }\n",
    "\n",
    "\n",
    "    grid = GridSearchCV(forward_lgbm, params, scoring='neg_mean_absolute_error', cv=5,refit=True)\n",
    "\n",
    "    grid.fit(df.loc[:,independent_value],\n",
    "             df.loc[:,dependent_value])\n",
    "\n",
    "    print(grid.best_score_)\n",
    "    print(grid.best_estimator_)\n",
    "    print(grid.best_params_)\n",
    "    \n",
    "    return grid"
   ]
  },
  {
   "cell_type": "markdown",
   "id": "202b02ce",
   "metadata": {},
   "source": [
    "## LGBM Regressor 안전패스군 모델 생성"
   ]
  },
  {
   "cell_type": "code",
   "execution_count": 12,
   "id": "1ef3349e",
   "metadata": {
    "ExecuteTime": {
     "end_time": "2021-12-25T15:55:12.113218Z",
     "start_time": "2021-12-25T15:50:13.729688Z"
    }
   },
   "outputs": [
    {
     "name": "stdout",
     "output_type": "stream",
     "text": [
      "-0.2757054103880132\n",
      "LGBMRegressor(extra_trees=True, learning_rate=0.2, num_leaves=5,\n",
      "              objective='regression', random_state=123, reg_alpha=1.3,\n",
      "              reg_lambda=1.1, subsample=0.5)\n",
      "{'extra_trees': True, 'learning_rate': 0.2, 'max_depth': -1, 'n_estimators': 100, 'num_leaves': 5, 'objective': 'regression', 'random_state': 123, 'reg_alpha': 1.3, 'reg_lambda': 1.1, 'subsample': 0.5}\n"
     ]
    },
    {
     "data": {
      "text/plain": [
       "GridSearchCV(cv=5, estimator=LGBMRegressor(),\n",
       "             param_grid={'extra_trees': [True],\n",
       "                         'learning_rate': [0.01, 0.1, 0.2], 'max_depth': [-1],\n",
       "                         'n_estimators': [100],\n",
       "                         'num_leaves': [5, 10, 15, 20, 25, 30],\n",
       "                         'objective': ['regression', 'huber'],\n",
       "                         'random_state': [123],\n",
       "                         'reg_alpha': [1.1, 1.2, 1.3, 1.4, 1.5],\n",
       "                         'reg_lambda': [1.1, 1.2, 1.3, 1.4, 1.5],\n",
       "                         'subsample': [0.5, 0.6, 0.7, 0.8, 0.9, 1.0]},\n",
       "             scoring='neg_mean_absolute_error')"
      ]
     },
     "execution_count": 12,
     "metadata": {},
     "output_type": "execute_result"
    }
   ],
   "source": [
    "gridsearch_by_cluster(safe_pass_df)"
   ]
  },
  {
   "cell_type": "code",
   "execution_count": 13,
   "id": "2fbf0715",
   "metadata": {
    "ExecuteTime": {
     "end_time": "2021-12-25T16:03:48.373525Z",
     "start_time": "2021-12-25T16:03:48.367525Z"
    }
   },
   "outputs": [],
   "source": [
    "safe_forward_lgbm = LGBMRegressor(\n",
    "                num_leaves=5,\n",
    "                learning_rate=0.2,\n",
    "                max_depth=-1,\n",
    "                n_estimators=100,\n",
    "                objective='regression',\n",
    "                random_state=123,\n",
    "                reg_alpha=1.3,\n",
    "                reg_lambda=1.1,\n",
    "                subsample=0.5,\n",
    "                extra_trees=True\n",
    "                )"
   ]
  },
  {
   "cell_type": "code",
   "execution_count": 14,
   "id": "753eb47f",
   "metadata": {
    "ExecuteTime": {
     "end_time": "2021-12-25T16:03:50.386121Z",
     "start_time": "2021-12-25T16:03:50.370121Z"
    }
   },
   "outputs": [],
   "source": [
    "safe_x_train,safe_x_test,safe_y_train,safe_y_test = train_test_split(safe_pass_df.loc[:,independent_value],safe_pass_df.loc[:,dependent_value],test_size=0.2)"
   ]
  },
  {
   "cell_type": "code",
   "execution_count": 15,
   "id": "41cc79d0",
   "metadata": {
    "ExecuteTime": {
     "end_time": "2021-12-25T16:03:50.687265Z",
     "start_time": "2021-12-25T16:03:50.670265Z"
    }
   },
   "outputs": [
    {
     "data": {
      "text/plain": [
       "LGBMRegressor(extra_trees=True, learning_rate=0.2, num_leaves=5,\n",
       "              objective='regression', random_state=123, reg_alpha=1.3,\n",
       "              reg_lambda=1.1, subsample=0.5)"
      ]
     },
     "execution_count": 15,
     "metadata": {},
     "output_type": "execute_result"
    }
   ],
   "source": [
    "safe_forward_lgbm.fit(safe_x_train,safe_y_train)"
   ]
  },
  {
   "cell_type": "code",
   "execution_count": 16,
   "id": "19143991",
   "metadata": {
    "ExecuteTime": {
     "end_time": "2021-12-25T16:03:51.279457Z",
     "start_time": "2021-12-25T16:03:51.269459Z"
    }
   },
   "outputs": [
    {
     "data": {
      "text/plain": [
       "0.24496386491849087"
      ]
     },
     "execution_count": 16,
     "metadata": {},
     "output_type": "execute_result"
    }
   ],
   "source": [
    "safe_y_pred = safe_forward_lgbm.predict(safe_x_test)\n",
    "mean_absolute_error(safe_y_test,safe_y_pred)"
   ]
  },
  {
   "cell_type": "markdown",
   "id": "508a2950",
   "metadata": {},
   "source": [
    "### 데이터 삽입"
   ]
  },
  {
   "cell_type": "code",
   "execution_count": 17,
   "id": "670934f7",
   "metadata": {
    "ExecuteTime": {
     "end_time": "2021-12-25T16:04:17.802129Z",
     "start_time": "2021-12-25T16:04:17.789130Z"
    }
   },
   "outputs": [],
   "source": [
    "forward_df['predict'] = 0\n",
    "\n",
    "safe_pass_df['predict'] = safe_forward_lgbm.predict(safe_pass_df.loc[:,independent_value])\n",
    "\n",
    "safe_index = safe_pass_df.loc[:,independent_value].index\n",
    "\n",
    "forward_df.loc[safe_index,'predict'] = safe_forward_lgbm.predict(safe_pass_df.loc[:,independent_value])"
   ]
  },
  {
   "cell_type": "markdown",
   "id": "395af5a6",
   "metadata": {},
   "source": [
    "## LGBM Regressor 일반패스군 모델 생성"
   ]
  },
  {
   "cell_type": "code",
   "execution_count": 18,
   "id": "233403b1",
   "metadata": {
    "ExecuteTime": {
     "end_time": "2021-12-25T16:12:27.042563Z",
     "start_time": "2021-12-25T16:04:23.998610Z"
    }
   },
   "outputs": [
    {
     "name": "stdout",
     "output_type": "stream",
     "text": [
      "-0.3172677694512983\n",
      "LGBMRegressor(extra_trees=True, num_leaves=5, objective='regression',\n",
      "              random_state=123, reg_alpha=1.2, reg_lambda=1.1, subsample=0.5)\n",
      "{'extra_trees': True, 'learning_rate': 0.1, 'max_depth': -1, 'n_estimators': 100, 'num_leaves': 5, 'objective': 'regression', 'random_state': 123, 'reg_alpha': 1.2, 'reg_lambda': 1.1, 'subsample': 0.5}\n"
     ]
    },
    {
     "data": {
      "text/plain": [
       "GridSearchCV(cv=5, estimator=LGBMRegressor(),\n",
       "             param_grid={'extra_trees': [True],\n",
       "                         'learning_rate': [0.01, 0.1, 0.2], 'max_depth': [-1],\n",
       "                         'n_estimators': [100],\n",
       "                         'num_leaves': [5, 10, 15, 20, 25, 30],\n",
       "                         'objective': ['regression', 'huber'],\n",
       "                         'random_state': [123],\n",
       "                         'reg_alpha': [1.1, 1.2, 1.3, 1.4, 1.5],\n",
       "                         'reg_lambda': [1.1, 1.2, 1.3, 1.4, 1.5],\n",
       "                         'subsample': [0.5, 0.6, 0.7, 0.8, 0.9, 1.0]},\n",
       "             scoring='neg_mean_absolute_error')"
      ]
     },
     "execution_count": 18,
     "metadata": {},
     "output_type": "execute_result"
    }
   ],
   "source": [
    "gridsearch_by_cluster(normal_pass_df)"
   ]
  },
  {
   "cell_type": "code",
   "execution_count": 19,
   "id": "11a3323b",
   "metadata": {
    "ExecuteTime": {
     "end_time": "2021-12-25T16:24:42.828122Z",
     "start_time": "2021-12-25T16:24:42.817124Z"
    }
   },
   "outputs": [],
   "source": [
    "normal_forward_lgbm = LGBMRegressor(\n",
    "                num_leaves=5,\n",
    "                learning_rate=0.1,\n",
    "                max_depth=-1,\n",
    "                objective='regression',\n",
    "                random_state=123,\n",
    "                reg_alpha=1.2,\n",
    "                reg_lambda=1.1,\n",
    "                subsample=0.5,\n",
    "                extra_trees=True\n",
    "                )"
   ]
  },
  {
   "cell_type": "code",
   "execution_count": 20,
   "id": "3b3d1372",
   "metadata": {
    "ExecuteTime": {
     "end_time": "2021-12-25T16:24:43.189464Z",
     "start_time": "2021-12-25T16:24:43.169464Z"
    }
   },
   "outputs": [],
   "source": [
    "normal_x_train,normal_x_test,normal_y_train,normal_y_test = train_test_split(normal_pass_df.loc[:,independent_value],normal_pass_df.loc[:,dependent_value],test_size=0.2,random_state=123)"
   ]
  },
  {
   "cell_type": "code",
   "execution_count": 21,
   "id": "f5384ea2",
   "metadata": {
    "ExecuteTime": {
     "end_time": "2021-12-25T16:24:45.203839Z",
     "start_time": "2021-12-25T16:24:45.179840Z"
    }
   },
   "outputs": [
    {
     "data": {
      "text/plain": [
       "LGBMRegressor(extra_trees=True, num_leaves=5, objective='regression',\n",
       "              random_state=123, reg_alpha=1.2, reg_lambda=1.1, subsample=0.5)"
      ]
     },
     "execution_count": 21,
     "metadata": {},
     "output_type": "execute_result"
    }
   ],
   "source": [
    "normal_forward_lgbm.fit(normal_x_train,normal_y_train)"
   ]
  },
  {
   "cell_type": "code",
   "execution_count": 22,
   "id": "2cc460fb",
   "metadata": {
    "ExecuteTime": {
     "end_time": "2021-12-25T16:24:46.312859Z",
     "start_time": "2021-12-25T16:24:46.294858Z"
    }
   },
   "outputs": [
    {
     "data": {
      "text/plain": [
       "0.3187204816626354"
      ]
     },
     "execution_count": 22,
     "metadata": {},
     "output_type": "execute_result"
    }
   ],
   "source": [
    "normal_y_pred = normal_forward_lgbm.predict(normal_x_test)\n",
    "mean_absolute_error(normal_y_test,normal_y_pred)"
   ]
  },
  {
   "cell_type": "code",
   "execution_count": 23,
   "id": "ed5c3474",
   "metadata": {
    "ExecuteTime": {
     "end_time": "2021-12-25T16:24:48.349590Z",
     "start_time": "2021-12-25T16:24:48.329591Z"
    }
   },
   "outputs": [],
   "source": [
    "normal_pass_df['predict'] = normal_forward_lgbm.predict(normal_pass_df.loc[:,independent_value])"
   ]
  },
  {
   "cell_type": "code",
   "execution_count": 24,
   "id": "f2543c19",
   "metadata": {
    "ExecuteTime": {
     "end_time": "2021-12-25T16:24:48.486591Z",
     "start_time": "2021-12-25T16:24:48.480592Z"
    }
   },
   "outputs": [],
   "source": [
    "normal_index = normal_pass_df.loc[:,independent_value].index"
   ]
  },
  {
   "cell_type": "code",
   "execution_count": 25,
   "id": "fc8dbe3a",
   "metadata": {
    "ExecuteTime": {
     "end_time": "2021-12-25T16:24:48.727392Z",
     "start_time": "2021-12-25T16:24:48.719392Z"
    }
   },
   "outputs": [],
   "source": [
    "forward_df.loc[normal_index,'predict'] = normal_forward_lgbm.predict(normal_pass_df.loc[:,independent_value])"
   ]
  },
  {
   "cell_type": "markdown",
   "id": "1fb1e1b8",
   "metadata": {},
   "source": [
    "# 위험 패스군 모델 생성"
   ]
  },
  {
   "cell_type": "code",
   "execution_count": 26,
   "id": "f918dc1a",
   "metadata": {
    "ExecuteTime": {
     "end_time": "2021-12-25T16:33:57.952871Z",
     "start_time": "2021-12-25T16:24:50.729388Z"
    }
   },
   "outputs": [
    {
     "name": "stdout",
     "output_type": "stream",
     "text": [
      "-0.25953940364196715\n",
      "LGBMRegressor(extra_trees=True, learning_rate=0.2, num_leaves=5,\n",
      "              objective='regression', random_state=123, reg_alpha=1.2,\n",
      "              reg_lambda=1.5, subsample=0.5)\n",
      "{'extra_trees': True, 'learning_rate': 0.2, 'max_depth': -1, 'n_estimators': 100, 'num_leaves': 5, 'objective': 'regression', 'random_state': 123, 'reg_alpha': 1.2, 'reg_lambda': 1.5, 'subsample': 0.5}\n"
     ]
    },
    {
     "data": {
      "text/plain": [
       "GridSearchCV(cv=5, estimator=LGBMRegressor(),\n",
       "             param_grid={'extra_trees': [True],\n",
       "                         'learning_rate': [0.01, 0.1, 0.2], 'max_depth': [-1],\n",
       "                         'n_estimators': [100],\n",
       "                         'num_leaves': [5, 10, 15, 20, 25, 30],\n",
       "                         'objective': ['regression', 'huber'],\n",
       "                         'random_state': [123],\n",
       "                         'reg_alpha': [1.1, 1.2, 1.3, 1.4, 1.5],\n",
       "                         'reg_lambda': [1.1, 1.2, 1.3, 1.4, 1.5],\n",
       "                         'subsample': [0.5, 0.6, 0.7, 0.8, 0.9, 1.0]},\n",
       "             scoring='neg_mean_absolute_error')"
      ]
     },
     "execution_count": 26,
     "metadata": {},
     "output_type": "execute_result"
    }
   ],
   "source": [
    "gridsearch_by_cluster(danger_pass_df)"
   ]
  },
  {
   "cell_type": "code",
   "execution_count": 81,
   "id": "44ece259",
   "metadata": {
    "ExecuteTime": {
     "end_time": "2021-12-25T13:38:16.433586Z",
     "start_time": "2021-12-25T13:38:16.419588Z"
    }
   },
   "outputs": [],
   "source": [
    "danger_forward_lgbm = LGBMRegressor(\n",
    "                num_leaves=10,\n",
    "                learning_rate=0.2,\n",
    "                max_depth=5,\n",
    "                n_estimators=100,\n",
    "                objective='regression',\n",
    "                random_state=123,\n",
    "                reg_alpha=1.2,\n",
    "                reg_lambda=1.4,\n",
    "                subsample=0.5,\n",
    "                extra_trees=True\n",
    "                )"
   ]
  },
  {
   "cell_type": "code",
   "execution_count": 82,
   "id": "57168da4",
   "metadata": {
    "ExecuteTime": {
     "end_time": "2021-12-25T13:38:16.448587Z",
     "start_time": "2021-12-25T13:38:16.437587Z"
    }
   },
   "outputs": [],
   "source": [
    "danger_x_train,danger_x_test,danger_y_train,danger_y_test = train_test_split(danger_pass_df.loc[:,independent_value],danger_pass_df.loc[:,dependent_value],test_size=0.2,random_state=123)"
   ]
  },
  {
   "cell_type": "code",
   "execution_count": 83,
   "id": "44a213c2",
   "metadata": {
    "ExecuteTime": {
     "end_time": "2021-12-25T13:38:16.478586Z",
     "start_time": "2021-12-25T13:38:16.449589Z"
    }
   },
   "outputs": [
    {
     "data": {
      "text/plain": [
       "LGBMRegressor(extra_trees=True, learning_rate=0.2, max_depth=5, num_leaves=10,\n",
       "              objective='regression', random_state=123, reg_alpha=1.2,\n",
       "              reg_lambda=1.4, subsample=0.5)"
      ]
     },
     "execution_count": 83,
     "metadata": {},
     "output_type": "execute_result"
    }
   ],
   "source": [
    "danger_forward_lgbm.fit(danger_x_train,danger_y_train)"
   ]
  },
  {
   "cell_type": "code",
   "execution_count": 84,
   "id": "5a40b1b7",
   "metadata": {
    "ExecuteTime": {
     "end_time": "2021-12-25T13:38:16.493586Z",
     "start_time": "2021-12-25T13:38:16.479588Z"
    }
   },
   "outputs": [
    {
     "data": {
      "text/plain": [
       "0.2768411665197937"
      ]
     },
     "execution_count": 84,
     "metadata": {},
     "output_type": "execute_result"
    }
   ],
   "source": [
    "danger_y_pred = danger_forward_lgbm.predict(danger_x_test)\n",
    "mean_absolute_error(danger_y_test,danger_y_pred)"
   ]
  },
  {
   "cell_type": "code",
   "execution_count": 85,
   "id": "b7d7c55b",
   "metadata": {
    "ExecuteTime": {
     "end_time": "2021-12-25T13:38:16.508587Z",
     "start_time": "2021-12-25T13:38:16.494589Z"
    }
   },
   "outputs": [],
   "source": [
    "danger_pass_df['predict'] = danger_forward_lgbm.predict(danger_pass_df.loc[:,independent_value])"
   ]
  },
  {
   "cell_type": "code",
   "execution_count": 86,
   "id": "41d50d17",
   "metadata": {
    "ExecuteTime": {
     "end_time": "2021-12-25T13:38:16.523586Z",
     "start_time": "2021-12-25T13:38:16.509588Z"
    }
   },
   "outputs": [],
   "source": [
    "danger_index = danger_pass_df.loc[:,independent_value].index"
   ]
  },
  {
   "cell_type": "code",
   "execution_count": 87,
   "id": "dea6fe2e",
   "metadata": {
    "ExecuteTime": {
     "end_time": "2021-12-25T13:38:16.538586Z",
     "start_time": "2021-12-25T13:38:16.524587Z"
    }
   },
   "outputs": [],
   "source": [
    "forward_df.loc[danger_index,'predict'] = danger_forward_lgbm.predict(danger_pass_df.loc[:,independent_value])"
   ]
  },
  {
   "cell_type": "code",
   "execution_count": 88,
   "id": "cc3bf226",
   "metadata": {
    "ExecuteTime": {
     "end_time": "2021-12-25T13:38:16.568587Z",
     "start_time": "2021-12-25T13:38:16.539588Z"
    }
   },
   "outputs": [
    {
     "data": {
      "text/plain": [
       "['./models/forward/forward_pass_kmeans.pkl']"
      ]
     },
     "execution_count": 88,
     "metadata": {},
     "output_type": "execute_result"
    }
   ],
   "source": [
    "import joblib\n",
    "\n",
    "joblib.dump(safe_forward_lgbm, './models/forward/safe_forward_lgbm.pkl')\n",
    "joblib.dump(normal_forward_lgbm, './models/forward/normal_forward_lgbm.pkl')\n",
    "joblib.dump(danger_forward_lgbm, './models/forward/danger_forward_lgbm.pkl')\n",
    "joblib.dump(pass_kmeans, './models/forward/forward_pass_kmeans.pkl')"
   ]
  },
  {
   "cell_type": "markdown",
   "id": "27146545",
   "metadata": {},
   "source": [
    "## 잔차의 정규성 검정"
   ]
  },
  {
   "cell_type": "code",
   "execution_count": 91,
   "id": "b42a42a1",
   "metadata": {
    "ExecuteTime": {
     "end_time": "2021-12-25T13:38:16.928588Z",
     "start_time": "2021-12-25T13:38:16.914590Z"
    }
   },
   "outputs": [
    {
     "data": {
      "text/plain": [
       "ShapiroResult(statistic=0.995090663433075, pvalue=0.003174541285261512)"
      ]
     },
     "execution_count": 91,
     "metadata": {},
     "output_type": "execute_result"
    }
   ],
   "source": [
    "# 정규성 불만족\n",
    "stats.shapiro(residual)"
   ]
  },
  {
   "cell_type": "code",
   "execution_count": 92,
   "id": "f3774933",
   "metadata": {
    "ExecuteTime": {
     "end_time": "2021-12-25T13:38:17.033412Z",
     "start_time": "2021-12-25T13:38:16.929589Z"
    }
   },
   "outputs": [
    {
     "data": {
      "text/plain": [
       "[<matplotlib.lines.Line2D at 0x227ebb750d0>]"
      ]
     },
     "execution_count": 92,
     "metadata": {},
     "output_type": "execute_result"
    },
    {
     "data": {
      "image/png": "[encoded data removed]",
      "text/plain": [
       "<Figure size 432x288 with 1 Axes>"
      ]
     },
     "metadata": {
      "needs_background": "light"
     },
     "output_type": "display_data"
    }
   ],
   "source": [
    "sr = stats.zscore(residual)\n",
    "(x, y), _ = stats.probplot(sr)\n",
    "sns.scatterplot(x, y)\n",
    "plt.plot([-3, 3], [-3, 3], '--', color='grey')"
   ]
  },
  {
   "cell_type": "markdown",
   "id": "6e0ee93e",
   "metadata": {},
   "source": [
    "## 잔차의 등분산성 검정"
   ]
  },
  {
   "cell_type": "code",
   "execution_count": 93,
   "id": "ac283f13",
   "metadata": {
    "ExecuteTime": {
     "end_time": "2021-12-25T13:38:17.333411Z",
     "start_time": "2021-12-25T13:38:17.035412Z"
    }
   },
   "outputs": [
    {
     "data": {
      "text/plain": [
       "<AxesSubplot:xlabel='predict'>"
      ]
     },
     "execution_count": 93,
     "metadata": {},
     "output_type": "execute_result"
    },
    {
     "data": {
      "image/png": "[encoded data removed]",
      "text/plain": [
       "<Figure size 432x288 with 1 Axes>"
      ]
     },
     "metadata": {
      "needs_background": "light"
     },
     "output_type": "display_data"
    }
   ],
   "source": [
    "sns.regplot(forward_df['predict'], np.sqrt(np.abs(sr)), lowess=True, line_kws={'color': 'red'})"
   ]
  },
  {
   "cell_type": "code",
   "execution_count": 94,
   "id": "436baa05",
   "metadata": {
    "ExecuteTime": {
     "end_time": "2021-12-25T13:38:17.348412Z",
     "start_time": "2021-12-25T13:38:17.334413Z"
    }
   },
   "outputs": [
    {
     "data": {
      "text/plain": [
       "LeveneResult(statistic=100.05115790199757, pvalue=5.300429952854963e-23)"
      ]
     },
     "execution_count": 94,
     "metadata": {},
     "output_type": "execute_result"
    }
   ],
   "source": [
    "# 등분산성 불만족\n",
    "stats.levene(forward_df['평균획득승점/경기'],forward_df['predict'])"
   ]
  },
  {
   "cell_type": "markdown",
   "id": "783f0b5e",
   "metadata": {},
   "source": [
    "## 잔차의 독립성 검정"
   ]
  },
  {
   "cell_type": "code",
   "execution_count": 95,
   "id": "4b3caf3b",
   "metadata": {
    "ExecuteTime": {
     "end_time": "2021-12-25T13:38:17.363421Z",
     "start_time": "2021-12-25T13:38:17.349413Z"
    }
   },
   "outputs": [
    {
     "data": {
      "text/plain": [
       "1.2940596905801485"
      ]
     },
     "execution_count": 95,
     "metadata": {},
     "output_type": "execute_result"
    }
   ],
   "source": [
    "from statsmodels.stats.stattools import durbin_watson\n",
    "\n",
    "# 독립성 불만족\n",
    "durbin_watson(residual)"
   ]
  },
  {
   "cell_type": "code",
   "execution_count": 97,
   "id": "613d91ce",
   "metadata": {
    "ExecuteTime": {
     "end_time": "2021-12-25T14:35:18.729274Z",
     "start_time": "2021-12-25T14:35:18.694755Z"
    }
   },
   "outputs": [
    {
     "data": {
      "text/plain": [
       "0.23162944174486666"
      ]
     },
     "execution_count": 97,
     "metadata": {},
     "output_type": "execute_result"
    }
   ],
   "source": [
    "mean_absolute_error(forward_df['평균획득승점/경기'],forward_df['predict'])"
   ]
  },
  {
   "cell_type": "code",
   "execution_count": 100,
   "id": "73f7e8f8",
   "metadata": {
    "ExecuteTime": {
     "end_time": "2021-12-25T14:35:38.994215Z",
     "start_time": "2021-12-25T14:35:38.977216Z"
    }
   },
   "outputs": [
    {
     "data": {
      "text/plain": [
       "0.2917931302780201"
      ]
     },
     "execution_count": 100,
     "metadata": {},
     "output_type": "execute_result"
    }
   ],
   "source": [
    "np.sqrt(mean_squared_error(forward_df['평균획득승점/경기'],forward_df['predict']))"
   ]
  }
 ],
 "metadata": {
  "kernelspec": {
   "display_name": "Python 3 (ipykernel)",
   "language": "python",
   "name": "python3"
  },
  "language_info": {
   "codemirror_mode": {
    "name": "ipython",
    "version": 3
   },
   "file_extension": ".py",
   "mimetype": "text/x-python",
   "name": "python",
   "nbconvert_exporter": "python",
   "pygments_lexer": "ipython3",
   "version": "3.9.7"
  },
  "toc": {
   "base_numbering": 1,
   "nav_menu": {},
   "number_sections": true,
   "sideBar": true,
   "skip_h1_title": false,
   "title_cell": "Table of Contents",
   "title_sidebar": "Contents",
   "toc_cell": false,
   "toc_position": {},
   "toc_section_display": true,
   "toc_window_display": false
  },
  "varInspector": {
   "cols": {
    "lenName": 16,
    "lenType": 16,
    "lenVar": 40
   },
   "kernels_config": {
    "python": {
     "delete_cmd_postfix": "",
     "delete_cmd_prefix": "del ",
     "library": "var_list.py",
     "varRefreshCmd": "print(var_dic_list())"
    },
    "r": {
     "delete_cmd_postfix": ") ",
     "delete_cmd_prefix": "rm(",
     "library": "var_list.r",
     "varRefreshCmd": "cat(var_dic_list()) "
    }
   },
   "position": {
    "height": "144.83px",
    "left": "1373.42px",
    "right": "20px",
    "top": "128.983px",
    "width": "350px"
   },
   "types_to_exclude": [
    "module",
    "function",
    "builtin_function_or_method",
    "instance",
    "_Feature"
   ],
   "window_display": false
  }
 },
 "nbformat": 4,
 "nbformat_minor": 5
}
