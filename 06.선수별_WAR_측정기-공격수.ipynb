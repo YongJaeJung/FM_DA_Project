{
 "cells": [
  {
   "cell_type": "markdown",
   "id": "3f7b833e",
   "metadata": {},
   "source": [
    "# 필요한 라이브러리 import"
   ]
  },
  {
   "cell_type": "code",
   "execution_count": 1,
   "id": "ecdb0774",
   "metadata": {
    "ExecuteTime": {
     "end_time": "2021-12-31T04:39:04.490711Z",
     "start_time": "2021-12-31T04:39:01.334326Z"
    }
   },
   "outputs": [],
   "source": [
    "import csv\n",
    "import pandas as pd\n",
    "import os\n",
    "import re\n",
    "import numpy as np\n",
    "import seaborn as sns\n",
    "import matplotlib.pyplot as plt\n",
    "from collections import defaultdict\n",
    "import warnings\n",
    "import pickle\n",
    "plt.rc('font',family='Malgun Gothic')\n",
    "plt.rc('font',size=10)\n",
    "from sklearn.metrics import mean_absolute_error,mean_squared_error\n",
    "from sklearn.decomposition import PCA\n",
    "from sklearn.preprocessing import StandardScaler\n",
    "\n",
    "from tensorflow.keras.models import load_model\n",
    "import tensorflow as tf\n",
    "import joblib\n",
    "warnings.filterwarnings(action='ignore')"
   ]
  },
  {
   "cell_type": "markdown",
   "id": "59ee8c8b",
   "metadata": {},
   "source": [
    "# 모델,스케일러,데이터 객체 로드"
   ]
  },
  {
   "cell_type": "code",
   "execution_count": 2,
   "id": "radio-conditions",
   "metadata": {
    "ExecuteTime": {
     "end_time": "2021-12-31T04:39:04.565712Z",
     "start_time": "2021-12-31T04:39:04.491712Z"
    }
   },
   "outputs": [
    {
     "data": {
      "text/html": [
       "<div>\n",
       "<style scoped>\n",
       "    .dataframe tbody tr th:only-of-type {\n",
       "        vertical-align: middle;\n",
       "    }\n",
       "\n",
       "    .dataframe tbody tr th {\n",
       "        vertical-align: top;\n",
       "    }\n",
       "\n",
       "    .dataframe thead th {\n",
       "        text-align: right;\n",
       "    }\n",
       "</style>\n",
       "<table border=\"1\" class=\"dataframe\">\n",
       "  <thead>\n",
       "    <tr style=\"text-align: right;\">\n",
       "      <th></th>\n",
       "      <th>이름</th>\n",
       "      <th>시즌</th>\n",
       "      <th>포지션</th>\n",
       "      <th>구단</th>\n",
       "      <th>리그</th>\n",
       "      <th>골</th>\n",
       "      <th>도움</th>\n",
       "      <th>임대 기간</th>\n",
       "      <th>승</th>\n",
       "      <th>무</th>\n",
       "      <th>...</th>\n",
       "      <th>공중 A/90</th>\n",
       "      <th>태클 성공률</th>\n",
       "      <th>경기당 패스 시도/90</th>\n",
       "      <th>경기당 패스 성공/90</th>\n",
       "      <th>K Ps/90</th>\n",
       "      <th>태클 성공/90</th>\n",
       "      <th>드리블 성공/90</th>\n",
       "      <th>헤더 성공/90</th>\n",
       "      <th>Cr A/90</th>\n",
       "      <th>평균획득승점/경기</th>\n",
       "    </tr>\n",
       "  </thead>\n",
       "  <tbody>\n",
       "    <tr>\n",
       "      <th>0</th>\n",
       "      <td>Teemu Pukki</td>\n",
       "      <td>2021-2022</td>\n",
       "      <td>공격수</td>\n",
       "      <td>노리치</td>\n",
       "      <td>잉글랜드 프리미어 리그</td>\n",
       "      <td>7</td>\n",
       "      <td>2</td>\n",
       "      <td>0</td>\n",
       "      <td>7</td>\n",
       "      <td>11</td>\n",
       "      <td>...</td>\n",
       "      <td>7.28</td>\n",
       "      <td>100</td>\n",
       "      <td>30.64</td>\n",
       "      <td>26.0</td>\n",
       "      <td>0.8</td>\n",
       "      <td>0.88</td>\n",
       "      <td>0.98</td>\n",
       "      <td>3.39</td>\n",
       "      <td>0.58</td>\n",
       "      <td>0.94</td>\n",
       "    </tr>\n",
       "  </tbody>\n",
       "</table>\n",
       "<p>1 rows × 32 columns</p>\n",
       "</div>"
      ],
      "text/plain": [
       "            이름         시즌  포지션   구단            리그  골  도움 임대 기간  승   무  ...  \\\n",
       "0  Teemu Pukki  2021-2022  공격수  노리치  잉글랜드 프리미어 리그  7   2     0  7  11  ...   \n",
       "\n",
       "   공중 A/90  태클 성공률  경기당 패스 시도/90  경기당 패스 성공/90  K Ps/90  태클 성공/90  드리블 성공/90  \\\n",
       "0     7.28     100         30.64          26.0      0.8      0.88       0.98   \n",
       "\n",
       "   헤더 성공/90  Cr A/90  평균획득승점/경기  \n",
       "0      3.39     0.58       0.94  \n",
       "\n",
       "[1 rows x 32 columns]"
      ]
     },
     "execution_count": 2,
     "metadata": {},
     "output_type": "execute_result"
    }
   ],
   "source": [
    "with open('./models/forward/forward_qt.pickle','rb') as f:\n",
    "    forward_po = pickle.load(f)\n",
    "\n",
    "forward_model = load_model('./models/forward/forward_nn_high.h5')\n",
    "\n",
    "premier_df = pd.read_csv('./datas/NEW_FM_DATA_MERGED/2021-2022/2021-2022-PremierLeague.csv')\n",
    "premier_df.rename(columns={'Cr C/A':'크로스 성공률','FA':'파울 획득','Int/90':'인터셉트/90','공중 A/90':'공중볼시도/90','K Ps/90':'키패스/90','Cr A/90':'크로스 시도/90'},inplace=True)\n",
    "premier_df = premier_df.astype({'골':np.int64,'도움':np.int64,'파울 획득':np.int64,'태클 성공률':np.int64})"
   ]
  },
  {
   "cell_type": "markdown",
   "id": "9f1d54ea",
   "metadata": {},
   "source": [
    "# 데이터 변환"
   ]
  },
  {
   "cell_type": "code",
   "execution_count": 4,
   "id": "8d7775c1",
   "metadata": {
    "ExecuteTime": {
     "end_time": "2021-12-31T04:39:04.610723Z",
     "start_time": "2021-12-31T04:39:04.596711Z"
    }
   },
   "outputs": [],
   "source": [
    "forward_df = premier_df[premier_df['포지션']=='공격수']\n",
    "forward_df = forward_df.reset_index(drop=True)\n",
    "\n",
    "# Goal_Shoot_linear\n",
    "forward_df['GSL'] = (forward_df['경기당 유효 슈팅/90']+0.5) + (forward_df['경기당 슈팅/90']) + (forward_df['골']*1.3)\n",
    "\n",
    "# PSTL = Pass sucess try linear\n",
    "forward_df['PSTL'] = (forward_df['경기당 패스 성공/90']) + (forward_df['경기당 패스 시도/90'])\n",
    "\n",
    "# CACCL = Cross Attemp Cross Complete Linear\n",
    "forward_df['CACCL'] = (forward_df['크로스 시도/90']) + (forward_df['크로스 성공률'])\n",
    "\n",
    "\n",
    "# 독립 변수, 종속 변수 상세\n",
    "independent_value = {'CACCL','GSL','기회 창출/90','도움','드리블 성공/90','태클 성공/90','파울 획득','헤더 성공/90'}\n",
    "\n",
    "dependent_value = {'평균획득승점/경기'}"
   ]
  },
  {
   "cell_type": "markdown",
   "id": "454d26c1",
   "metadata": {
    "ExecuteTime": {
     "end_time": "2021-12-31T04:39:04.671557Z",
     "start_time": "2021-12-31T04:39:04.657547Z"
    }
   },
   "source": [
    "# 독립변수 스케일링"
   ]
  },
  {
   "cell_type": "code",
   "execution_count": 9,
   "id": "54553286",
   "metadata": {
    "ExecuteTime": {
     "end_time": "2021-12-31T04:39:04.686650Z",
     "start_time": "2021-12-31T04:39:04.672563Z"
    }
   },
   "outputs": [],
   "source": [
    "forward_df.loc[:,independent_value] = forward_po.transform(forward_df.loc[:,independent_value])"
   ]
  },
  {
   "cell_type": "markdown",
   "id": "d9502493",
   "metadata": {
    "ExecuteTime": {
     "end_time": "2021-12-31T04:39:04.701664Z",
     "start_time": "2021-12-31T04:39:04.688652Z"
    }
   },
   "source": [
    "# PPG 예측"
   ]
  },
  {
   "cell_type": "code",
   "execution_count": 11,
   "id": "e4eddbb9",
   "metadata": {
    "ExecuteTime": {
     "end_time": "2021-12-31T04:39:04.836687Z",
     "start_time": "2021-12-31T04:39:04.702668Z"
    }
   },
   "outputs": [],
   "source": [
    "forward_df['예측PPG']=forward_model.predict(forward_df.loc[:,independent_value])"
   ]
  },
  {
   "cell_type": "markdown",
   "id": "a1bc07bb",
   "metadata": {},
   "source": [
    "# WAR 계산 (PPG - Min_PPG) + 1"
   ]
  },
  {
   "cell_type": "code",
   "execution_count": 13,
   "id": "2625c17d",
   "metadata": {
    "ExecuteTime": {
     "end_time": "2021-12-31T04:39:04.882239Z",
     "start_time": "2021-12-31T04:39:04.867685Z"
    }
   },
   "outputs": [
    {
     "data": {
      "text/plain": [
       "2.3768210411071777"
      ]
     },
     "execution_count": 13,
     "metadata": {},
     "output_type": "execute_result"
    }
   ],
   "source": [
    "forward_min = np.min(forward_df['예측PPG'].tolist())\n",
    "forward_df['WAR'] = forward_df['예측PPG'].map(lambda x : x-forward_min+1)"
   ]
  },
  {
   "cell_type": "markdown",
   "id": "fdf032c6",
   "metadata": {},
   "source": [
    "# 독립변수를 알아볼 수 있게 다시 복원"
   ]
  },
  {
   "cell_type": "code",
   "execution_count": 15,
   "id": "f5a93e26",
   "metadata": {
    "ExecuteTime": {
     "end_time": "2021-12-31T04:39:04.911980Z",
     "start_time": "2021-12-31T04:39:04.898232Z"
    }
   },
   "outputs": [],
   "source": [
    "forward_df.loc[:,independent_value] = forward_po.inverse_transform(forward_df.loc[:,independent_value])"
   ]
  },
  {
   "cell_type": "markdown",
   "id": "ee685786",
   "metadata": {},
   "source": [
    "# WAR 확인"
   ]
  },
  {
   "cell_type": "code",
   "execution_count": 16,
   "id": "a0da1f60",
   "metadata": {
    "ExecuteTime": {
     "end_time": "2021-12-31T04:39:04.926890Z",
     "start_time": "2021-12-31T04:39:04.912985Z"
    }
   },
   "outputs": [],
   "source": [
    "forward_war = forward_df.sort_values(by='WAR',ascending=False).copy()\n",
    "forward_war = forward_war.reset_index(drop=True)"
   ]
  },
  {
   "cell_type": "code",
   "execution_count": 17,
   "id": "a040daad",
   "metadata": {
    "ExecuteTime": {
     "end_time": "2021-12-31T04:39:04.941892Z",
     "start_time": "2021-12-31T04:39:04.927891Z"
    }
   },
   "outputs": [
    {
     "data": {
      "text/html": [
       "<div>\n",
       "<style scoped>\n",
       "    .dataframe tbody tr th:only-of-type {\n",
       "        vertical-align: middle;\n",
       "    }\n",
       "\n",
       "    .dataframe tbody tr th {\n",
       "        vertical-align: top;\n",
       "    }\n",
       "\n",
       "    .dataframe thead th {\n",
       "        text-align: right;\n",
       "    }\n",
       "</style>\n",
       "<table border=\"1\" class=\"dataframe\">\n",
       "  <thead>\n",
       "    <tr style=\"text-align: right;\">\n",
       "      <th></th>\n",
       "      <th>이름</th>\n",
       "      <th>시즌</th>\n",
       "      <th>골</th>\n",
       "      <th>도움</th>\n",
       "      <th>WAR</th>\n",
       "    </tr>\n",
       "  </thead>\n",
       "  <tbody>\n",
       "    <tr>\n",
       "      <th>0</th>\n",
       "      <td>Jadon Sancho</td>\n",
       "      <td>2021-2022</td>\n",
       "      <td>15</td>\n",
       "      <td>14.0</td>\n",
       "      <td>2.188231</td>\n",
       "    </tr>\n",
       "    <tr>\n",
       "      <th>1</th>\n",
       "      <td>Harry Kane</td>\n",
       "      <td>2021-2022</td>\n",
       "      <td>25</td>\n",
       "      <td>12.0</td>\n",
       "      <td>2.140416</td>\n",
       "    </tr>\n",
       "    <tr>\n",
       "      <th>2</th>\n",
       "      <td>Mohamed Salah</td>\n",
       "      <td>2021-2022</td>\n",
       "      <td>19</td>\n",
       "      <td>8.0</td>\n",
       "      <td>2.135593</td>\n",
       "    </tr>\n",
       "    <tr>\n",
       "      <th>3</th>\n",
       "      <td>Heung-Min Son</td>\n",
       "      <td>2021-2022</td>\n",
       "      <td>21</td>\n",
       "      <td>6.0</td>\n",
       "      <td>2.131160</td>\n",
       "    </tr>\n",
       "    <tr>\n",
       "      <th>4</th>\n",
       "      <td>Cristiano Ronaldo</td>\n",
       "      <td>2021-2022</td>\n",
       "      <td>21</td>\n",
       "      <td>9.0</td>\n",
       "      <td>2.073582</td>\n",
       "    </tr>\n",
       "    <tr>\n",
       "      <th>5</th>\n",
       "      <td>Raheem Sterling</td>\n",
       "      <td>2021-2022</td>\n",
       "      <td>10</td>\n",
       "      <td>6.0</td>\n",
       "      <td>2.058792</td>\n",
       "    </tr>\n",
       "    <tr>\n",
       "      <th>6</th>\n",
       "      <td>Kai Havertz</td>\n",
       "      <td>2021-2022</td>\n",
       "      <td>22</td>\n",
       "      <td>8.0</td>\n",
       "      <td>2.050762</td>\n",
       "    </tr>\n",
       "    <tr>\n",
       "      <th>7</th>\n",
       "      <td>Chris Wood</td>\n",
       "      <td>2021-2022</td>\n",
       "      <td>22</td>\n",
       "      <td>1.0</td>\n",
       "      <td>2.045957</td>\n",
       "    </tr>\n",
       "    <tr>\n",
       "      <th>8</th>\n",
       "      <td>Sadio Mané</td>\n",
       "      <td>2021-2022</td>\n",
       "      <td>13</td>\n",
       "      <td>4.0</td>\n",
       "      <td>2.044212</td>\n",
       "    </tr>\n",
       "    <tr>\n",
       "      <th>9</th>\n",
       "      <td>Odsonne Edouard</td>\n",
       "      <td>2021-2022</td>\n",
       "      <td>21</td>\n",
       "      <td>1.0</td>\n",
       "      <td>2.024609</td>\n",
       "    </tr>\n",
       "  </tbody>\n",
       "</table>\n",
       "</div>"
      ],
      "text/plain": [
       "                  이름         시즌   골    도움       WAR\n",
       "0       Jadon Sancho  2021-2022  15  14.0  2.188231\n",
       "1         Harry Kane  2021-2022  25  12.0  2.140416\n",
       "2      Mohamed Salah  2021-2022  19   8.0  2.135593\n",
       "3      Heung-Min Son  2021-2022  21   6.0  2.131160\n",
       "4  Cristiano Ronaldo  2021-2022  21   9.0  2.073582\n",
       "5    Raheem Sterling  2021-2022  10   6.0  2.058792\n",
       "6        Kai Havertz  2021-2022  22   8.0  2.050762\n",
       "7         Chris Wood  2021-2022  22   1.0  2.045957\n",
       "8         Sadio Mané  2021-2022  13   4.0  2.044212\n",
       "9    Odsonne Edouard  2021-2022  21   1.0  2.024609"
      ]
     },
     "execution_count": 17,
     "metadata": {},
     "output_type": "execute_result"
    }
   ],
   "source": [
    "forward_war[['이름','시즌','골', '도움','WAR']].sort_values(by='WAR',ascending=False).head(10)"
   ]
  }
 ],
 "metadata": {
  "kernelspec": {
   "display_name": "Python 3 (ipykernel)",
   "language": "python",
   "name": "python3"
  },
  "language_info": {
   "codemirror_mode": {
    "name": "ipython",
    "version": 3
   },
   "file_extension": ".py",
   "mimetype": "text/x-python",
   "name": "python",
   "nbconvert_exporter": "python",
   "pygments_lexer": "ipython3",
   "version": "3.7.11"
  },
  "toc": {
   "base_numbering": 1,
   "nav_menu": {},
   "number_sections": true,
   "sideBar": true,
   "skip_h1_title": false,
   "title_cell": "Table of Contents",
   "title_sidebar": "Contents",
   "toc_cell": false,
   "toc_position": {},
   "toc_section_display": true,
   "toc_window_display": false
  },
  "varInspector": {
   "cols": {
    "lenName": 16,
    "lenType": 16,
    "lenVar": 40
   },
   "kernels_config": {
    "python": {
     "delete_cmd_postfix": "",
     "delete_cmd_prefix": "del ",
     "library": "var_list.py",
     "varRefreshCmd": "print(var_dic_list())"
    },
    "r": {
     "delete_cmd_postfix": ") ",
     "delete_cmd_prefix": "rm(",
     "library": "var_list.r",
     "varRefreshCmd": "cat(var_dic_list()) "
    }
   },
   "types_to_exclude": [
    "module",
    "function",
    "builtin_function_or_method",
    "instance",
    "_Feature"
   ],
   "window_display": false
  }
 },
 "nbformat": 4,
 "nbformat_minor": 5
}
