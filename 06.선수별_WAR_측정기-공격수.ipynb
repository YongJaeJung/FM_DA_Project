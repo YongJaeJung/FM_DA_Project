{
 "cells": [
  {
   "cell_type": "markdown",
   "id": "3f7b833e",
   "metadata": {},
   "source": [
    "# 필요한 라이브러리 import"
   ]
  },
  {
   "cell_type": "code",
   "execution_count": 20,
   "id": "ecdb0774",
   "metadata": {
    "ExecuteTime": {
     "end_time": "2022-01-05T14:49:31.066268Z",
     "start_time": "2022-01-05T14:49:31.060396Z"
    }
   },
   "outputs": [],
   "source": [
    "import csv\n",
    "import pandas as pd\n",
    "import os\n",
    "import re\n",
    "import numpy as np\n",
    "import seaborn as sns\n",
    "import matplotlib.pyplot as plt\n",
    "from collections import defaultdict\n",
    "import warnings\n",
    "import pickle\n",
    "plt.rc('font',family='Malgun Gothic')\n",
    "plt.rc('font',size=10)\n",
    "from sklearn.metrics import mean_absolute_error,mean_squared_error\n",
    "from sklearn.decomposition import PCA\n",
    "from sklearn.preprocessing import StandardScaler\n",
    "\n",
    "from tensorflow.keras.models import load_model\n",
    "import tensorflow as tf\n",
    "import joblib\n",
    "warnings.filterwarnings(action='ignore')"
   ]
  },
  {
   "cell_type": "markdown",
   "id": "59ee8c8b",
   "metadata": {},
   "source": [
    "# 모델,스케일러,데이터 객체 로드"
   ]
  },
  {
   "cell_type": "code",
   "execution_count": 21,
   "id": "radio-conditions",
   "metadata": {
    "ExecuteTime": {
     "end_time": "2022-01-05T14:49:31.141864Z",
     "start_time": "2022-01-05T14:49:31.067269Z"
    }
   },
   "outputs": [],
   "source": [
    "with open('./models/forward/forward_qt.pickle','rb') as f:\n",
    "    forward_po = pickle.load(f)\n",
    "\n",
    "forward_model = load_model('./models/forward/forward_nn_high.h5')\n",
    "\n",
    "premier_df = pd.read_csv('./datas/NEW_FM_DATA_MERGED/2021-2022/2021-2022-PremierLeague.csv')\n",
    "premier_df.rename(columns={'Cr C/A':'크로스 성공률','FA':'파울 획득','Int/90':'인터셉트/90','공중 A/90':'공중볼시도/90','K Ps/90':'키패스/90','Cr A/90':'크로스 시도/90'},inplace=True)\n",
    "premier_df = premier_df.astype({'파울 획득':np.int64,'태클 성공률':np.int64})"
   ]
  },
  {
   "cell_type": "markdown",
   "id": "9f1d54ea",
   "metadata": {},
   "source": [
    "# 데이터 변환"
   ]
  },
  {
   "cell_type": "code",
   "execution_count": 22,
   "id": "8d7775c1",
   "metadata": {
    "ExecuteTime": {
     "end_time": "2022-01-05T14:49:31.156865Z",
     "start_time": "2022-01-05T14:49:31.142866Z"
    }
   },
   "outputs": [],
   "source": [
    "forward_df = premier_df[premier_df['포지션']=='공격수']\n",
    "forward_df = forward_df.reset_index(drop=True)\n",
    "\n",
    "# Goal_Shoot_linear\n",
    "forward_df['GSL'] = (forward_df['경기당 유효 슈팅/90']+0.5) + (forward_df['경기당 슈팅/90']) + (forward_df['골/90']*1.3)\n",
    "\n",
    "# PSTL = Pass sucess try linear\n",
    "forward_df['PSTL'] = (forward_df['경기당 패스 성공/90']) + (forward_df['경기당 패스 시도/90'])\n",
    "\n",
    "# CACCL = Cross Attemp Cross Complete Linear\n",
    "forward_df['CACCL'] = (forward_df['크로스 시도/90']) + (forward_df['크로스 성공률'])\n",
    "\n",
    "\n",
    "# 독립 변수, 종속 변수 상세\n",
    "independent_value = {'CACCL','GSL','기회 창출/90','도움/90','드리블 성공/90','태클 성공/90','파울 획득','헤더 성공/90'}\n",
    "\n",
    "dependent_value = {'평균획득승점/경기'}"
   ]
  },
  {
   "cell_type": "markdown",
   "id": "454d26c1",
   "metadata": {
    "ExecuteTime": {
     "end_time": "2021-12-31T04:39:04.671557Z",
     "start_time": "2021-12-31T04:39:04.657547Z"
    }
   },
   "source": [
    "# 독립변수 스케일링"
   ]
  },
  {
   "cell_type": "code",
   "execution_count": 23,
   "id": "54553286",
   "metadata": {
    "ExecuteTime": {
     "end_time": "2022-01-05T14:49:31.172509Z",
     "start_time": "2022-01-05T14:49:31.157866Z"
    }
   },
   "outputs": [],
   "source": [
    "forward_df.loc[:,independent_value] = forward_po.transform(forward_df.loc[:,independent_value])"
   ]
  },
  {
   "cell_type": "markdown",
   "id": "d9502493",
   "metadata": {
    "ExecuteTime": {
     "end_time": "2021-12-31T04:39:04.701664Z",
     "start_time": "2021-12-31T04:39:04.688652Z"
    }
   },
   "source": [
    "# PPG 예측"
   ]
  },
  {
   "cell_type": "code",
   "execution_count": 24,
   "id": "e4eddbb9",
   "metadata": {
    "ExecuteTime": {
     "end_time": "2022-01-05T14:49:31.247969Z",
     "start_time": "2022-01-05T14:49:31.173510Z"
    }
   },
   "outputs": [],
   "source": [
    "forward_df['예측PPG']=forward_model.predict(forward_df.loc[:,independent_value])"
   ]
  },
  {
   "cell_type": "markdown",
   "id": "a1bc07bb",
   "metadata": {},
   "source": [
    "# WAR 계산 (PPG - Min_PPG) + 1"
   ]
  },
  {
   "cell_type": "code",
   "execution_count": 25,
   "id": "2625c17d",
   "metadata": {
    "ExecuteTime": {
     "end_time": "2022-01-05T14:49:31.263155Z",
     "start_time": "2022-01-05T14:49:31.248970Z"
    }
   },
   "outputs": [],
   "source": [
    "forward_min = np.min(forward_df['예측PPG'].tolist())\n",
    "forward_df['WAR'] = forward_df['예측PPG'].map(lambda x : x-forward_min+1)"
   ]
  },
  {
   "cell_type": "markdown",
   "id": "fdf032c6",
   "metadata": {},
   "source": [
    "# 독립변수를 알아볼 수 있게 다시 복원"
   ]
  },
  {
   "cell_type": "code",
   "execution_count": 26,
   "id": "f5a93e26",
   "metadata": {
    "ExecuteTime": {
     "end_time": "2022-01-05T14:49:31.278177Z",
     "start_time": "2022-01-05T14:49:31.264156Z"
    }
   },
   "outputs": [],
   "source": [
    "forward_df.loc[:,independent_value] = forward_po.inverse_transform(forward_df.loc[:,independent_value])"
   ]
  },
  {
   "cell_type": "markdown",
   "id": "ee685786",
   "metadata": {},
   "source": [
    "# WAR 확인"
   ]
  },
  {
   "cell_type": "code",
   "execution_count": 27,
   "id": "a0da1f60",
   "metadata": {
    "ExecuteTime": {
     "end_time": "2022-01-05T14:49:31.292871Z",
     "start_time": "2022-01-05T14:49:31.279178Z"
    }
   },
   "outputs": [],
   "source": [
    "forward_war = forward_df.sort_values(by='WAR',ascending=False).copy()\n",
    "forward_war = forward_war.reset_index(drop=True)"
   ]
  },
  {
   "cell_type": "code",
   "execution_count": 28,
   "id": "a040daad",
   "metadata": {
    "ExecuteTime": {
     "end_time": "2022-01-05T14:49:31.307900Z",
     "start_time": "2022-01-05T14:49:31.293872Z"
    }
   },
   "outputs": [
    {
     "data": {
      "text/html": [
       "<div>\n",
       "<style scoped>\n",
       "    .dataframe tbody tr th:only-of-type {\n",
       "        vertical-align: middle;\n",
       "    }\n",
       "\n",
       "    .dataframe tbody tr th {\n",
       "        vertical-align: top;\n",
       "    }\n",
       "\n",
       "    .dataframe thead th {\n",
       "        text-align: right;\n",
       "    }\n",
       "</style>\n",
       "<table border=\"1\" class=\"dataframe\">\n",
       "  <thead>\n",
       "    <tr style=\"text-align: right;\">\n",
       "      <th></th>\n",
       "      <th>이름</th>\n",
       "      <th>시즌</th>\n",
       "      <th>골/90</th>\n",
       "      <th>도움/90</th>\n",
       "      <th>WAR</th>\n",
       "    </tr>\n",
       "  </thead>\n",
       "  <tbody>\n",
       "    <tr>\n",
       "      <th>0</th>\n",
       "      <td>Romelu Lukaku</td>\n",
       "      <td>2021-2022</td>\n",
       "      <td>0.655738</td>\n",
       "      <td>0.000000</td>\n",
       "      <td>12.971981</td>\n",
       "    </tr>\n",
       "    <tr>\n",
       "      <th>1</th>\n",
       "      <td>Diogo Jota</td>\n",
       "      <td>2021-2022</td>\n",
       "      <td>0.372561</td>\n",
       "      <td>0.159669</td>\n",
       "      <td>9.310770</td>\n",
       "    </tr>\n",
       "    <tr>\n",
       "      <th>2</th>\n",
       "      <td>Alexandre Lacazette</td>\n",
       "      <td>2021-2022</td>\n",
       "      <td>0.701950</td>\n",
       "      <td>0.000000</td>\n",
       "      <td>8.898141</td>\n",
       "    </tr>\n",
       "    <tr>\n",
       "      <th>3</th>\n",
       "      <td>Dominic Calvert-Lewin</td>\n",
       "      <td>2021-2022</td>\n",
       "      <td>0.527344</td>\n",
       "      <td>0.050223</td>\n",
       "      <td>8.161325</td>\n",
       "    </tr>\n",
       "    <tr>\n",
       "      <th>4</th>\n",
       "      <td>Harry Kane</td>\n",
       "      <td>2021-2022</td>\n",
       "      <td>0.539439</td>\n",
       "      <td>0.258931</td>\n",
       "      <td>8.100398</td>\n",
       "    </tr>\n",
       "    <tr>\n",
       "      <th>5</th>\n",
       "      <td>Kelechi Ịheanachọ</td>\n",
       "      <td>2021-2022</td>\n",
       "      <td>0.459966</td>\n",
       "      <td>0.000000</td>\n",
       "      <td>8.015787</td>\n",
       "    </tr>\n",
       "    <tr>\n",
       "      <th>6</th>\n",
       "      <td>Edinson Cavani</td>\n",
       "      <td>2021-2022</td>\n",
       "      <td>0.836098</td>\n",
       "      <td>0.119443</td>\n",
       "      <td>8.010510</td>\n",
       "    </tr>\n",
       "    <tr>\n",
       "      <th>7</th>\n",
       "      <td>Chris Wood</td>\n",
       "      <td>2021-2022</td>\n",
       "      <td>0.558691</td>\n",
       "      <td>0.025395</td>\n",
       "      <td>7.567613</td>\n",
       "    </tr>\n",
       "    <tr>\n",
       "      <th>8</th>\n",
       "      <td>Che Adams</td>\n",
       "      <td>2021-2022</td>\n",
       "      <td>0.555556</td>\n",
       "      <td>0.029240</td>\n",
       "      <td>7.502624</td>\n",
       "    </tr>\n",
       "    <tr>\n",
       "      <th>9</th>\n",
       "      <td>Cristiano Ronaldo</td>\n",
       "      <td>2021-2022</td>\n",
       "      <td>0.561831</td>\n",
       "      <td>0.240785</td>\n",
       "      <td>7.256310</td>\n",
       "    </tr>\n",
       "  </tbody>\n",
       "</table>\n",
       "</div>"
      ],
      "text/plain": [
       "                      이름         시즌      골/90     도움/90        WAR\n",
       "0          Romelu Lukaku  2021-2022  0.655738  0.000000  12.971981\n",
       "1             Diogo Jota  2021-2022  0.372561  0.159669   9.310770\n",
       "2    Alexandre Lacazette  2021-2022  0.701950  0.000000   8.898141\n",
       "3  Dominic Calvert-Lewin  2021-2022  0.527344  0.050223   8.161325\n",
       "4             Harry Kane  2021-2022  0.539439  0.258931   8.100398\n",
       "5      Kelechi Ịheanachọ  2021-2022  0.459966  0.000000   8.015787\n",
       "6         Edinson Cavani  2021-2022  0.836098  0.119443   8.010510\n",
       "7             Chris Wood  2021-2022  0.558691  0.025395   7.567613\n",
       "8              Che Adams  2021-2022  0.555556  0.029240   7.502624\n",
       "9      Cristiano Ronaldo  2021-2022  0.561831  0.240785   7.256310"
      ]
     },
     "execution_count": 28,
     "metadata": {},
     "output_type": "execute_result"
    }
   ],
   "source": [
    "forward_war[['이름','시즌','골/90', '도움/90','WAR']].sort_values(by='WAR',ascending=False).head(10)"
   ]
  }
 ],
 "metadata": {
  "kernelspec": {
   "display_name": "Python 3 (ipykernel)",
   "language": "python",
   "name": "python3"
  },
  "language_info": {
   "codemirror_mode": {
    "name": "ipython",
    "version": 3
   },
   "file_extension": ".py",
   "mimetype": "text/x-python",
   "name": "python",
   "nbconvert_exporter": "python",
   "pygments_lexer": "ipython3",
   "version": "3.7.11"
  },
  "toc": {
   "base_numbering": 1,
   "nav_menu": {},
   "number_sections": true,
   "sideBar": true,
   "skip_h1_title": false,
   "title_cell": "Table of Contents",
   "title_sidebar": "Contents",
   "toc_cell": false,
   "toc_position": {},
   "toc_section_display": true,
   "toc_window_display": false
  },
  "varInspector": {
   "cols": {
    "lenName": 16,
    "lenType": 16,
    "lenVar": 40
   },
   "kernels_config": {
    "python": {
     "delete_cmd_postfix": "",
     "delete_cmd_prefix": "del ",
     "library": "var_list.py",
     "varRefreshCmd": "print(var_dic_list())"
    },
    "r": {
     "delete_cmd_postfix": ") ",
     "delete_cmd_prefix": "rm(",
     "library": "var_list.r",
     "varRefreshCmd": "cat(var_dic_list()) "
    }
   },
   "types_to_exclude": [
    "module",
    "function",
    "builtin_function_or_method",
    "instance",
    "_Feature"
   ],
   "window_display": false
  }
 },
 "nbformat": 4,
 "nbformat_minor": 5
}
