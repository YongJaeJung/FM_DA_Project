{
 "cells": [
  {
   "cell_type": "markdown",
   "id": "e9dd0864",
   "metadata": {},
   "source": [
    "# 필요한 라이브러리 import"
   ]
  },
  {
   "cell_type": "code",
   "execution_count": 14,
   "id": "9da569b5",
   "metadata": {
    "ExecuteTime": {
     "end_time": "2021-12-17T10:53:02.566760Z",
     "start_time": "2021-12-17T10:53:02.556761Z"
    }
   },
   "outputs": [],
   "source": [
    "import pandas as pd\n",
    "import numpy as np\n",
    "import seaborn as sns\n",
    "import matplotlib.pyplot as plt\n",
    "from collections import defaultdict\n",
    "import warnings\n",
    "from sklearn.metrics import mean_absolute_error\n",
    "import pickle\n",
    "from sklearn.decomposition import PCA\n",
    "from sklearn.neural_network import MLPRegressor\n",
    "from sklearn.ensemble import RandomForestRegressor\n",
    "from sklearn.model_selection import train_test_split\n",
    "from sklearn.preprocessing import QuantileTransformer,StandardScaler,PowerTransformer,MinMaxScaler\n",
    "from scipy import stats\n",
    "from statsmodels.stats.outliers_influence import variance_inflation_factor as vif\n",
    "from itertools import combinations\n",
    "from tensorflow.keras.models import Model,load_model\n",
    "from tensorflow.keras.layers import Dense,Input,Dropout\n",
    "from tensorflow.keras.optimizers import Adam,SGD\n",
    "from tensorflow.keras.regularizers import L2\n",
    "from tensorflow.keras.callbacks import ModelCheckpoint\n",
    "from sklearn.model_selection import KFold\n",
    "from scipy.stats import spearmanr\n",
    "import tensorflow as tf\n",
    "\n",
    "warnings.filterwarnings(action='ignore')\n",
    "plt.rc('font',family='Malgun Gothic')\n",
    "plt.rc('font',size=10)\n",
    "%matplotlib inline"
   ]
  },
  {
   "cell_type": "markdown",
   "id": "537742a4",
   "metadata": {},
   "source": [
    "# 데이터로드"
   ]
  },
  {
   "cell_type": "code",
   "execution_count": 15,
   "id": "d6adea72",
   "metadata": {
    "ExecuteTime": {
     "end_time": "2021-12-17T10:53:02.613786Z",
     "start_time": "2021-12-17T10:53:02.567761Z"
    }
   },
   "outputs": [],
   "source": [
    "# 빈 데이터 프레임 생성\n",
    "\n",
    "fm_data_df = pd.DataFrame(columns=['이름','포지션','골','도움','경기당 팀 득점/90',\n",
    "                                 '경기당 팀 실점/90', 'Cr C/A', 'FA', '반칙 수/90', '기회 창출/90',\n",
    "                                 '경기당 유효 슈팅/90', '경기당 슈팅/90', 'Int/90', '달린 거리/90분', \n",
    "                                 '공중 A/90', '태클 성공률','경기당 패스 시도/90', '경기당 패스 성공/90', \n",
    "                                 'K Ps/90', '태클 성공/90', '드리블 성공/90', \n",
    "                                 '헤더 성공/90', 'Cr A/90', '평균획득승점/경기'])\n",
    "\n",
    "# 모든 데이터 프레임 이어붙이기\n",
    "fm_data_df = pd.concat([fm_data_df,pd.read_csv('./datas/NEW_FM_DATA_FOR_ML/2021-2022/2021-2022ML.csv',encoding='utf-8-sig')])\n",
    "fm_data_df = fm_data_df.reset_index(drop=True)\n",
    "fm_data_df = pd.concat([fm_data_df,pd.read_csv('./datas/NEW_FM_DATA_FOR_ML/2022-2023/2022-2023ML.csv',encoding='utf-8-sig')])\n",
    "fm_data_df = fm_data_df.reset_index(drop=True)\n",
    "fm_data_df = pd.concat([fm_data_df,pd.read_csv('./datas/NEW_FM_DATA_FOR_ML/2023-2024/2023-2024ML.csv',encoding='utf-8-sig')])\n",
    "fm_data_df = fm_data_df.reset_index(drop=True)\n",
    "\n",
    "# 데이터 프레임 컬럼명 변경 및 자료형 변경\n",
    "fm_data_df.rename(columns={'Cr C/A':'크로스 성공률','FA':'파울 획득','Int/90':'인터셉트/90','공중 A/90':'공중볼시도/90','K Ps/90':'키패스/90','Cr A/90':'크로스 시도/90'},inplace=True)\n",
    "fm_data_df = fm_data_df.astype({'골':np.int64,'도움':np.int64,'파울 획득':np.int64,'태클 성공률':np.int64})\n",
    "\n",
    "# 공격수만 추출\n",
    "forward_df = fm_data_df[fm_data_df['포지션']=='공격수']\n",
    "forward_df = forward_df.reset_index(drop=True)"
   ]
  },
  {
   "cell_type": "markdown",
   "id": "dfa8373a",
   "metadata": {},
   "source": [
    "# 데이터 EDA"
   ]
  },
  {
   "cell_type": "markdown",
   "id": "d17320ec",
   "metadata": {},
   "source": [
    "## 모델 생성에 사용할 독립변수, 종속변수 선별"
   ]
  },
  {
   "cell_type": "code",
   "execution_count": 16,
   "id": "5bb41e7c",
   "metadata": {
    "ExecuteTime": {
     "end_time": "2021-12-17T10:53:02.629213Z",
     "start_time": "2021-12-17T10:53:02.614788Z"
    }
   },
   "outputs": [],
   "source": [
    "num_col = [forward_df.columns[i] for i,x in enumerate(forward_df.dtypes) if x == 'int64' or x == 'float64']\n",
    "independent_value = set(num_col) - set(['평균획득승점/경기','출장시간','승','무','패','경기당 팀 득점/90','경기당 팀 실점/90'])\n",
    "dependent_value = '평균획득승점/경기'"
   ]
  },
  {
   "cell_type": "markdown",
   "id": "fe28ef6f",
   "metadata": {},
   "source": [
    "## 결측치 확인"
   ]
  },
  {
   "cell_type": "code",
   "execution_count": 17,
   "id": "33ff6c99",
   "metadata": {
    "ExecuteTime": {
     "end_time": "2021-12-17T10:53:02.645230Z",
     "start_time": "2021-12-17T10:53:02.630214Z"
    }
   },
   "outputs": [
    {
     "data": {
      "text/plain": [
       "이름              0\n",
       "포지션             0\n",
       "골               0\n",
       "도움              0\n",
       "경기당 팀 득점/90     0\n",
       "경기당 팀 실점/90     0\n",
       "크로스 성공률         0\n",
       "파울 획득           0\n",
       "반칙 수/90         0\n",
       "기회 창출/90        0\n",
       "경기당 유효 슈팅/90    0\n",
       "경기당 슈팅/90       0\n",
       "인터셉트/90         0\n",
       "달린 거리/90분       0\n",
       "공중볼시도/90        0\n",
       "태클 성공률          0\n",
       "경기당 패스 시도/90    0\n",
       "경기당 패스 성공/90    0\n",
       "키패스/90          0\n",
       "태클 성공/90        0\n",
       "드리블 성공/90       0\n",
       "헤더 성공/90        0\n",
       "크로스 시도/90       0\n",
       "평균획득승점/경기       0\n",
       "시즌              0\n",
       "dtype: int64"
      ]
     },
     "execution_count": 17,
     "metadata": {},
     "output_type": "execute_result"
    }
   ],
   "source": [
    "forward_df.isna().sum()"
   ]
  },
  {
   "cell_type": "markdown",
   "id": "202b02ce",
   "metadata": {},
   "source": [
    "# XGBoost Regressor 모델 생성"
   ]
  },
  {
   "cell_type": "code",
   "execution_count": 18,
   "id": "fcf11c60",
   "metadata": {
    "ExecuteTime": {
     "end_time": "2021-12-17T10:53:02.661070Z",
     "start_time": "2021-12-17T10:53:02.646237Z"
    }
   },
   "outputs": [],
   "source": [
    "from xgboost import XGBRegressor,DMatrix,train,XGBRFRegressor\n",
    "from sklearn.model_selection import GridSearchCV,train_test_split,StratifiedKFold"
   ]
  },
  {
   "cell_type": "code",
   "execution_count": 61,
   "id": "fb00e2e7",
   "metadata": {
    "ExecuteTime": {
     "end_time": "2021-12-17T11:21:24.083994Z",
     "start_time": "2021-12-17T11:21:11.176995Z"
    }
   },
   "outputs": [
    {
     "name": "stdout",
     "output_type": "stream",
     "text": [
      "Fitting 10 folds for each of 1 candidates, totalling 10 fits\n",
      "-0.27447917740224115\n",
      "{'colsample_bytree': 0.8, 'gamma': 1, 'learning_rate': 0.149, 'max_depth': 1, 'min_child_weight': 4, 'n_estimators': 10000, 'nthread': 6, 'subsample': 0.7}\n"
     ]
    }
   ],
   "source": [
    "forward_xgb = XGBRegressor()\n",
    "parameters = {'nthread':[6], \n",
    "              'learning_rate': [0.149],\n",
    "              'max_depth': [1],\n",
    "              'min_child_weight': [4],\n",
    "              'subsample': [0.7],\n",
    "              'colsample_bytree': [0.8],\n",
    "              'gamma':[1],\n",
    "              'n_estimators': [10000]}\n",
    "\n",
    "xgb_grid = GridSearchCV(forward_xgb,\n",
    "                        parameters,\n",
    "                        cv = 10,\n",
    "                        scoring='neg_mean_absolute_error',\n",
    "                        n_jobs = 6,\n",
    "                        refit=True,\n",
    "                        \n",
    "                        verbose=True)\n",
    "\n",
    "xgb_grid.fit(forward_df.loc[:,independent_value],\n",
    "         forward_df.loc[:,dependent_value])\n",
    "\n",
    "print(xgb_grid.best_score_)\n",
    "print(xgb_grid.best_params_)"
   ]
  },
  {
   "cell_type": "code",
   "execution_count": 55,
   "id": "9eac5f2b",
   "metadata": {
    "ExecuteTime": {
     "end_time": "2021-12-17T11:18:13.114385Z",
     "start_time": "2021-12-17T11:18:13.105386Z"
    }
   },
   "outputs": [],
   "source": [
    "x_train,x_test,y_train,y_test = train_test_split(fm_data_df.loc[:,independent_value],fm_data_df.loc[:,dependent_value],test_size=0.2,random_state=123)"
   ]
  },
  {
   "cell_type": "code",
   "execution_count": 65,
   "id": "3bf47ba2",
   "metadata": {
    "ExecuteTime": {
     "end_time": "2021-12-17T11:23:10.943532Z",
     "start_time": "2021-12-17T11:23:07.678534Z"
    }
   },
   "outputs": [
    {
     "data": {
      "text/plain": [
       "0.32529093465405307"
      ]
     },
     "execution_count": 65,
     "metadata": {},
     "output_type": "execute_result"
    }
   ],
   "source": [
    "forward_xgb = XGBRegressor(\n",
    "    nthread=6,\n",
    "    learning_rate=0.149,\n",
    "    max_depth=1,\n",
    "    min_child_weight=4,\n",
    "    colsample_bytree = 0.8,\n",
    "    gamma = 1,\n",
    "    n_estimators = 10000\n",
    ")\n",
    "\n",
    "forward_xgb.fit(x_train,y_train)\n",
    "y_pred = forward_xgb.predict(x_test)\n",
    "mean_absolute_error(y_test,y_pred)"
   ]
  },
  {
   "cell_type": "markdown",
   "id": "508a2950",
   "metadata": {},
   "source": [
    "# 모델검정"
   ]
  },
  {
   "cell_type": "code",
   "execution_count": 66,
   "id": "bbe5f625",
   "metadata": {
    "ExecuteTime": {
     "end_time": "2021-12-17T11:23:24.873475Z",
     "start_time": "2021-12-17T11:23:24.851478Z"
    }
   },
   "outputs": [],
   "source": [
    "forward_df['predict'] = forward_xgb.predict(forward_df.loc[:,independent_value])"
   ]
  },
  {
   "cell_type": "code",
   "execution_count": 67,
   "id": "0a698e34",
   "metadata": {
    "ExecuteTime": {
     "end_time": "2021-12-17T11:23:26.217947Z",
     "start_time": "2021-12-17T11:23:26.212946Z"
    }
   },
   "outputs": [],
   "source": [
    "residual = forward_df['평균획득승점/경기'] - forward_df['predict']"
   ]
  },
  {
   "cell_type": "markdown",
   "id": "48667ffd",
   "metadata": {},
   "source": [
    "## 선형성 검정"
   ]
  },
  {
   "cell_type": "code",
   "execution_count": 68,
   "id": "4ef0d669",
   "metadata": {
    "ExecuteTime": {
     "end_time": "2021-12-17T11:23:29.190294Z",
     "start_time": "2021-12-17T11:23:28.887296Z"
    }
   },
   "outputs": [
    {
     "data": {
      "text/plain": [
       "[<matplotlib.lines.Line2D at 0x1bbd8fa98e0>]"
      ]
     },
     "execution_count": 68,
     "metadata": {},
     "output_type": "execute_result"
    },
    {
     "data": {
      "image/png": "[encoded data removed]",
      "text/plain": [
       "<Figure size 432x288 with 1 Axes>"
      ]
     },
     "metadata": {
      "needs_background": "light"
     },
     "output_type": "display_data"
    }
   ],
   "source": [
    "sns.regplot(forward_df['predict'], residual, lowess=True, line_kws={'color': 'red'})\n",
    "plt.plot([forward_df['predict'].values.min(), forward_df['predict'].values.max()], [0, 0], '--', color='grey')"
   ]
  },
  {
   "cell_type": "markdown",
   "id": "800bc276",
   "metadata": {},
   "source": [
    "## 잔차의 정규성 검정"
   ]
  },
  {
   "cell_type": "code",
   "execution_count": 69,
   "id": "2078ab39",
   "metadata": {
    "ExecuteTime": {
     "end_time": "2021-12-17T11:23:30.974673Z",
     "start_time": "2021-12-17T11:23:30.968673Z"
    }
   },
   "outputs": [
    {
     "data": {
      "text/plain": [
       "ShapiroResult(statistic=0.9951919913291931, pvalue=0.0037075523287057877)"
      ]
     },
     "execution_count": 69,
     "metadata": {},
     "output_type": "execute_result"
    }
   ],
   "source": [
    "# 정규성 불만족\n",
    "stats.shapiro(residual)"
   ]
  },
  {
   "cell_type": "code",
   "execution_count": 70,
   "id": "e2c68c92",
   "metadata": {
    "ExecuteTime": {
     "end_time": "2021-12-17T11:23:33.855385Z",
     "start_time": "2021-12-17T11:23:33.746385Z"
    }
   },
   "outputs": [
    {
     "data": {
      "text/plain": [
       "[<matplotlib.lines.Line2D at 0x1bbd8deb220>]"
      ]
     },
     "execution_count": 70,
     "metadata": {},
     "output_type": "execute_result"
    },
    {
     "data": {
      "image/png": "[encoded data removed]",
      "text/plain": [
       "<Figure size 432x288 with 1 Axes>"
      ]
     },
     "metadata": {
      "needs_background": "light"
     },
     "output_type": "display_data"
    }
   ],
   "source": [
    "sr = stats.zscore(residual)\n",
    "(x, y), _ = stats.probplot(sr)\n",
    "sns.scatterplot(x, y)\n",
    "plt.plot([-3, 3], [-3, 3], '--', color='grey')"
   ]
  },
  {
   "cell_type": "markdown",
   "id": "50ed409a",
   "metadata": {},
   "source": [
    "## 잔차의 등분산성 검정"
   ]
  },
  {
   "cell_type": "code",
   "execution_count": 71,
   "id": "c5a1508c",
   "metadata": {
    "ExecuteTime": {
     "end_time": "2021-12-17T11:23:35.278443Z",
     "start_time": "2021-12-17T11:23:34.963444Z"
    }
   },
   "outputs": [
    {
     "data": {
      "text/plain": [
       "<AxesSubplot:xlabel='predict'>"
      ]
     },
     "execution_count": 71,
     "metadata": {},
     "output_type": "execute_result"
    },
    {
     "data": {
      "image/png": "[encoded data removed]",
      "text/plain": [
       "<Figure size 432x288 with 1 Axes>"
      ]
     },
     "metadata": {
      "needs_background": "light"
     },
     "output_type": "display_data"
    }
   ],
   "source": [
    "sns.regplot(forward_df['predict'], np.sqrt(np.abs(sr)), lowess=True, line_kws={'color': 'red'})"
   ]
  },
  {
   "cell_type": "code",
   "execution_count": 72,
   "id": "d6d96e06",
   "metadata": {
    "ExecuteTime": {
     "end_time": "2021-12-17T11:23:38.165267Z",
     "start_time": "2021-12-17T11:23:38.152267Z"
    }
   },
   "outputs": [
    {
     "data": {
      "text/plain": [
       "LeveneResult(statistic=387.8350035118759, pvalue=7.414362143016418e-79)"
      ]
     },
     "execution_count": 72,
     "metadata": {},
     "output_type": "execute_result"
    }
   ],
   "source": [
    "# 등분산성 불만족\n",
    "stats.levene(forward_df['평균획득승점/경기'],forward_df['predict'])"
   ]
  },
  {
   "cell_type": "code",
   "execution_count": 73,
   "id": "a287e790",
   "metadata": {
    "ExecuteTime": {
     "end_time": "2021-12-17T11:23:40.697456Z",
     "start_time": "2021-12-17T11:23:40.450701Z"
    }
   },
   "outputs": [
    {
     "data": {
      "text/plain": [
       "['forward_xgb.pkl']"
      ]
     },
     "execution_count": 73,
     "metadata": {},
     "output_type": "execute_result"
    }
   ],
   "source": [
    "import joblib\n",
    "\n",
    "joblib.dump(xgb_grid, 'forward_xgb.pkl')"
   ]
  },
  {
   "cell_type": "code",
   "execution_count": null,
   "id": "0d1fd8b7",
   "metadata": {},
   "outputs": [],
   "source": []
  }
 ],
 "metadata": {
  "kernelspec": {
   "display_name": "Python 3 (ipykernel)",
   "language": "python",
   "name": "python3"
  },
  "language_info": {
   "codemirror_mode": {
    "name": "ipython",
    "version": 3
   },
   "file_extension": ".py",
   "mimetype": "text/x-python",
   "name": "python",
   "nbconvert_exporter": "python",
   "pygments_lexer": "ipython3",
   "version": "3.9.7"
  },
  "toc": {
   "base_numbering": 1,
   "nav_menu": {},
   "number_sections": true,
   "sideBar": true,
   "skip_h1_title": false,
   "title_cell": "Table of Contents",
   "title_sidebar": "Contents",
   "toc_cell": false,
   "toc_position": {},
   "toc_section_display": true,
   "toc_window_display": false
  },
  "varInspector": {
   "cols": {
    "lenName": 16,
    "lenType": 16,
    "lenVar": 40
   },
   "kernels_config": {
    "python": {
     "delete_cmd_postfix": "",
     "delete_cmd_prefix": "del ",
     "library": "var_list.py",
     "varRefreshCmd": "print(var_dic_list())"
    },
    "r": {
     "delete_cmd_postfix": ") ",
     "delete_cmd_prefix": "rm(",
     "library": "var_list.r",
     "varRefreshCmd": "cat(var_dic_list()) "
    }
   },
   "position": {
    "height": "144.83px",
    "left": "1373.42px",
    "right": "20px",
    "top": "128.983px",
    "width": "350px"
   },
   "types_to_exclude": [
    "module",
    "function",
    "builtin_function_or_method",
    "instance",
    "_Feature"
   ],
   "window_display": false
  }
 },
 "nbformat": 4,
 "nbformat_minor": 5
}
