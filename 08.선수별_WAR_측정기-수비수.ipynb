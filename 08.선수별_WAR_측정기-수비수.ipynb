{
 "cells": [
  {
   "cell_type": "markdown",
   "id": "3f7b833e",
   "metadata": {},
   "source": [
    "# 필요한 라이브러리 import"
   ]
  },
  {
   "cell_type": "code",
   "execution_count": 16,
   "id": "ecdb0774",
   "metadata": {
    "ExecuteTime": {
     "end_time": "2021-12-31T04:51:52.954871Z",
     "start_time": "2021-12-31T04:51:52.944872Z"
    }
   },
   "outputs": [],
   "source": [
    "import csv\n",
    "import pandas as pd\n",
    "import os\n",
    "import re\n",
    "import numpy as np\n",
    "import seaborn as sns\n",
    "import matplotlib.pyplot as plt\n",
    "from collections import defaultdict\n",
    "import warnings\n",
    "import pickle\n",
    "plt.rc('font',family='Malgun Gothic')\n",
    "plt.rc('font',size=10)\n",
    "from sklearn.metrics import mean_absolute_error,mean_squared_error\n",
    "from sklearn.decomposition import PCA\n",
    "from sklearn.preprocessing import StandardScaler\n",
    "\n",
    "from tensorflow.keras.models import load_model\n",
    "import tensorflow as tf\n",
    "import joblib\n",
    "warnings.filterwarnings(action='ignore')"
   ]
  },
  {
   "cell_type": "code",
   "execution_count": 17,
   "id": "radio-conditions",
   "metadata": {
    "ExecuteTime": {
     "end_time": "2021-12-31T04:51:53.014845Z",
     "start_time": "2021-12-31T04:51:52.955871Z"
    }
   },
   "outputs": [],
   "source": [
    "with open('./models/defender/defender_qt.pickle','rb') as f:\n",
    "    defender_po = pickle.load(f)\n",
    "\n",
    "defender_model = load_model('./models/defender/defender_nn.h5')\n",
    "\n",
    "premier_df = pd.read_csv('./datas/NEW_FM_DATA_MERGED/2021-2022/2021-2022-PremierLeague.csv')"
   ]
  },
  {
   "cell_type": "code",
   "execution_count": 18,
   "id": "3d6bff7b",
   "metadata": {
    "ExecuteTime": {
     "end_time": "2021-12-31T04:51:53.029834Z",
     "start_time": "2021-12-31T04:51:53.015849Z"
    }
   },
   "outputs": [],
   "source": [
    "premier_df.rename(columns={'Cr C/A':'크로스 성공률','FA':'파울 획득','Int/90':'인터셉트/90','공중 A/90':'공중볼시도/90','K Ps/90':'키패스/90','Cr A/90':'크로스 시도/90'},inplace=True)\n",
    "premier_df = premier_df.astype({'골':np.int64,'도움':np.int64,'파울 획득':np.int64,'태클 성공률':np.int64})"
   ]
  },
  {
   "cell_type": "code",
   "execution_count": 19,
   "id": "8d7775c1",
   "metadata": {
    "ExecuteTime": {
     "end_time": "2021-12-31T04:51:53.044868Z",
     "start_time": "2021-12-31T04:51:53.030836Z"
    }
   },
   "outputs": [],
   "source": [
    "defender_df = premier_df[premier_df['포지션']=='수비수']"
   ]
  },
  {
   "cell_type": "code",
   "execution_count": 20,
   "id": "865f9553",
   "metadata": {
    "ExecuteTime": {
     "end_time": "2021-12-31T04:51:53.059719Z",
     "start_time": "2021-12-31T04:51:53.045874Z"
    }
   },
   "outputs": [],
   "source": [
    "# PSTL = Pass sucess try linear\n",
    "\n",
    "defender_df['PSTL'] = (defender_df['경기당 패스 성공/90']) + (defender_df['경기당 패스 시도/90']*1.2)"
   ]
  },
  {
   "cell_type": "code",
   "execution_count": 21,
   "id": "82680018",
   "metadata": {
    "ExecuteTime": {
     "end_time": "2021-12-31T04:51:53.074732Z",
     "start_time": "2021-12-31T04:51:53.060720Z"
    }
   },
   "outputs": [],
   "source": [
    "independent_value = {'PSTL', '태클 성공/90', '헤더 성공/90'}\n",
    "\n",
    "dependent_value = {'평균획득승점/경기'}"
   ]
  },
  {
   "cell_type": "code",
   "execution_count": 22,
   "id": "54553286",
   "metadata": {
    "ExecuteTime": {
     "end_time": "2021-12-31T04:51:53.089565Z",
     "start_time": "2021-12-31T04:51:53.075737Z"
    }
   },
   "outputs": [],
   "source": [
    "defender_df.loc[:,independent_value] = defender_po.transform(defender_df.loc[:,independent_value])"
   ]
  },
  {
   "cell_type": "code",
   "execution_count": 23,
   "id": "6cbd4b64",
   "metadata": {
    "ExecuteTime": {
     "end_time": "2021-12-31T04:52:02.448880Z",
     "start_time": "2021-12-31T04:52:02.437878Z"
    }
   },
   "outputs": [],
   "source": [
    "defender_df = defender_df.reset_index(drop=True)"
   ]
  },
  {
   "cell_type": "code",
   "execution_count": 24,
   "id": "e4eddbb9",
   "metadata": {
    "ExecuteTime": {
     "end_time": "2021-12-31T04:52:03.066047Z",
     "start_time": "2021-12-31T04:52:02.948022Z"
    }
   },
   "outputs": [],
   "source": [
    "defender_df['예측PPG']=defender_model.predict(defender_df.loc[:,independent_value])"
   ]
  },
  {
   "cell_type": "code",
   "execution_count": 25,
   "id": "dda4fa99",
   "metadata": {
    "ExecuteTime": {
     "end_time": "2021-12-31T04:52:05.156929Z",
     "start_time": "2021-12-31T04:52:05.137928Z"
    }
   },
   "outputs": [
    {
     "data": {
      "text/html": [
       "<div>\n",
       "<style scoped>\n",
       "    .dataframe tbody tr th:only-of-type {\n",
       "        vertical-align: middle;\n",
       "    }\n",
       "\n",
       "    .dataframe tbody tr th {\n",
       "        vertical-align: top;\n",
       "    }\n",
       "\n",
       "    .dataframe thead th {\n",
       "        text-align: right;\n",
       "    }\n",
       "</style>\n",
       "<table border=\"1\" class=\"dataframe\">\n",
       "  <thead>\n",
       "    <tr style=\"text-align: right;\">\n",
       "      <th></th>\n",
       "      <th>이름</th>\n",
       "      <th>시즌</th>\n",
       "      <th>포지션</th>\n",
       "      <th>구단</th>\n",
       "      <th>리그</th>\n",
       "      <th>골</th>\n",
       "      <th>도움</th>\n",
       "      <th>임대 기간</th>\n",
       "      <th>승</th>\n",
       "      <th>무</th>\n",
       "      <th>...</th>\n",
       "      <th>경기당 패스 시도/90</th>\n",
       "      <th>경기당 패스 성공/90</th>\n",
       "      <th>키패스/90</th>\n",
       "      <th>태클 성공/90</th>\n",
       "      <th>드리블 성공/90</th>\n",
       "      <th>헤더 성공/90</th>\n",
       "      <th>크로스 시도/90</th>\n",
       "      <th>평균획득승점/경기</th>\n",
       "      <th>PSTL</th>\n",
       "      <th>예측PPG</th>\n",
       "    </tr>\n",
       "  </thead>\n",
       "  <tbody>\n",
       "    <tr>\n",
       "      <th>17</th>\n",
       "      <td>Rodri</td>\n",
       "      <td>2021-2022</td>\n",
       "      <td>수비수</td>\n",
       "      <td>맨시티</td>\n",
       "      <td>잉글랜드 프리미어 리그</td>\n",
       "      <td>3</td>\n",
       "      <td>3</td>\n",
       "      <td>0</td>\n",
       "      <td>24</td>\n",
       "      <td>10</td>\n",
       "      <td>...</td>\n",
       "      <td>64.34</td>\n",
       "      <td>60.11</td>\n",
       "      <td>0.79</td>\n",
       "      <td>-2.693664</td>\n",
       "      <td>0.23</td>\n",
       "      <td>5.199338</td>\n",
       "      <td>0.11</td>\n",
       "      <td>1.82</td>\n",
       "      <td>2.826129</td>\n",
       "      <td>2.130419</td>\n",
       "    </tr>\n",
       "    <tr>\n",
       "      <th>18</th>\n",
       "      <td>Fernandinho</td>\n",
       "      <td>2021-2022</td>\n",
       "      <td>수비수</td>\n",
       "      <td>맨시티</td>\n",
       "      <td>잉글랜드 프리미어 리그</td>\n",
       "      <td>2</td>\n",
       "      <td>3</td>\n",
       "      <td>0</td>\n",
       "      <td>25</td>\n",
       "      <td>7</td>\n",
       "      <td>...</td>\n",
       "      <td>60.05</td>\n",
       "      <td>55.47</td>\n",
       "      <td>0.74</td>\n",
       "      <td>-2.683698</td>\n",
       "      <td>0.04</td>\n",
       "      <td>5.199338</td>\n",
       "      <td>0.20</td>\n",
       "      <td>1.95</td>\n",
       "      <td>1.351053</td>\n",
       "      <td>2.115969</td>\n",
       "    </tr>\n",
       "    <tr>\n",
       "      <th>22</th>\n",
       "      <td>Scott McTominay</td>\n",
       "      <td>2021-2022</td>\n",
       "      <td>수비수</td>\n",
       "      <td>맨 레드</td>\n",
       "      <td>잉글랜드 프리미어 리그</td>\n",
       "      <td>1</td>\n",
       "      <td>1</td>\n",
       "      <td>0</td>\n",
       "      <td>18</td>\n",
       "      <td>9</td>\n",
       "      <td>...</td>\n",
       "      <td>55.72</td>\n",
       "      <td>51.37</td>\n",
       "      <td>1.13</td>\n",
       "      <td>-2.472054</td>\n",
       "      <td>0.05</td>\n",
       "      <td>5.199338</td>\n",
       "      <td>0.93</td>\n",
       "      <td>1.91</td>\n",
       "      <td>-0.010334</td>\n",
       "      <td>2.022667</td>\n",
       "    </tr>\n",
       "    <tr>\n",
       "      <th>40</th>\n",
       "      <td>Thomas Partey</td>\n",
       "      <td>2021-2022</td>\n",
       "      <td>수비수</td>\n",
       "      <td>아스날</td>\n",
       "      <td>잉글랜드 프리미어 리그</td>\n",
       "      <td>4</td>\n",
       "      <td>3</td>\n",
       "      <td>0</td>\n",
       "      <td>22</td>\n",
       "      <td>2</td>\n",
       "      <td>...</td>\n",
       "      <td>55.15</td>\n",
       "      <td>47.46</td>\n",
       "      <td>1.48</td>\n",
       "      <td>-2.314181</td>\n",
       "      <td>0.13</td>\n",
       "      <td>5.199338</td>\n",
       "      <td>1.04</td>\n",
       "      <td>1.94</td>\n",
       "      <td>-0.561005</td>\n",
       "      <td>1.982092</td>\n",
       "    </tr>\n",
       "    <tr>\n",
       "      <th>59</th>\n",
       "      <td>Romain Saïss</td>\n",
       "      <td>2021-2022</td>\n",
       "      <td>수비수</td>\n",
       "      <td>울브스</td>\n",
       "      <td>잉글랜드 프리미어 리그</td>\n",
       "      <td>0</td>\n",
       "      <td>0</td>\n",
       "      <td>0</td>\n",
       "      <td>5</td>\n",
       "      <td>3</td>\n",
       "      <td>...</td>\n",
       "      <td>57.36</td>\n",
       "      <td>53.41</td>\n",
       "      <td>0.18</td>\n",
       "      <td>-3.436663</td>\n",
       "      <td>0.28</td>\n",
       "      <td>5.199338</td>\n",
       "      <td>0.28</td>\n",
       "      <td>1.20</td>\n",
       "      <td>0.408159</td>\n",
       "      <td>1.914391</td>\n",
       "    </tr>\n",
       "  </tbody>\n",
       "</table>\n",
       "<p>5 rows × 34 columns</p>\n",
       "</div>"
      ],
      "text/plain": [
       "                 이름         시즌  포지션    구단            리그  골  도움 임대 기간   승   무  \\\n",
       "17            Rodri  2021-2022  수비수   맨시티  잉글랜드 프리미어 리그  3   3     0  24  10   \n",
       "18      Fernandinho  2021-2022  수비수   맨시티  잉글랜드 프리미어 리그  2   3     0  25   7   \n",
       "22  Scott McTominay  2021-2022  수비수  맨 레드  잉글랜드 프리미어 리그  1   1     0  18   9   \n",
       "40    Thomas Partey  2021-2022  수비수   아스날  잉글랜드 프리미어 리그  4   3     0  22   2   \n",
       "59     Romain Saïss  2021-2022  수비수   울브스  잉글랜드 프리미어 리그  0   0     0   5   3   \n",
       "\n",
       "    ...  경기당 패스 시도/90  경기당 패스 성공/90  키패스/90  태클 성공/90  드리블 성공/90  헤더 성공/90  \\\n",
       "17  ...         64.34         60.11    0.79 -2.693664       0.23  5.199338   \n",
       "18  ...         60.05         55.47    0.74 -2.683698       0.04  5.199338   \n",
       "22  ...         55.72         51.37    1.13 -2.472054       0.05  5.199338   \n",
       "40  ...         55.15         47.46    1.48 -2.314181       0.13  5.199338   \n",
       "59  ...         57.36         53.41    0.18 -3.436663       0.28  5.199338   \n",
       "\n",
       "    크로스 시도/90  평균획득승점/경기      PSTL     예측PPG  \n",
       "17       0.11       1.82  2.826129  2.130419  \n",
       "18       0.20       1.95  1.351053  2.115969  \n",
       "22       0.93       1.91 -0.010334  2.022667  \n",
       "40       1.04       1.94 -0.561005  1.982092  \n",
       "59       0.28       1.20  0.408159  1.914391  \n",
       "\n",
       "[5 rows x 34 columns]"
      ]
     },
     "execution_count": 25,
     "metadata": {},
     "output_type": "execute_result"
    }
   ],
   "source": [
    "defender_df.sort_values(by='예측PPG',ascending=False).head(5)"
   ]
  },
  {
   "cell_type": "code",
   "execution_count": 26,
   "id": "2625c17d",
   "metadata": {
    "ExecuteTime": {
     "end_time": "2021-12-31T04:52:11.115661Z",
     "start_time": "2021-12-31T04:52:11.107662Z"
    }
   },
   "outputs": [
    {
     "data": {
      "text/plain": [
       "1.3122373819351196"
      ]
     },
     "execution_count": 26,
     "metadata": {},
     "output_type": "execute_result"
    }
   ],
   "source": [
    "defender_min = np.min(defender_df['예측PPG'].tolist())\n",
    "defender_min"
   ]
  },
  {
   "cell_type": "code",
   "execution_count": 27,
   "id": "4ec104b1",
   "metadata": {
    "ExecuteTime": {
     "end_time": "2021-12-31T04:52:11.476164Z",
     "start_time": "2021-12-31T04:52:11.468164Z"
    }
   },
   "outputs": [],
   "source": [
    "defender_df['WAR'] = defender_df['예측PPG'].map(lambda x : x-defender_min+1)"
   ]
  },
  {
   "cell_type": "code",
   "execution_count": 28,
   "id": "f5a93e26",
   "metadata": {
    "ExecuteTime": {
     "end_time": "2021-12-31T04:52:13.948299Z",
     "start_time": "2021-12-31T04:52:13.928300Z"
    }
   },
   "outputs": [],
   "source": [
    "defender_df.loc[:,independent_value] = defender_po.inverse_transform(defender_df.loc[:,independent_value])"
   ]
  },
  {
   "cell_type": "code",
   "execution_count": 29,
   "id": "a0da1f60",
   "metadata": {
    "ExecuteTime": {
     "end_time": "2021-12-31T04:52:14.235719Z",
     "start_time": "2021-12-31T04:52:14.228719Z"
    }
   },
   "outputs": [],
   "source": [
    "defender_war = defender_df.sort_values(by='WAR',ascending=False).copy()\n",
    "defender_war = defender_war.reset_index(drop=True)"
   ]
  },
  {
   "cell_type": "code",
   "execution_count": 30,
   "id": "a040daad",
   "metadata": {
    "ExecuteTime": {
     "end_time": "2021-12-31T04:52:14.520635Z",
     "start_time": "2021-12-31T04:52:14.497633Z"
    }
   },
   "outputs": [
    {
     "data": {
      "text/html": [
       "<div>\n",
       "<style scoped>\n",
       "    .dataframe tbody tr th:only-of-type {\n",
       "        vertical-align: middle;\n",
       "    }\n",
       "\n",
       "    .dataframe tbody tr th {\n",
       "        vertical-align: top;\n",
       "    }\n",
       "\n",
       "    .dataframe thead th {\n",
       "        text-align: right;\n",
       "    }\n",
       "</style>\n",
       "<table border=\"1\" class=\"dataframe\">\n",
       "  <thead>\n",
       "    <tr style=\"text-align: right;\">\n",
       "      <th></th>\n",
       "      <th>이름</th>\n",
       "      <th>시즌</th>\n",
       "      <th>골</th>\n",
       "      <th>도움</th>\n",
       "      <th>WAR</th>\n",
       "    </tr>\n",
       "  </thead>\n",
       "  <tbody>\n",
       "    <tr>\n",
       "      <th>0</th>\n",
       "      <td>Rodri</td>\n",
       "      <td>2021-2022</td>\n",
       "      <td>3</td>\n",
       "      <td>3</td>\n",
       "      <td>1.818181</td>\n",
       "    </tr>\n",
       "    <tr>\n",
       "      <th>1</th>\n",
       "      <td>Fernandinho</td>\n",
       "      <td>2021-2022</td>\n",
       "      <td>2</td>\n",
       "      <td>3</td>\n",
       "      <td>1.803731</td>\n",
       "    </tr>\n",
       "    <tr>\n",
       "      <th>2</th>\n",
       "      <td>Scott McTominay</td>\n",
       "      <td>2021-2022</td>\n",
       "      <td>1</td>\n",
       "      <td>1</td>\n",
       "      <td>1.710430</td>\n",
       "    </tr>\n",
       "    <tr>\n",
       "      <th>3</th>\n",
       "      <td>Thomas Partey</td>\n",
       "      <td>2021-2022</td>\n",
       "      <td>4</td>\n",
       "      <td>3</td>\n",
       "      <td>1.669855</td>\n",
       "    </tr>\n",
       "    <tr>\n",
       "      <th>4</th>\n",
       "      <td>Romain Saïss</td>\n",
       "      <td>2021-2022</td>\n",
       "      <td>0</td>\n",
       "      <td>0</td>\n",
       "      <td>1.602154</td>\n",
       "    </tr>\n",
       "    <tr>\n",
       "      <th>5</th>\n",
       "      <td>Ben Davies</td>\n",
       "      <td>2021-2022</td>\n",
       "      <td>0</td>\n",
       "      <td>3</td>\n",
       "      <td>1.552043</td>\n",
       "    </tr>\n",
       "    <tr>\n",
       "      <th>6</th>\n",
       "      <td>Jonny</td>\n",
       "      <td>2021-2022</td>\n",
       "      <td>0</td>\n",
       "      <td>3</td>\n",
       "      <td>1.543294</td>\n",
       "    </tr>\n",
       "    <tr>\n",
       "      <th>7</th>\n",
       "      <td>Diego Carlos</td>\n",
       "      <td>2021-2022</td>\n",
       "      <td>1</td>\n",
       "      <td>1</td>\n",
       "      <td>1.541649</td>\n",
       "    </tr>\n",
       "    <tr>\n",
       "      <th>8</th>\n",
       "      <td>Jonny Evans</td>\n",
       "      <td>2021-2022</td>\n",
       "      <td>0</td>\n",
       "      <td>1</td>\n",
       "      <td>1.536778</td>\n",
       "    </tr>\n",
       "    <tr>\n",
       "      <th>9</th>\n",
       "      <td>Adam Masina</td>\n",
       "      <td>2021-2022</td>\n",
       "      <td>0</td>\n",
       "      <td>0</td>\n",
       "      <td>1.520837</td>\n",
       "    </tr>\n",
       "  </tbody>\n",
       "</table>\n",
       "</div>"
      ],
      "text/plain": [
       "                이름         시즌  골  도움       WAR\n",
       "0            Rodri  2021-2022  3   3  1.818181\n",
       "1      Fernandinho  2021-2022  2   3  1.803731\n",
       "2  Scott McTominay  2021-2022  1   1  1.710430\n",
       "3    Thomas Partey  2021-2022  4   3  1.669855\n",
       "4     Romain Saïss  2021-2022  0   0  1.602154\n",
       "5       Ben Davies  2021-2022  0   3  1.552043\n",
       "6            Jonny  2021-2022  0   3  1.543294\n",
       "7     Diego Carlos  2021-2022  1   1  1.541649\n",
       "8      Jonny Evans  2021-2022  0   1  1.536778\n",
       "9      Adam Masina  2021-2022  0   0  1.520837"
      ]
     },
     "execution_count": 30,
     "metadata": {},
     "output_type": "execute_result"
    }
   ],
   "source": [
    "defender_war[['이름','시즌','골', '도움','WAR']].sort_values(by='WAR',ascending=False).head(10)"
   ]
  }
 ],
 "metadata": {
  "kernelspec": {
   "display_name": "Python 3 (ipykernel)",
   "language": "python",
   "name": "python3"
  },
  "language_info": {
   "codemirror_mode": {
    "name": "ipython",
    "version": 3
   },
   "file_extension": ".py",
   "mimetype": "text/x-python",
   "name": "python",
   "nbconvert_exporter": "python",
   "pygments_lexer": "ipython3",
   "version": "3.7.11"
  },
  "toc": {
   "base_numbering": 1,
   "nav_menu": {},
   "number_sections": true,
   "sideBar": true,
   "skip_h1_title": false,
   "title_cell": "Table of Contents",
   "title_sidebar": "Contents",
   "toc_cell": false,
   "toc_position": {},
   "toc_section_display": true,
   "toc_window_display": false
  },
  "varInspector": {
   "cols": {
    "lenName": 16,
    "lenType": 16,
    "lenVar": 40
   },
   "kernels_config": {
    "python": {
     "delete_cmd_postfix": "",
     "delete_cmd_prefix": "del ",
     "library": "var_list.py",
     "varRefreshCmd": "print(var_dic_list())"
    },
    "r": {
     "delete_cmd_postfix": ") ",
     "delete_cmd_prefix": "rm(",
     "library": "var_list.r",
     "varRefreshCmd": "cat(var_dic_list()) "
    }
   },
   "types_to_exclude": [
    "module",
    "function",
    "builtin_function_or_method",
    "instance",
    "_Feature"
   ],
   "window_display": false
  }
 },
 "nbformat": 4,
 "nbformat_minor": 5
}
