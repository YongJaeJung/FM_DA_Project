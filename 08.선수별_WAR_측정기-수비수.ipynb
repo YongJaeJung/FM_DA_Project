{
 "cells": [
  {
   "cell_type": "markdown",
   "id": "3f7b833e",
   "metadata": {},
   "source": [
    "# 필요한 라이브러리 import"
   ]
  },
  {
   "cell_type": "code",
   "execution_count": 1,
   "id": "ecdb0774",
   "metadata": {
    "ExecuteTime": {
     "end_time": "2021-12-31T14:41:32.480138Z",
     "start_time": "2021-12-31T14:41:29.017182Z"
    }
   },
   "outputs": [],
   "source": [
    "import csv\n",
    "import pandas as pd\n",
    "import os\n",
    "import re\n",
    "import numpy as np\n",
    "import seaborn as sns\n",
    "import matplotlib.pyplot as plt\n",
    "from collections import defaultdict\n",
    "import warnings\n",
    "import pickle\n",
    "plt.rc('font',family='Malgun Gothic')\n",
    "plt.rc('font',size=10)\n",
    "from sklearn.metrics import mean_absolute_error,mean_squared_error\n",
    "from sklearn.decomposition import PCA\n",
    "from sklearn.preprocessing import StandardScaler\n",
    "\n",
    "from tensorflow.keras.models import load_model\n",
    "import tensorflow as tf\n",
    "import joblib\n",
    "warnings.filterwarnings(action='ignore')"
   ]
  },
  {
   "cell_type": "code",
   "execution_count": 2,
   "id": "radio-conditions",
   "metadata": {
    "ExecuteTime": {
     "end_time": "2021-12-31T14:41:32.556148Z",
     "start_time": "2021-12-31T14:41:32.481139Z"
    }
   },
   "outputs": [],
   "source": [
    "with open('./models/defender/defender_qt.pickle','rb') as f:\n",
    "    defender_po = pickle.load(f)\n",
    "\n",
    "defender_model = load_model('./models/defender/defender_nn.h5')\n",
    "\n",
    "premier_df = pd.read_csv('./datas/NEW_FM_DATA_MERGED/2021-2022/2021-2022-PremierLeague.csv')"
   ]
  },
  {
   "cell_type": "code",
   "execution_count": 3,
   "id": "3d6bff7b",
   "metadata": {
    "ExecuteTime": {
     "end_time": "2021-12-31T14:41:32.571588Z",
     "start_time": "2021-12-31T14:41:32.557149Z"
    }
   },
   "outputs": [],
   "source": [
    "premier_df.rename(columns={'Cr C/A':'크로스 성공률','FA':'파울 획득','Int/90':'인터셉트/90','공중 A/90':'공중볼시도/90','K Ps/90':'키패스/90','Cr A/90':'크로스 시도/90'},inplace=True)\n",
    "premier_df = premier_df.astype({'파울 획득':np.int64,'태클 성공률':np.int64})"
   ]
  },
  {
   "cell_type": "code",
   "execution_count": 4,
   "id": "8d7775c1",
   "metadata": {
    "ExecuteTime": {
     "end_time": "2021-12-31T14:41:32.586999Z",
     "start_time": "2021-12-31T14:41:32.572589Z"
    }
   },
   "outputs": [],
   "source": [
    "defender_df = premier_df[premier_df['포지션']=='수비수']"
   ]
  },
  {
   "cell_type": "code",
   "execution_count": 5,
   "id": "865f9553",
   "metadata": {
    "ExecuteTime": {
     "end_time": "2021-12-31T14:41:32.602521Z",
     "start_time": "2021-12-31T14:41:32.589000Z"
    }
   },
   "outputs": [],
   "source": [
    "# PSTL = Pass sucess try linear\n",
    "\n",
    "defender_df['PSTL'] = (defender_df['경기당 패스 성공/90']) + (defender_df['경기당 패스 시도/90']*1.2)"
   ]
  },
  {
   "cell_type": "code",
   "execution_count": 6,
   "id": "82680018",
   "metadata": {
    "ExecuteTime": {
     "end_time": "2021-12-31T14:41:32.618197Z",
     "start_time": "2021-12-31T14:41:32.603251Z"
    }
   },
   "outputs": [],
   "source": [
    "independent_value = {'PSTL', '태클 성공/90', '헤더 성공/90'}\n",
    "\n",
    "dependent_value = {'평균획득승점/경기'}"
   ]
  },
  {
   "cell_type": "code",
   "execution_count": 7,
   "id": "54553286",
   "metadata": {
    "ExecuteTime": {
     "end_time": "2021-12-31T14:41:32.633299Z",
     "start_time": "2021-12-31T14:41:32.619197Z"
    }
   },
   "outputs": [],
   "source": [
    "defender_df.loc[:,independent_value] = defender_po.transform(defender_df.loc[:,independent_value])"
   ]
  },
  {
   "cell_type": "code",
   "execution_count": 8,
   "id": "6cbd4b64",
   "metadata": {
    "ExecuteTime": {
     "end_time": "2021-12-31T14:41:32.648850Z",
     "start_time": "2021-12-31T14:41:32.634263Z"
    }
   },
   "outputs": [],
   "source": [
    "defender_df = defender_df.reset_index(drop=True)"
   ]
  },
  {
   "cell_type": "code",
   "execution_count": 9,
   "id": "e4eddbb9",
   "metadata": {
    "ExecuteTime": {
     "end_time": "2021-12-31T14:41:32.784913Z",
     "start_time": "2021-12-31T14:41:32.649854Z"
    }
   },
   "outputs": [],
   "source": [
    "defender_df['예측PPG']=defender_model.predict(defender_df.loc[:,independent_value])"
   ]
  },
  {
   "cell_type": "code",
   "execution_count": 10,
   "id": "dda4fa99",
   "metadata": {
    "ExecuteTime": {
     "end_time": "2021-12-31T14:41:32.815219Z",
     "start_time": "2021-12-31T14:41:32.785914Z"
    }
   },
   "outputs": [
    {
     "data": {
      "text/html": [
       "<div>\n",
       "<style scoped>\n",
       "    .dataframe tbody tr th:only-of-type {\n",
       "        vertical-align: middle;\n",
       "    }\n",
       "\n",
       "    .dataframe tbody tr th {\n",
       "        vertical-align: top;\n",
       "    }\n",
       "\n",
       "    .dataframe thead th {\n",
       "        text-align: right;\n",
       "    }\n",
       "</style>\n",
       "<table border=\"1\" class=\"dataframe\">\n",
       "  <thead>\n",
       "    <tr style=\"text-align: right;\">\n",
       "      <th></th>\n",
       "      <th>이름</th>\n",
       "      <th>시즌</th>\n",
       "      <th>포지션</th>\n",
       "      <th>구단</th>\n",
       "      <th>리그</th>\n",
       "      <th>골</th>\n",
       "      <th>도움</th>\n",
       "      <th>임대 기간</th>\n",
       "      <th>승</th>\n",
       "      <th>무</th>\n",
       "      <th>...</th>\n",
       "      <th>경기당 패스 시도/90</th>\n",
       "      <th>경기당 패스 성공/90</th>\n",
       "      <th>키패스/90</th>\n",
       "      <th>태클 성공/90</th>\n",
       "      <th>드리블 성공/90</th>\n",
       "      <th>헤더 성공/90</th>\n",
       "      <th>크로스 시도/90</th>\n",
       "      <th>평균획득승점/경기</th>\n",
       "      <th>PSTL</th>\n",
       "      <th>예측PPG</th>\n",
       "    </tr>\n",
       "  </thead>\n",
       "  <tbody>\n",
       "    <tr>\n",
       "      <th>17</th>\n",
       "      <td>Rodri</td>\n",
       "      <td>2021-2022</td>\n",
       "      <td>수비수</td>\n",
       "      <td>맨시티</td>\n",
       "      <td>잉글랜드 프리미어 리그</td>\n",
       "      <td>3</td>\n",
       "      <td>3</td>\n",
       "      <td>0</td>\n",
       "      <td>24</td>\n",
       "      <td>10</td>\n",
       "      <td>...</td>\n",
       "      <td>64.34</td>\n",
       "      <td>60.11</td>\n",
       "      <td>0.79</td>\n",
       "      <td>2.690265</td>\n",
       "      <td>0.23</td>\n",
       "      <td>-10.376616</td>\n",
       "      <td>0.11</td>\n",
       "      <td>1.82</td>\n",
       "      <td>56.400000</td>\n",
       "      <td>2.267734</td>\n",
       "    </tr>\n",
       "    <tr>\n",
       "      <th>82</th>\n",
       "      <td>William Carvalho</td>\n",
       "      <td>2021-2022</td>\n",
       "      <td>수비수</td>\n",
       "      <td>토트넘</td>\n",
       "      <td>잉글랜드 프리미어 리그</td>\n",
       "      <td>1</td>\n",
       "      <td>5</td>\n",
       "      <td>0</td>\n",
       "      <td>10</td>\n",
       "      <td>4</td>\n",
       "      <td>...</td>\n",
       "      <td>63.98</td>\n",
       "      <td>60.78</td>\n",
       "      <td>0.84</td>\n",
       "      <td>0.955752</td>\n",
       "      <td>0.12</td>\n",
       "      <td>-10.632462</td>\n",
       "      <td>0.06</td>\n",
       "      <td>1.79</td>\n",
       "      <td>56.504846</td>\n",
       "      <td>2.259411</td>\n",
       "    </tr>\n",
       "    <tr>\n",
       "      <th>77</th>\n",
       "      <td>Luka Milivojević</td>\n",
       "      <td>2021-2022</td>\n",
       "      <td>수비수</td>\n",
       "      <td>팰리스</td>\n",
       "      <td>잉글랜드 프리미어 리그</td>\n",
       "      <td>1</td>\n",
       "      <td>2</td>\n",
       "      <td>0</td>\n",
       "      <td>14</td>\n",
       "      <td>10</td>\n",
       "      <td>...</td>\n",
       "      <td>63.39</td>\n",
       "      <td>58.55</td>\n",
       "      <td>0.74</td>\n",
       "      <td>1.168142</td>\n",
       "      <td>0.05</td>\n",
       "      <td>-10.600367</td>\n",
       "      <td>0.14</td>\n",
       "      <td>1.30</td>\n",
       "      <td>55.210573</td>\n",
       "      <td>2.229390</td>\n",
       "    </tr>\n",
       "    <tr>\n",
       "      <th>2</th>\n",
       "      <td>Diego Carlos</td>\n",
       "      <td>2021-2022</td>\n",
       "      <td>수비수</td>\n",
       "      <td>뉴캐슬</td>\n",
       "      <td>잉글랜드 프리미어 리그</td>\n",
       "      <td>1</td>\n",
       "      <td>1</td>\n",
       "      <td>0</td>\n",
       "      <td>9</td>\n",
       "      <td>3</td>\n",
       "      <td>...</td>\n",
       "      <td>62.12</td>\n",
       "      <td>59.18</td>\n",
       "      <td>0.06</td>\n",
       "      <td>0.053097</td>\n",
       "      <td>0.18</td>\n",
       "      <td>-10.058414</td>\n",
       "      <td>0.00</td>\n",
       "      <td>1.76</td>\n",
       "      <td>54.816740</td>\n",
       "      <td>2.229138</td>\n",
       "    </tr>\n",
       "    <tr>\n",
       "      <th>8</th>\n",
       "      <td>Jonny Evans</td>\n",
       "      <td>2021-2022</td>\n",
       "      <td>수비수</td>\n",
       "      <td>레스터</td>\n",
       "      <td>잉글랜드 프리미어 리그</td>\n",
       "      <td>0</td>\n",
       "      <td>1</td>\n",
       "      <td>0</td>\n",
       "      <td>6</td>\n",
       "      <td>3</td>\n",
       "      <td>...</td>\n",
       "      <td>62.08</td>\n",
       "      <td>58.99</td>\n",
       "      <td>0.31</td>\n",
       "      <td>-0.761062</td>\n",
       "      <td>0.00</td>\n",
       "      <td>-9.988721</td>\n",
       "      <td>0.00</td>\n",
       "      <td>1.05</td>\n",
       "      <td>54.711894</td>\n",
       "      <td>2.225870</td>\n",
       "    </tr>\n",
       "  </tbody>\n",
       "</table>\n",
       "<p>5 rows × 34 columns</p>\n",
       "</div>"
      ],
      "text/plain": [
       "                  이름         시즌  포지션   구단            리그  골  도움 임대 기간   승   무  \\\n",
       "17             Rodri  2021-2022  수비수  맨시티  잉글랜드 프리미어 리그  3   3     0  24  10   \n",
       "82  William Carvalho  2021-2022  수비수  토트넘  잉글랜드 프리미어 리그  1   5     0  10   4   \n",
       "77  Luka Milivojević  2021-2022  수비수  팰리스  잉글랜드 프리미어 리그  1   2     0  14  10   \n",
       "2       Diego Carlos  2021-2022  수비수  뉴캐슬  잉글랜드 프리미어 리그  1   1     0   9   3   \n",
       "8        Jonny Evans  2021-2022  수비수  레스터  잉글랜드 프리미어 리그  0   1     0   6   3   \n",
       "\n",
       "    ...  경기당 패스 시도/90  경기당 패스 성공/90  키패스/90  태클 성공/90  드리블 성공/90   헤더 성공/90  \\\n",
       "17  ...         64.34         60.11    0.79  2.690265       0.23 -10.376616   \n",
       "82  ...         63.98         60.78    0.84  0.955752       0.12 -10.632462   \n",
       "77  ...         63.39         58.55    0.74  1.168142       0.05 -10.600367   \n",
       "2   ...         62.12         59.18    0.06  0.053097       0.18 -10.058414   \n",
       "8   ...         62.08         58.99    0.31 -0.761062       0.00  -9.988721   \n",
       "\n",
       "    크로스 시도/90  평균획득승점/경기       PSTL     예측PPG  \n",
       "17       0.11       1.82  56.400000  2.267734  \n",
       "82       0.06       1.79  56.504846  2.259411  \n",
       "77       0.14       1.30  55.210573  2.229390  \n",
       "2        0.00       1.76  54.816740  2.229138  \n",
       "8        0.00       1.05  54.711894  2.225870  \n",
       "\n",
       "[5 rows x 34 columns]"
      ]
     },
     "execution_count": 10,
     "metadata": {},
     "output_type": "execute_result"
    }
   ],
   "source": [
    "defender_df.sort_values(by='예측PPG',ascending=False).head(5)"
   ]
  },
  {
   "cell_type": "code",
   "execution_count": 11,
   "id": "2625c17d",
   "metadata": {
    "ExecuteTime": {
     "end_time": "2021-12-31T14:41:32.830218Z",
     "start_time": "2021-12-31T14:41:32.816219Z"
    }
   },
   "outputs": [
    {
     "data": {
      "text/plain": [
       "1.6969858407974243"
      ]
     },
     "execution_count": 11,
     "metadata": {},
     "output_type": "execute_result"
    }
   ],
   "source": [
    "defender_min = np.min(defender_df['예측PPG'].tolist())\n",
    "defender_min"
   ]
  },
  {
   "cell_type": "code",
   "execution_count": 12,
   "id": "4ec104b1",
   "metadata": {
    "ExecuteTime": {
     "end_time": "2021-12-31T14:41:32.845307Z",
     "start_time": "2021-12-31T14:41:32.831219Z"
    }
   },
   "outputs": [],
   "source": [
    "defender_df['WAR'] = defender_df['예측PPG'].map(lambda x : x-defender_min+1)"
   ]
  },
  {
   "cell_type": "code",
   "execution_count": 13,
   "id": "f5a93e26",
   "metadata": {
    "ExecuteTime": {
     "end_time": "2021-12-31T14:41:32.860307Z",
     "start_time": "2021-12-31T14:41:32.846308Z"
    }
   },
   "outputs": [],
   "source": [
    "defender_df.loc[:,independent_value] = defender_po.inverse_transform(defender_df.loc[:,independent_value])"
   ]
  },
  {
   "cell_type": "code",
   "execution_count": 14,
   "id": "a0da1f60",
   "metadata": {
    "ExecuteTime": {
     "end_time": "2021-12-31T14:41:32.875605Z",
     "start_time": "2021-12-31T14:41:32.862307Z"
    }
   },
   "outputs": [],
   "source": [
    "defender_war = defender_df.sort_values(by='WAR',ascending=False).copy()\n",
    "defender_war = defender_war.reset_index(drop=True)"
   ]
  },
  {
   "cell_type": "code",
   "execution_count": 16,
   "id": "a040daad",
   "metadata": {
    "ExecuteTime": {
     "end_time": "2021-12-31T14:42:21.181279Z",
     "start_time": "2021-12-31T14:42:21.159279Z"
    }
   },
   "outputs": [
    {
     "data": {
      "text/html": [
       "<div>\n",
       "<style scoped>\n",
       "    .dataframe tbody tr th:only-of-type {\n",
       "        vertical-align: middle;\n",
       "    }\n",
       "\n",
       "    .dataframe tbody tr th {\n",
       "        vertical-align: top;\n",
       "    }\n",
       "\n",
       "    .dataframe thead th {\n",
       "        text-align: right;\n",
       "    }\n",
       "</style>\n",
       "<table border=\"1\" class=\"dataframe\">\n",
       "  <thead>\n",
       "    <tr style=\"text-align: right;\">\n",
       "      <th></th>\n",
       "      <th>이름</th>\n",
       "      <th>PSTL</th>\n",
       "      <th>태클 성공/90</th>\n",
       "      <th>헤더 성공/90</th>\n",
       "      <th>WAR</th>\n",
       "    </tr>\n",
       "  </thead>\n",
       "  <tbody>\n",
       "    <tr>\n",
       "      <th>0</th>\n",
       "      <td>Rodri</td>\n",
       "      <td>137.318</td>\n",
       "      <td>2.43</td>\n",
       "      <td>5.82</td>\n",
       "      <td>1.570748</td>\n",
       "    </tr>\n",
       "    <tr>\n",
       "      <th>1</th>\n",
       "      <td>William Carvalho</td>\n",
       "      <td>137.556</td>\n",
       "      <td>1.45</td>\n",
       "      <td>3.03</td>\n",
       "      <td>1.562425</td>\n",
       "    </tr>\n",
       "    <tr>\n",
       "      <th>2</th>\n",
       "      <td>Luka Milivojević</td>\n",
       "      <td>134.618</td>\n",
       "      <td>1.57</td>\n",
       "      <td>3.38</td>\n",
       "      <td>1.532404</td>\n",
       "    </tr>\n",
       "    <tr>\n",
       "      <th>3</th>\n",
       "      <td>Diego Carlos</td>\n",
       "      <td>133.724</td>\n",
       "      <td>0.94</td>\n",
       "      <td>9.29</td>\n",
       "      <td>1.532153</td>\n",
       "    </tr>\n",
       "    <tr>\n",
       "      <th>4</th>\n",
       "      <td>Jonny Evans</td>\n",
       "      <td>133.486</td>\n",
       "      <td>0.48</td>\n",
       "      <td>10.05</td>\n",
       "      <td>1.528884</td>\n",
       "    </tr>\n",
       "    <tr>\n",
       "      <th>5</th>\n",
       "      <td>Pontus Jansson</td>\n",
       "      <td>130.324</td>\n",
       "      <td>0.97</td>\n",
       "      <td>9.97</td>\n",
       "      <td>1.497442</td>\n",
       "    </tr>\n",
       "    <tr>\n",
       "      <th>6</th>\n",
       "      <td>Willy Boly</td>\n",
       "      <td>130.276</td>\n",
       "      <td>0.58</td>\n",
       "      <td>9.57</td>\n",
       "      <td>1.494102</td>\n",
       "    </tr>\n",
       "    <tr>\n",
       "      <th>7</th>\n",
       "      <td>Axel Tuanzebe</td>\n",
       "      <td>130.224</td>\n",
       "      <td>0.70</td>\n",
       "      <td>9.31</td>\n",
       "      <td>1.493606</td>\n",
       "    </tr>\n",
       "    <tr>\n",
       "      <th>8</th>\n",
       "      <td>Joachim Andersen</td>\n",
       "      <td>130.196</td>\n",
       "      <td>0.63</td>\n",
       "      <td>9.02</td>\n",
       "      <td>1.492339</td>\n",
       "    </tr>\n",
       "    <tr>\n",
       "      <th>9</th>\n",
       "      <td>Kurt Zouma</td>\n",
       "      <td>129.070</td>\n",
       "      <td>0.87</td>\n",
       "      <td>9.68</td>\n",
       "      <td>1.482929</td>\n",
       "    </tr>\n",
       "  </tbody>\n",
       "</table>\n",
       "</div>"
      ],
      "text/plain": [
       "                 이름     PSTL  태클 성공/90  헤더 성공/90       WAR\n",
       "0             Rodri  137.318      2.43      5.82  1.570748\n",
       "1  William Carvalho  137.556      1.45      3.03  1.562425\n",
       "2  Luka Milivojević  134.618      1.57      3.38  1.532404\n",
       "3      Diego Carlos  133.724      0.94      9.29  1.532153\n",
       "4       Jonny Evans  133.486      0.48     10.05  1.528884\n",
       "5    Pontus Jansson  130.324      0.97      9.97  1.497442\n",
       "6        Willy Boly  130.276      0.58      9.57  1.494102\n",
       "7     Axel Tuanzebe  130.224      0.70      9.31  1.493606\n",
       "8  Joachim Andersen  130.196      0.63      9.02  1.492339\n",
       "9        Kurt Zouma  129.070      0.87      9.68  1.482929"
      ]
     },
     "execution_count": 16,
     "metadata": {},
     "output_type": "execute_result"
    }
   ],
   "source": [
    "defender_war[['이름','PSTL','태클 성공/90', '헤더 성공/90','WAR']].sort_values(by='WAR',ascending=False).head(10)"
   ]
  }
 ],
 "metadata": {
  "kernelspec": {
   "display_name": "Python 3 (ipykernel)",
   "language": "python",
   "name": "python3"
  },
  "language_info": {
   "codemirror_mode": {
    "name": "ipython",
    "version": 3
   },
   "file_extension": ".py",
   "mimetype": "text/x-python",
   "name": "python",
   "nbconvert_exporter": "python",
   "pygments_lexer": "ipython3",
   "version": "3.7.11"
  },
  "toc": {
   "base_numbering": 1,
   "nav_menu": {},
   "number_sections": true,
   "sideBar": true,
   "skip_h1_title": false,
   "title_cell": "Table of Contents",
   "title_sidebar": "Contents",
   "toc_cell": false,
   "toc_position": {},
   "toc_section_display": true,
   "toc_window_display": false
  },
  "varInspector": {
   "cols": {
    "lenName": 16,
    "lenType": 16,
    "lenVar": 40
   },
   "kernels_config": {
    "python": {
     "delete_cmd_postfix": "",
     "delete_cmd_prefix": "del ",
     "library": "var_list.py",
     "varRefreshCmd": "print(var_dic_list())"
    },
    "r": {
     "delete_cmd_postfix": ") ",
     "delete_cmd_prefix": "rm(",
     "library": "var_list.r",
     "varRefreshCmd": "cat(var_dic_list()) "
    }
   },
   "types_to_exclude": [
    "module",
    "function",
    "builtin_function_or_method",
    "instance",
    "_Feature"
   ],
   "window_display": false
  }
 },
 "nbformat": 4,
 "nbformat_minor": 5
}
