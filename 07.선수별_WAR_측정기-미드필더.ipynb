{
 "cells": [
  {
   "cell_type": "markdown",
   "id": "3f7b833e",
   "metadata": {},
   "source": [
    "# 필요한 라이브러리 import"
   ]
  },
  {
   "cell_type": "code",
   "execution_count": 1,
   "id": "ecdb0774",
   "metadata": {
    "ExecuteTime": {
     "end_time": "2022-01-05T15:14:44.186902Z",
     "start_time": "2022-01-05T15:14:40.801847Z"
    }
   },
   "outputs": [],
   "source": [
    "import csv\n",
    "import pandas as pd\n",
    "import os\n",
    "import re\n",
    "import numpy as np\n",
    "import seaborn as sns\n",
    "import matplotlib.pyplot as plt\n",
    "from collections import defaultdict\n",
    "import warnings\n",
    "import pickle\n",
    "plt.rc('font',family='Malgun Gothic')\n",
    "plt.rc('font',size=10)\n",
    "from sklearn.metrics import mean_absolute_error,mean_squared_error\n",
    "from sklearn.decomposition import PCA\n",
    "from sklearn.preprocessing import StandardScaler\n",
    "\n",
    "from tensorflow.keras.models import load_model\n",
    "import tensorflow as tf\n",
    "import joblib\n",
    "warnings.filterwarnings(action='ignore')"
   ]
  },
  {
   "cell_type": "code",
   "execution_count": 2,
   "id": "radio-conditions",
   "metadata": {
    "ExecuteTime": {
     "end_time": "2022-01-05T15:14:44.276960Z",
     "start_time": "2022-01-05T15:14:44.187902Z"
    }
   },
   "outputs": [
    {
     "data": {
      "text/html": [
       "<div>\n",
       "<style scoped>\n",
       "    .dataframe tbody tr th:only-of-type {\n",
       "        vertical-align: middle;\n",
       "    }\n",
       "\n",
       "    .dataframe tbody tr th {\n",
       "        vertical-align: top;\n",
       "    }\n",
       "\n",
       "    .dataframe thead th {\n",
       "        text-align: right;\n",
       "    }\n",
       "</style>\n",
       "<table border=\"1\" class=\"dataframe\">\n",
       "  <thead>\n",
       "    <tr style=\"text-align: right;\">\n",
       "      <th></th>\n",
       "      <th>이름</th>\n",
       "      <th>시즌</th>\n",
       "      <th>포지션</th>\n",
       "      <th>구단</th>\n",
       "      <th>리그</th>\n",
       "      <th>골/90</th>\n",
       "      <th>도움/90</th>\n",
       "      <th>임대 기간</th>\n",
       "      <th>승</th>\n",
       "      <th>무</th>\n",
       "      <th>...</th>\n",
       "      <th>공중 A/90</th>\n",
       "      <th>태클 성공률</th>\n",
       "      <th>경기당 패스 시도/90</th>\n",
       "      <th>경기당 패스 성공/90</th>\n",
       "      <th>K Ps/90</th>\n",
       "      <th>태클 성공/90</th>\n",
       "      <th>드리블 성공/90</th>\n",
       "      <th>헤더 성공/90</th>\n",
       "      <th>Cr A/90</th>\n",
       "      <th>평균획득승점/경기</th>\n",
       "    </tr>\n",
       "  </thead>\n",
       "  <tbody>\n",
       "    <tr>\n",
       "      <th>0</th>\n",
       "      <td>Teemu Pukki</td>\n",
       "      <td>2021-2022</td>\n",
       "      <td>공격수</td>\n",
       "      <td>노리치</td>\n",
       "      <td>잉글랜드 프리미어 리그</td>\n",
       "      <td>0.312655</td>\n",
       "      <td>0.08933</td>\n",
       "      <td>0</td>\n",
       "      <td>7</td>\n",
       "      <td>11</td>\n",
       "      <td>...</td>\n",
       "      <td>7.28</td>\n",
       "      <td>100</td>\n",
       "      <td>30.64</td>\n",
       "      <td>26.0</td>\n",
       "      <td>0.8</td>\n",
       "      <td>0.88</td>\n",
       "      <td>0.98</td>\n",
       "      <td>3.39</td>\n",
       "      <td>0.58</td>\n",
       "      <td>0.94</td>\n",
       "    </tr>\n",
       "  </tbody>\n",
       "</table>\n",
       "<p>1 rows × 32 columns</p>\n",
       "</div>"
      ],
      "text/plain": [
       "            이름         시즌  포지션   구단            리그      골/90    도움/90 임대 기간  승  \\\n",
       "0  Teemu Pukki  2021-2022  공격수  노리치  잉글랜드 프리미어 리그  0.312655  0.08933     0  7   \n",
       "\n",
       "    무  ...  공중 A/90  태클 성공률  경기당 패스 시도/90  경기당 패스 성공/90  K Ps/90  태클 성공/90  \\\n",
       "0  11  ...     7.28     100         30.64          26.0      0.8      0.88   \n",
       "\n",
       "   드리블 성공/90  헤더 성공/90  Cr A/90  평균획득승점/경기  \n",
       "0       0.98      3.39     0.58       0.94  \n",
       "\n",
       "[1 rows x 32 columns]"
      ]
     },
     "execution_count": 2,
     "metadata": {},
     "output_type": "execute_result"
    }
   ],
   "source": [
    "with open('./models/midfielder/midfielder_po.pickle','rb') as f:\n",
    "    midfielder_po = pickle.load(f)\n",
    "\n",
    "midfielder_model = load_model('./models/midfielder/midfielder_nn.h5')\n",
    "\n",
    "premier_df = pd.read_csv('./datas/NEW_FM_DATA_MERGED/2021-2022/2021-2022-PremierLeague.csv')\n",
    "premier_df.head(1)"
   ]
  },
  {
   "cell_type": "code",
   "execution_count": 3,
   "id": "3d6bff7b",
   "metadata": {
    "ExecuteTime": {
     "end_time": "2022-01-05T15:14:44.306932Z",
     "start_time": "2022-01-05T15:14:44.277959Z"
    }
   },
   "outputs": [
    {
     "data": {
      "text/html": [
       "<div>\n",
       "<style scoped>\n",
       "    .dataframe tbody tr th:only-of-type {\n",
       "        vertical-align: middle;\n",
       "    }\n",
       "\n",
       "    .dataframe tbody tr th {\n",
       "        vertical-align: top;\n",
       "    }\n",
       "\n",
       "    .dataframe thead th {\n",
       "        text-align: right;\n",
       "    }\n",
       "</style>\n",
       "<table border=\"1\" class=\"dataframe\">\n",
       "  <thead>\n",
       "    <tr style=\"text-align: right;\">\n",
       "      <th></th>\n",
       "      <th>이름</th>\n",
       "      <th>시즌</th>\n",
       "      <th>포지션</th>\n",
       "      <th>구단</th>\n",
       "      <th>리그</th>\n",
       "      <th>골/90</th>\n",
       "      <th>도움/90</th>\n",
       "      <th>임대 기간</th>\n",
       "      <th>승</th>\n",
       "      <th>무</th>\n",
       "      <th>...</th>\n",
       "      <th>공중볼시도/90</th>\n",
       "      <th>태클 성공률</th>\n",
       "      <th>경기당 패스 시도/90</th>\n",
       "      <th>경기당 패스 성공/90</th>\n",
       "      <th>키패스/90</th>\n",
       "      <th>태클 성공/90</th>\n",
       "      <th>드리블 성공/90</th>\n",
       "      <th>헤더 성공/90</th>\n",
       "      <th>크로스 시도/90</th>\n",
       "      <th>평균획득승점/경기</th>\n",
       "    </tr>\n",
       "  </thead>\n",
       "  <tbody>\n",
       "    <tr>\n",
       "      <th>0</th>\n",
       "      <td>Teemu Pukki</td>\n",
       "      <td>2021-2022</td>\n",
       "      <td>공격수</td>\n",
       "      <td>노리치</td>\n",
       "      <td>잉글랜드 프리미어 리그</td>\n",
       "      <td>0.312655</td>\n",
       "      <td>0.08933</td>\n",
       "      <td>0</td>\n",
       "      <td>7</td>\n",
       "      <td>11</td>\n",
       "      <td>...</td>\n",
       "      <td>7.28</td>\n",
       "      <td>100</td>\n",
       "      <td>30.64</td>\n",
       "      <td>26.0</td>\n",
       "      <td>0.8</td>\n",
       "      <td>0.88</td>\n",
       "      <td>0.98</td>\n",
       "      <td>3.39</td>\n",
       "      <td>0.58</td>\n",
       "      <td>0.94</td>\n",
       "    </tr>\n",
       "  </tbody>\n",
       "</table>\n",
       "<p>1 rows × 32 columns</p>\n",
       "</div>"
      ],
      "text/plain": [
       "            이름         시즌  포지션   구단            리그      골/90    도움/90 임대 기간  승  \\\n",
       "0  Teemu Pukki  2021-2022  공격수  노리치  잉글랜드 프리미어 리그  0.312655  0.08933     0  7   \n",
       "\n",
       "    무  ...  공중볼시도/90  태클 성공률  경기당 패스 시도/90  경기당 패스 성공/90  키패스/90  태클 성공/90  \\\n",
       "0  11  ...      7.28     100         30.64          26.0     0.8      0.88   \n",
       "\n",
       "   드리블 성공/90  헤더 성공/90  크로스 시도/90  평균획득승점/경기  \n",
       "0       0.98      3.39       0.58       0.94  \n",
       "\n",
       "[1 rows x 32 columns]"
      ]
     },
     "execution_count": 3,
     "metadata": {},
     "output_type": "execute_result"
    }
   ],
   "source": [
    "premier_df.rename(columns={'Cr C/A':'크로스 성공률','FA':'파울 획득','Int/90':'인터셉트/90','공중 A/90':'공중볼시도/90','K Ps/90':'키패스/90','Cr A/90':'크로스 시도/90'},inplace=True)\n",
    "premier_df = premier_df.astype({'파울 획득':np.int64,'태클 성공률':np.int64})\n",
    "premier_df.head(1)"
   ]
  },
  {
   "cell_type": "code",
   "execution_count": 4,
   "id": "8d7775c1",
   "metadata": {
    "ExecuteTime": {
     "end_time": "2022-01-05T15:14:44.321880Z",
     "start_time": "2022-01-05T15:14:44.308932Z"
    }
   },
   "outputs": [],
   "source": [
    "midfielder_df = premier_df[premier_df['포지션']=='미드필더']\n",
    "midfielder_df = midfielder_df.reset_index(drop=True)"
   ]
  },
  {
   "cell_type": "code",
   "execution_count": 5,
   "id": "b2b11bf3",
   "metadata": {
    "ExecuteTime": {
     "end_time": "2022-01-05T15:14:44.337294Z",
     "start_time": "2022-01-05T15:14:44.322828Z"
    }
   },
   "outputs": [],
   "source": [
    "# Goal_Shoot_linear\n",
    "midfielder_df['GSL'] = (midfielder_df['경기당 유효 슈팅/90']+0.5) + (midfielder_df['경기당 슈팅/90']) + (midfielder_df['골/90']*1.3)"
   ]
  },
  {
   "cell_type": "code",
   "execution_count": 6,
   "id": "865f9553",
   "metadata": {
    "ExecuteTime": {
     "end_time": "2022-01-05T15:14:44.352714Z",
     "start_time": "2022-01-05T15:14:44.338293Z"
    }
   },
   "outputs": [],
   "source": [
    "# PSTL = Pass sucess try linear\n",
    "\n",
    "midfielder_df['PSTL'] = (midfielder_df['경기당 패스 성공/90']) + (midfielder_df['경기당 패스 시도/90']*1.15)"
   ]
  },
  {
   "cell_type": "code",
   "execution_count": 7,
   "id": "82680018",
   "metadata": {
    "ExecuteTime": {
     "end_time": "2022-01-05T15:14:44.367813Z",
     "start_time": "2022-01-05T15:14:44.353906Z"
    }
   },
   "outputs": [],
   "source": [
    "independent_value ={'GSL','PSTL','공중볼시도/90','기회 창출/90','도움/90','드리블 성공/90','반칙 수/90','키패스/90','태클 성공/90'}\n",
    "\n",
    "dependent_value = {'평균획득승점/경기'}"
   ]
  },
  {
   "cell_type": "code",
   "execution_count": 8,
   "id": "54553286",
   "metadata": {
    "ExecuteTime": {
     "end_time": "2022-01-05T15:14:44.382776Z",
     "start_time": "2022-01-05T15:14:44.368813Z"
    }
   },
   "outputs": [],
   "source": [
    "midfielder_df.loc[:,independent_value] = midfielder_po.transform(midfielder_df.loc[:,independent_value])"
   ]
  },
  {
   "cell_type": "code",
   "execution_count": 9,
   "id": "6cbd4b64",
   "metadata": {
    "ExecuteTime": {
     "end_time": "2022-01-05T15:14:44.397827Z",
     "start_time": "2022-01-05T15:14:44.383911Z"
    }
   },
   "outputs": [],
   "source": [
    "midfielder_df = midfielder_df.reset_index(drop=True)"
   ]
  },
  {
   "cell_type": "code",
   "execution_count": 10,
   "id": "e4eddbb9",
   "metadata": {
    "ExecuteTime": {
     "end_time": "2022-01-05T15:14:44.533275Z",
     "start_time": "2022-01-05T15:14:44.399831Z"
    }
   },
   "outputs": [],
   "source": [
    "midfielder_df['예측PPG']=midfielder_model.predict(midfielder_df.loc[:,independent_value])"
   ]
  },
  {
   "cell_type": "code",
   "execution_count": 11,
   "id": "dda4fa99",
   "metadata": {
    "ExecuteTime": {
     "end_time": "2022-01-05T15:14:44.563936Z",
     "start_time": "2022-01-05T15:14:44.534245Z"
    }
   },
   "outputs": [
    {
     "data": {
      "text/html": [
       "<div>\n",
       "<style scoped>\n",
       "    .dataframe tbody tr th:only-of-type {\n",
       "        vertical-align: middle;\n",
       "    }\n",
       "\n",
       "    .dataframe tbody tr th {\n",
       "        vertical-align: top;\n",
       "    }\n",
       "\n",
       "    .dataframe thead th {\n",
       "        text-align: right;\n",
       "    }\n",
       "</style>\n",
       "<table border=\"1\" class=\"dataframe\">\n",
       "  <thead>\n",
       "    <tr style=\"text-align: right;\">\n",
       "      <th></th>\n",
       "      <th>이름</th>\n",
       "      <th>시즌</th>\n",
       "      <th>포지션</th>\n",
       "      <th>구단</th>\n",
       "      <th>리그</th>\n",
       "      <th>골/90</th>\n",
       "      <th>도움/90</th>\n",
       "      <th>임대 기간</th>\n",
       "      <th>승</th>\n",
       "      <th>무</th>\n",
       "      <th>...</th>\n",
       "      <th>경기당 패스 성공/90</th>\n",
       "      <th>키패스/90</th>\n",
       "      <th>태클 성공/90</th>\n",
       "      <th>드리블 성공/90</th>\n",
       "      <th>헤더 성공/90</th>\n",
       "      <th>크로스 시도/90</th>\n",
       "      <th>평균획득승점/경기</th>\n",
       "      <th>GSL</th>\n",
       "      <th>PSTL</th>\n",
       "      <th>예측PPG</th>\n",
       "    </tr>\n",
       "  </thead>\n",
       "  <tbody>\n",
       "    <tr>\n",
       "      <th>3</th>\n",
       "      <td>Mathias Normann</td>\n",
       "      <td>2021-2022</td>\n",
       "      <td>미드필더</td>\n",
       "      <td>노리치</td>\n",
       "      <td>잉글랜드 프리미어 리그</td>\n",
       "      <td>0.029297</td>\n",
       "      <td>-1.954613</td>\n",
       "      <td>21/7/5 - 22/6/30</td>\n",
       "      <td>7</td>\n",
       "      <td>13</td>\n",
       "      <td>...</td>\n",
       "      <td>54.81</td>\n",
       "      <td>4.526316</td>\n",
       "      <td>0.626198</td>\n",
       "      <td>-0.194427</td>\n",
       "      <td>2.48</td>\n",
       "      <td>0.41</td>\n",
       "      <td>0.92</td>\n",
       "      <td>-1.129696</td>\n",
       "      <td>81.033279</td>\n",
       "      <td>20.392891</td>\n",
       "    </tr>\n",
       "    <tr>\n",
       "      <th>35</th>\n",
       "      <td>Kalvin Phillips</td>\n",
       "      <td>2021-2022</td>\n",
       "      <td>미드필더</td>\n",
       "      <td>리즈</td>\n",
       "      <td>잉글랜드 프리미어 리그</td>\n",
       "      <td>0.026714</td>\n",
       "      <td>-1.920409</td>\n",
       "      <td>0</td>\n",
       "      <td>12</td>\n",
       "      <td>12</td>\n",
       "      <td>...</td>\n",
       "      <td>53.08</td>\n",
       "      <td>4.052632</td>\n",
       "      <td>0.428115</td>\n",
       "      <td>0.608792</td>\n",
       "      <td>2.57</td>\n",
       "      <td>0.69</td>\n",
       "      <td>1.12</td>\n",
       "      <td>-0.452417</td>\n",
       "      <td>79.338513</td>\n",
       "      <td>20.036650</td>\n",
       "    </tr>\n",
       "    <tr>\n",
       "      <th>66</th>\n",
       "      <td>Frank Onyeka</td>\n",
       "      <td>2021-2022</td>\n",
       "      <td>미드필더</td>\n",
       "      <td>브렌트포드</td>\n",
       "      <td>잉글랜드 프리미어 리그</td>\n",
       "      <td>0.028116</td>\n",
       "      <td>-1.958361</td>\n",
       "      <td>0</td>\n",
       "      <td>13</td>\n",
       "      <td>3</td>\n",
       "      <td>...</td>\n",
       "      <td>50.55</td>\n",
       "      <td>1.631579</td>\n",
       "      <td>0.300319</td>\n",
       "      <td>7.677124</td>\n",
       "      <td>2.81</td>\n",
       "      <td>0.48</td>\n",
       "      <td>1.17</td>\n",
       "      <td>-1.014307</td>\n",
       "      <td>74.936218</td>\n",
       "      <td>19.445843</td>\n",
       "    </tr>\n",
       "    <tr>\n",
       "      <th>60</th>\n",
       "      <td>Yves Bissouma</td>\n",
       "      <td>2021-2022</td>\n",
       "      <td>미드필더</td>\n",
       "      <td>브라이튼</td>\n",
       "      <td>잉글랜드 프리미어 리그</td>\n",
       "      <td>0.233463</td>\n",
       "      <td>-1.908653</td>\n",
       "      <td>0</td>\n",
       "      <td>10</td>\n",
       "      <td>8</td>\n",
       "      <td>...</td>\n",
       "      <td>48.71</td>\n",
       "      <td>2.526316</td>\n",
       "      <td>0.389776</td>\n",
       "      <td>6.552616</td>\n",
       "      <td>3.04</td>\n",
       "      <td>0.55</td>\n",
       "      <td>1.06</td>\n",
       "      <td>0.631385</td>\n",
       "      <td>74.148439</td>\n",
       "      <td>19.218233</td>\n",
       "    </tr>\n",
       "    <tr>\n",
       "      <th>62</th>\n",
       "      <td>Steven Alzate</td>\n",
       "      <td>2021-2022</td>\n",
       "      <td>미드필더</td>\n",
       "      <td>브라이튼</td>\n",
       "      <td>잉글랜드 프리미어 리그</td>\n",
       "      <td>0.041303</td>\n",
       "      <td>-2.047619</td>\n",
       "      <td>0</td>\n",
       "      <td>9</td>\n",
       "      <td>8</td>\n",
       "      <td>...</td>\n",
       "      <td>49.44</td>\n",
       "      <td>5.157895</td>\n",
       "      <td>0.498403</td>\n",
       "      <td>5.347787</td>\n",
       "      <td>1.74</td>\n",
       "      <td>0.45</td>\n",
       "      <td>1.03</td>\n",
       "      <td>-0.496070</td>\n",
       "      <td>73.966773</td>\n",
       "      <td>19.128456</td>\n",
       "    </tr>\n",
       "  </tbody>\n",
       "</table>\n",
       "<p>5 rows × 35 columns</p>\n",
       "</div>"
      ],
      "text/plain": [
       "                 이름         시즌   포지션     구단            리그      골/90     도움/90  \\\n",
       "3   Mathias Normann  2021-2022  미드필더    노리치  잉글랜드 프리미어 리그  0.029297 -1.954613   \n",
       "35  Kalvin Phillips  2021-2022  미드필더     리즈  잉글랜드 프리미어 리그  0.026714 -1.920409   \n",
       "66     Frank Onyeka  2021-2022  미드필더  브렌트포드  잉글랜드 프리미어 리그  0.028116 -1.958361   \n",
       "60    Yves Bissouma  2021-2022  미드필더   브라이튼  잉글랜드 프리미어 리그  0.233463 -1.908653   \n",
       "62    Steven Alzate  2021-2022  미드필더   브라이튼  잉글랜드 프리미어 리그  0.041303 -2.047619   \n",
       "\n",
       "               임대 기간   승   무  ...  경기당 패스 성공/90    키패스/90  태클 성공/90  \\\n",
       "3   21/7/5 - 22/6/30   7  13  ...         54.81  4.526316  0.626198   \n",
       "35                 0  12  12  ...         53.08  4.052632  0.428115   \n",
       "66                 0  13   3  ...         50.55  1.631579  0.300319   \n",
       "60                 0  10   8  ...         48.71  2.526316  0.389776   \n",
       "62                 0   9   8  ...         49.44  5.157895  0.498403   \n",
       "\n",
       "    드리블 성공/90  헤더 성공/90  크로스 시도/90  평균획득승점/경기       GSL       PSTL      예측PPG  \n",
       "3   -0.194427      2.48       0.41       0.92 -1.129696  81.033279  20.392891  \n",
       "35   0.608792      2.57       0.69       1.12 -0.452417  79.338513  20.036650  \n",
       "66   7.677124      2.81       0.48       1.17 -1.014307  74.936218  19.445843  \n",
       "60   6.552616      3.04       0.55       1.06  0.631385  74.148439  19.218233  \n",
       "62   5.347787      1.74       0.45       1.03 -0.496070  73.966773  19.128456  \n",
       "\n",
       "[5 rows x 35 columns]"
      ]
     },
     "execution_count": 11,
     "metadata": {},
     "output_type": "execute_result"
    }
   ],
   "source": [
    "midfielder_df.sort_values(by='예측PPG',ascending=False).head(5)"
   ]
  },
  {
   "cell_type": "code",
   "execution_count": 12,
   "id": "2625c17d",
   "metadata": {
    "ExecuteTime": {
     "end_time": "2022-01-05T15:14:44.579020Z",
     "start_time": "2022-01-05T15:14:44.564906Z"
    }
   },
   "outputs": [
    {
     "data": {
      "text/plain": [
       "10.5370454788208"
      ]
     },
     "execution_count": 12,
     "metadata": {},
     "output_type": "execute_result"
    }
   ],
   "source": [
    "midfielder_min = np.min(midfielder_df['예측PPG'].tolist())\n",
    "midfielder_min"
   ]
  },
  {
   "cell_type": "code",
   "execution_count": 13,
   "id": "4ec104b1",
   "metadata": {
    "ExecuteTime": {
     "end_time": "2022-01-05T15:14:44.593897Z",
     "start_time": "2022-01-05T15:14:44.580026Z"
    }
   },
   "outputs": [],
   "source": [
    "midfielder_df['WAR'] = midfielder_df['예측PPG'].map(lambda x : x-midfielder_min+1)"
   ]
  },
  {
   "cell_type": "code",
   "execution_count": 14,
   "id": "f5a93e26",
   "metadata": {
    "ExecuteTime": {
     "end_time": "2022-01-05T15:14:44.608915Z",
     "start_time": "2022-01-05T15:14:44.594900Z"
    }
   },
   "outputs": [],
   "source": [
    "midfielder_df.loc[:,independent_value] = midfielder_po.inverse_transform(midfielder_df.loc[:,independent_value])"
   ]
  },
  {
   "cell_type": "code",
   "execution_count": 15,
   "id": "a0da1f60",
   "metadata": {
    "ExecuteTime": {
     "end_time": "2022-01-05T15:14:44.623947Z",
     "start_time": "2022-01-05T15:14:44.609915Z"
    }
   },
   "outputs": [],
   "source": [
    "midfielder_war = midfielder_df.sort_values(by='WAR',ascending=False).copy()\n",
    "midfielder_war = midfielder_war.reset_index(drop=True)"
   ]
  },
  {
   "cell_type": "code",
   "execution_count": 16,
   "id": "a040daad",
   "metadata": {
    "ExecuteTime": {
     "end_time": "2022-01-05T15:14:44.638914Z",
     "start_time": "2022-01-05T15:14:44.624915Z"
    }
   },
   "outputs": [
    {
     "data": {
      "text/html": [
       "<div>\n",
       "<style scoped>\n",
       "    .dataframe tbody tr th:only-of-type {\n",
       "        vertical-align: middle;\n",
       "    }\n",
       "\n",
       "    .dataframe tbody tr th {\n",
       "        vertical-align: top;\n",
       "    }\n",
       "\n",
       "    .dataframe thead th {\n",
       "        text-align: right;\n",
       "    }\n",
       "</style>\n",
       "<table border=\"1\" class=\"dataframe\">\n",
       "  <thead>\n",
       "    <tr style=\"text-align: right;\">\n",
       "      <th></th>\n",
       "      <th>이름</th>\n",
       "      <th>키패스/90</th>\n",
       "      <th>기회 창출/90</th>\n",
       "      <th>도움/90</th>\n",
       "      <th>WAR</th>\n",
       "    </tr>\n",
       "  </thead>\n",
       "  <tbody>\n",
       "    <tr>\n",
       "      <th>0</th>\n",
       "      <td>Mathias Normann</td>\n",
       "      <td>1.08</td>\n",
       "      <td>0.18</td>\n",
       "      <td>0.058594</td>\n",
       "      <td>10.855845</td>\n",
       "    </tr>\n",
       "    <tr>\n",
       "      <th>1</th>\n",
       "      <td>Kalvin Phillips</td>\n",
       "      <td>0.99</td>\n",
       "      <td>0.19</td>\n",
       "      <td>0.080142</td>\n",
       "      <td>10.499604</td>\n",
       "    </tr>\n",
       "    <tr>\n",
       "      <th>2</th>\n",
       "      <td>Frank Onyeka</td>\n",
       "      <td>0.53</td>\n",
       "      <td>0.42</td>\n",
       "      <td>0.056232</td>\n",
       "      <td>9.908797</td>\n",
       "    </tr>\n",
       "    <tr>\n",
       "      <th>3</th>\n",
       "      <td>Yves Bissouma</td>\n",
       "      <td>0.70</td>\n",
       "      <td>0.20</td>\n",
       "      <td>0.087549</td>\n",
       "      <td>9.681188</td>\n",
       "    </tr>\n",
       "    <tr>\n",
       "      <th>4</th>\n",
       "      <td>Steven Alzate</td>\n",
       "      <td>1.20</td>\n",
       "      <td>0.33</td>\n",
       "      <td>0.000000</td>\n",
       "      <td>9.591411</td>\n",
       "    </tr>\n",
       "    <tr>\n",
       "      <th>5</th>\n",
       "      <td>John McGinn</td>\n",
       "      <td>0.98</td>\n",
       "      <td>0.41</td>\n",
       "      <td>0.182788</td>\n",
       "      <td>9.582253</td>\n",
       "    </tr>\n",
       "    <tr>\n",
       "      <th>6</th>\n",
       "      <td>Harry Winks</td>\n",
       "      <td>1.21</td>\n",
       "      <td>0.15</td>\n",
       "      <td>0.050364</td>\n",
       "      <td>9.517623</td>\n",
       "    </tr>\n",
       "    <tr>\n",
       "      <th>7</th>\n",
       "      <td>Boubakary Soumaré</td>\n",
       "      <td>1.03</td>\n",
       "      <td>0.29</td>\n",
       "      <td>0.114869</td>\n",
       "      <td>9.385770</td>\n",
       "    </tr>\n",
       "    <tr>\n",
       "      <th>8</th>\n",
       "      <td>Tanguy Ndombele</td>\n",
       "      <td>1.11</td>\n",
       "      <td>0.46</td>\n",
       "      <td>0.191652</td>\n",
       "      <td>9.341191</td>\n",
       "    </tr>\n",
       "    <tr>\n",
       "      <th>9</th>\n",
       "      <td>Joe Willock</td>\n",
       "      <td>0.97</td>\n",
       "      <td>0.29</td>\n",
       "      <td>0.171429</td>\n",
       "      <td>9.307996</td>\n",
       "    </tr>\n",
       "  </tbody>\n",
       "</table>\n",
       "</div>"
      ],
      "text/plain": [
       "                  이름  키패스/90  기회 창출/90     도움/90        WAR\n",
       "0    Mathias Normann    1.08      0.18  0.058594  10.855845\n",
       "1    Kalvin Phillips    0.99      0.19  0.080142  10.499604\n",
       "2       Frank Onyeka    0.53      0.42  0.056232   9.908797\n",
       "3      Yves Bissouma    0.70      0.20  0.087549   9.681188\n",
       "4      Steven Alzate    1.20      0.33  0.000000   9.591411\n",
       "5        John McGinn    0.98      0.41  0.182788   9.582253\n",
       "6        Harry Winks    1.21      0.15  0.050364   9.517623\n",
       "7  Boubakary Soumaré    1.03      0.29  0.114869   9.385770\n",
       "8    Tanguy Ndombele    1.11      0.46  0.191652   9.341191\n",
       "9        Joe Willock    0.97      0.29  0.171429   9.307996"
      ]
     },
     "execution_count": 16,
     "metadata": {},
     "output_type": "execute_result"
    }
   ],
   "source": [
    "midfielder_war[['이름','키패스/90','기회 창출/90', '도움/90','WAR']].sort_values(by='WAR',ascending=False).head(10)"
   ]
  }
 ],
 "metadata": {
  "kernelspec": {
   "display_name": "Python 3 (ipykernel)",
   "language": "python",
   "name": "python3"
  },
  "language_info": {
   "codemirror_mode": {
    "name": "ipython",
    "version": 3
   },
   "file_extension": ".py",
   "mimetype": "text/x-python",
   "name": "python",
   "nbconvert_exporter": "python",
   "pygments_lexer": "ipython3",
   "version": "3.7.11"
  },
  "toc": {
   "base_numbering": 1,
   "nav_menu": {},
   "number_sections": true,
   "sideBar": true,
   "skip_h1_title": false,
   "title_cell": "Table of Contents",
   "title_sidebar": "Contents",
   "toc_cell": false,
   "toc_position": {},
   "toc_section_display": true,
   "toc_window_display": false
  },
  "varInspector": {
   "cols": {
    "lenName": 16,
    "lenType": 16,
    "lenVar": 40
   },
   "kernels_config": {
    "python": {
     "delete_cmd_postfix": "",
     "delete_cmd_prefix": "del ",
     "library": "var_list.py",
     "varRefreshCmd": "print(var_dic_list())"
    },
    "r": {
     "delete_cmd_postfix": ") ",
     "delete_cmd_prefix": "rm(",
     "library": "var_list.r",
     "varRefreshCmd": "cat(var_dic_list()) "
    }
   },
   "types_to_exclude": [
    "module",
    "function",
    "builtin_function_or_method",
    "instance",
    "_Feature"
   ],
   "window_display": false
  }
 },
 "nbformat": 4,
 "nbformat_minor": 5
}
