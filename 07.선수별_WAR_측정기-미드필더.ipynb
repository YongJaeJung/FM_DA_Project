{
 "cells": [
  {
   "cell_type": "markdown",
   "id": "3f7b833e",
   "metadata": {},
   "source": [
    "# 필요한 라이브러리 import"
   ]
  },
  {
   "cell_type": "code",
   "execution_count": 1,
   "id": "ecdb0774",
   "metadata": {
    "ExecuteTime": {
     "end_time": "2021-12-31T05:12:40.891891Z",
     "start_time": "2021-12-31T05:12:37.647481Z"
    }
   },
   "outputs": [],
   "source": [
    "import csv\n",
    "import pandas as pd\n",
    "import os\n",
    "import re\n",
    "import numpy as np\n",
    "import seaborn as sns\n",
    "import matplotlib.pyplot as plt\n",
    "from collections import defaultdict\n",
    "import warnings\n",
    "import pickle\n",
    "plt.rc('font',family='Malgun Gothic')\n",
    "plt.rc('font',size=10)\n",
    "from sklearn.metrics import mean_absolute_error,mean_squared_error\n",
    "from sklearn.decomposition import PCA\n",
    "from sklearn.preprocessing import StandardScaler\n",
    "\n",
    "from tensorflow.keras.models import load_model\n",
    "import tensorflow as tf\n",
    "import joblib\n",
    "warnings.filterwarnings(action='ignore')"
   ]
  },
  {
   "cell_type": "code",
   "execution_count": 2,
   "id": "radio-conditions",
   "metadata": {
    "ExecuteTime": {
     "end_time": "2021-12-31T05:12:40.981891Z",
     "start_time": "2021-12-31T05:12:40.892892Z"
    }
   },
   "outputs": [
    {
     "data": {
      "text/html": [
       "<div>\n",
       "<style scoped>\n",
       "    .dataframe tbody tr th:only-of-type {\n",
       "        vertical-align: middle;\n",
       "    }\n",
       "\n",
       "    .dataframe tbody tr th {\n",
       "        vertical-align: top;\n",
       "    }\n",
       "\n",
       "    .dataframe thead th {\n",
       "        text-align: right;\n",
       "    }\n",
       "</style>\n",
       "<table border=\"1\" class=\"dataframe\">\n",
       "  <thead>\n",
       "    <tr style=\"text-align: right;\">\n",
       "      <th></th>\n",
       "      <th>이름</th>\n",
       "      <th>시즌</th>\n",
       "      <th>포지션</th>\n",
       "      <th>구단</th>\n",
       "      <th>리그</th>\n",
       "      <th>골</th>\n",
       "      <th>도움</th>\n",
       "      <th>임대 기간</th>\n",
       "      <th>승</th>\n",
       "      <th>무</th>\n",
       "      <th>...</th>\n",
       "      <th>공중 A/90</th>\n",
       "      <th>태클 성공률</th>\n",
       "      <th>경기당 패스 시도/90</th>\n",
       "      <th>경기당 패스 성공/90</th>\n",
       "      <th>K Ps/90</th>\n",
       "      <th>태클 성공/90</th>\n",
       "      <th>드리블 성공/90</th>\n",
       "      <th>헤더 성공/90</th>\n",
       "      <th>Cr A/90</th>\n",
       "      <th>평균획득승점/경기</th>\n",
       "    </tr>\n",
       "  </thead>\n",
       "  <tbody>\n",
       "    <tr>\n",
       "      <th>0</th>\n",
       "      <td>Teemu Pukki</td>\n",
       "      <td>2021-2022</td>\n",
       "      <td>공격수</td>\n",
       "      <td>노리치</td>\n",
       "      <td>잉글랜드 프리미어 리그</td>\n",
       "      <td>7</td>\n",
       "      <td>2</td>\n",
       "      <td>0</td>\n",
       "      <td>7</td>\n",
       "      <td>11</td>\n",
       "      <td>...</td>\n",
       "      <td>7.28</td>\n",
       "      <td>100</td>\n",
       "      <td>30.64</td>\n",
       "      <td>26.0</td>\n",
       "      <td>0.8</td>\n",
       "      <td>0.88</td>\n",
       "      <td>0.98</td>\n",
       "      <td>3.39</td>\n",
       "      <td>0.58</td>\n",
       "      <td>0.94</td>\n",
       "    </tr>\n",
       "  </tbody>\n",
       "</table>\n",
       "<p>1 rows × 32 columns</p>\n",
       "</div>"
      ],
      "text/plain": [
       "            이름         시즌  포지션   구단            리그  골  도움 임대 기간  승   무  ...  \\\n",
       "0  Teemu Pukki  2021-2022  공격수  노리치  잉글랜드 프리미어 리그  7   2     0  7  11  ...   \n",
       "\n",
       "   공중 A/90  태클 성공률  경기당 패스 시도/90  경기당 패스 성공/90  K Ps/90  태클 성공/90  드리블 성공/90  \\\n",
       "0     7.28     100         30.64          26.0      0.8      0.88       0.98   \n",
       "\n",
       "   헤더 성공/90  Cr A/90  평균획득승점/경기  \n",
       "0      3.39     0.58       0.94  \n",
       "\n",
       "[1 rows x 32 columns]"
      ]
     },
     "execution_count": 2,
     "metadata": {},
     "output_type": "execute_result"
    }
   ],
   "source": [
    "with open('./models/midfielder/midfielder_po.pickle','rb') as f:\n",
    "    midfielder_po = pickle.load(f)\n",
    "\n",
    "midfielder_model = load_model('./models/midfielder/midfielder_nn.h5')\n",
    "\n",
    "premier_df = pd.read_csv('./datas/NEW_FM_DATA_MERGED/2021-2022/2021-2022-PremierLeague.csv')\n",
    "premier_df.head(1)"
   ]
  },
  {
   "cell_type": "code",
   "execution_count": 3,
   "id": "3d6bff7b",
   "metadata": {
    "ExecuteTime": {
     "end_time": "2021-12-31T05:12:41.011891Z",
     "start_time": "2021-12-31T05:12:40.982893Z"
    }
   },
   "outputs": [
    {
     "data": {
      "text/html": [
       "<div>\n",
       "<style scoped>\n",
       "    .dataframe tbody tr th:only-of-type {\n",
       "        vertical-align: middle;\n",
       "    }\n",
       "\n",
       "    .dataframe tbody tr th {\n",
       "        vertical-align: top;\n",
       "    }\n",
       "\n",
       "    .dataframe thead th {\n",
       "        text-align: right;\n",
       "    }\n",
       "</style>\n",
       "<table border=\"1\" class=\"dataframe\">\n",
       "  <thead>\n",
       "    <tr style=\"text-align: right;\">\n",
       "      <th></th>\n",
       "      <th>이름</th>\n",
       "      <th>시즌</th>\n",
       "      <th>포지션</th>\n",
       "      <th>구단</th>\n",
       "      <th>리그</th>\n",
       "      <th>골</th>\n",
       "      <th>도움</th>\n",
       "      <th>임대 기간</th>\n",
       "      <th>승</th>\n",
       "      <th>무</th>\n",
       "      <th>...</th>\n",
       "      <th>공중볼시도/90</th>\n",
       "      <th>태클 성공률</th>\n",
       "      <th>경기당 패스 시도/90</th>\n",
       "      <th>경기당 패스 성공/90</th>\n",
       "      <th>키패스/90</th>\n",
       "      <th>태클 성공/90</th>\n",
       "      <th>드리블 성공/90</th>\n",
       "      <th>헤더 성공/90</th>\n",
       "      <th>크로스 시도/90</th>\n",
       "      <th>평균획득승점/경기</th>\n",
       "    </tr>\n",
       "  </thead>\n",
       "  <tbody>\n",
       "    <tr>\n",
       "      <th>0</th>\n",
       "      <td>Teemu Pukki</td>\n",
       "      <td>2021-2022</td>\n",
       "      <td>공격수</td>\n",
       "      <td>노리치</td>\n",
       "      <td>잉글랜드 프리미어 리그</td>\n",
       "      <td>7</td>\n",
       "      <td>2</td>\n",
       "      <td>0</td>\n",
       "      <td>7</td>\n",
       "      <td>11</td>\n",
       "      <td>...</td>\n",
       "      <td>7.28</td>\n",
       "      <td>100</td>\n",
       "      <td>30.64</td>\n",
       "      <td>26.0</td>\n",
       "      <td>0.8</td>\n",
       "      <td>0.88</td>\n",
       "      <td>0.98</td>\n",
       "      <td>3.39</td>\n",
       "      <td>0.58</td>\n",
       "      <td>0.94</td>\n",
       "    </tr>\n",
       "  </tbody>\n",
       "</table>\n",
       "<p>1 rows × 32 columns</p>\n",
       "</div>"
      ],
      "text/plain": [
       "            이름         시즌  포지션   구단            리그  골  도움 임대 기간  승   무  ...  \\\n",
       "0  Teemu Pukki  2021-2022  공격수  노리치  잉글랜드 프리미어 리그  7   2     0  7  11  ...   \n",
       "\n",
       "   공중볼시도/90  태클 성공률  경기당 패스 시도/90  경기당 패스 성공/90  키패스/90  태클 성공/90  드리블 성공/90  \\\n",
       "0      7.28     100         30.64          26.0     0.8      0.88       0.98   \n",
       "\n",
       "   헤더 성공/90  크로스 시도/90  평균획득승점/경기  \n",
       "0      3.39       0.58       0.94  \n",
       "\n",
       "[1 rows x 32 columns]"
      ]
     },
     "execution_count": 3,
     "metadata": {},
     "output_type": "execute_result"
    }
   ],
   "source": [
    "premier_df.rename(columns={'Cr C/A':'크로스 성공률','FA':'파울 획득','Int/90':'인터셉트/90','공중 A/90':'공중볼시도/90','K Ps/90':'키패스/90','Cr A/90':'크로스 시도/90'},inplace=True)\n",
    "premier_df = premier_df.astype({'골':np.int64,'도움':np.int64,'파울 획득':np.int64,'태클 성공률':np.int64})\n",
    "premier_df.head(1)"
   ]
  },
  {
   "cell_type": "code",
   "execution_count": 4,
   "id": "8d7775c1",
   "metadata": {
    "ExecuteTime": {
     "end_time": "2021-12-31T05:12:41.027084Z",
     "start_time": "2021-12-31T05:12:41.012892Z"
    }
   },
   "outputs": [],
   "source": [
    "midfielder_df = premier_df[premier_df['포지션']=='미드필더']"
   ]
  },
  {
   "cell_type": "code",
   "execution_count": 5,
   "id": "b2b11bf3",
   "metadata": {
    "ExecuteTime": {
     "end_time": "2021-12-31T05:12:41.042387Z",
     "start_time": "2021-12-31T05:12:41.028090Z"
    }
   },
   "outputs": [],
   "source": [
    "# Goal_Shoot_linear\n",
    "midfielder_df['GSL'] = (midfielder_df['경기당 유효 슈팅/90']+0.5) + (midfielder_df['경기당 슈팅/90']) + (midfielder_df['골']*1.3)"
   ]
  },
  {
   "cell_type": "code",
   "execution_count": 6,
   "id": "865f9553",
   "metadata": {
    "ExecuteTime": {
     "end_time": "2021-12-31T05:12:41.057391Z",
     "start_time": "2021-12-31T05:12:41.043389Z"
    }
   },
   "outputs": [],
   "source": [
    "# PSTL = Pass sucess try linear\n",
    "\n",
    "midfielder_df['PSTL'] = (midfielder_df['경기당 패스 성공/90']) + (midfielder_df['경기당 패스 시도/90']*1.15)"
   ]
  },
  {
   "cell_type": "code",
   "execution_count": 7,
   "id": "82680018",
   "metadata": {
    "ExecuteTime": {
     "end_time": "2021-12-31T05:12:41.072333Z",
     "start_time": "2021-12-31T05:12:41.058389Z"
    }
   },
   "outputs": [],
   "source": [
    "independent_value ={'GSL','PSTL','공중볼시도/90','기회 창출/90','도움','드리블 성공/90','반칙 수/90','키패스/90','태클 성공/90'}\n",
    "\n",
    "dependent_value = {'평균획득승점/경기'}"
   ]
  },
  {
   "cell_type": "code",
   "execution_count": 8,
   "id": "54553286",
   "metadata": {
    "ExecuteTime": {
     "end_time": "2021-12-31T05:12:41.087334Z",
     "start_time": "2021-12-31T05:12:41.073334Z"
    }
   },
   "outputs": [],
   "source": [
    "midfielder_df.loc[:,independent_value] = midfielder_po.transform(midfielder_df.loc[:,independent_value])"
   ]
  },
  {
   "cell_type": "code",
   "execution_count": 9,
   "id": "6cbd4b64",
   "metadata": {
    "ExecuteTime": {
     "end_time": "2021-12-31T05:12:41.102922Z",
     "start_time": "2021-12-31T05:12:41.088334Z"
    }
   },
   "outputs": [],
   "source": [
    "midfielder_df = midfielder_df.reset_index(drop=True)"
   ]
  },
  {
   "cell_type": "code",
   "execution_count": 10,
   "id": "e4eddbb9",
   "metadata": {
    "ExecuteTime": {
     "end_time": "2021-12-31T05:12:41.237922Z",
     "start_time": "2021-12-31T05:12:41.104924Z"
    }
   },
   "outputs": [],
   "source": [
    "midfielder_df['예측PPG']=midfielder_model.predict(midfielder_df.loc[:,independent_value])"
   ]
  },
  {
   "cell_type": "code",
   "execution_count": 11,
   "id": "dda4fa99",
   "metadata": {
    "ExecuteTime": {
     "end_time": "2021-12-31T05:12:41.267922Z",
     "start_time": "2021-12-31T05:12:41.238923Z"
    }
   },
   "outputs": [
    {
     "data": {
      "text/html": [
       "<div>\n",
       "<style scoped>\n",
       "    .dataframe tbody tr th:only-of-type {\n",
       "        vertical-align: middle;\n",
       "    }\n",
       "\n",
       "    .dataframe tbody tr th {\n",
       "        vertical-align: top;\n",
       "    }\n",
       "\n",
       "    .dataframe thead th {\n",
       "        text-align: right;\n",
       "    }\n",
       "</style>\n",
       "<table border=\"1\" class=\"dataframe\">\n",
       "  <thead>\n",
       "    <tr style=\"text-align: right;\">\n",
       "      <th></th>\n",
       "      <th>이름</th>\n",
       "      <th>시즌</th>\n",
       "      <th>포지션</th>\n",
       "      <th>구단</th>\n",
       "      <th>리그</th>\n",
       "      <th>골</th>\n",
       "      <th>도움</th>\n",
       "      <th>임대 기간</th>\n",
       "      <th>승</th>\n",
       "      <th>무</th>\n",
       "      <th>...</th>\n",
       "      <th>경기당 패스 성공/90</th>\n",
       "      <th>키패스/90</th>\n",
       "      <th>태클 성공/90</th>\n",
       "      <th>드리블 성공/90</th>\n",
       "      <th>헤더 성공/90</th>\n",
       "      <th>크로스 시도/90</th>\n",
       "      <th>평균획득승점/경기</th>\n",
       "      <th>GSL</th>\n",
       "      <th>PSTL</th>\n",
       "      <th>예측PPG</th>\n",
       "    </tr>\n",
       "  </thead>\n",
       "  <tbody>\n",
       "    <tr>\n",
       "      <th>50</th>\n",
       "      <td>João Cancelo</td>\n",
       "      <td>2021-2022</td>\n",
       "      <td>미드필더</td>\n",
       "      <td>맨시티</td>\n",
       "      <td>잉글랜드 프리미어 리그</td>\n",
       "      <td>1</td>\n",
       "      <td>5.199338</td>\n",
       "      <td>0</td>\n",
       "      <td>19</td>\n",
       "      <td>7</td>\n",
       "      <td>...</td>\n",
       "      <td>34.75</td>\n",
       "      <td>-1.010382</td>\n",
       "      <td>-0.104740</td>\n",
       "      <td>-5.199338</td>\n",
       "      <td>5.38</td>\n",
       "      <td>7.84</td>\n",
       "      <td>1.73</td>\n",
       "      <td>2.113083</td>\n",
       "      <td>5.199338</td>\n",
       "      <td>1.171221</td>\n",
       "    </tr>\n",
       "    <tr>\n",
       "      <th>22</th>\n",
       "      <td>Ricardo Pereira</td>\n",
       "      <td>2021-2022</td>\n",
       "      <td>미드필더</td>\n",
       "      <td>레스터</td>\n",
       "      <td>잉글랜드 프리미어 리그</td>\n",
       "      <td>4</td>\n",
       "      <td>5.199338</td>\n",
       "      <td>0</td>\n",
       "      <td>21</td>\n",
       "      <td>11</td>\n",
       "      <td>...</td>\n",
       "      <td>35.61</td>\n",
       "      <td>-0.781626</td>\n",
       "      <td>-0.105021</td>\n",
       "      <td>-5.199338</td>\n",
       "      <td>5.38</td>\n",
       "      <td>8.00</td>\n",
       "      <td>1.64</td>\n",
       "      <td>5.199338</td>\n",
       "      <td>5.199338</td>\n",
       "      <td>1.170648</td>\n",
       "    </tr>\n",
       "    <tr>\n",
       "      <th>16</th>\n",
       "      <td>Harvey Barnes</td>\n",
       "      <td>2021-2022</td>\n",
       "      <td>미드필더</td>\n",
       "      <td>레스터</td>\n",
       "      <td>잉글랜드 프리미어 리그</td>\n",
       "      <td>14</td>\n",
       "      <td>5.199338</td>\n",
       "      <td>0</td>\n",
       "      <td>22</td>\n",
       "      <td>14</td>\n",
       "      <td>...</td>\n",
       "      <td>30.42</td>\n",
       "      <td>-0.744694</td>\n",
       "      <td>-0.106679</td>\n",
       "      <td>-5.199338</td>\n",
       "      <td>4.05</td>\n",
       "      <td>5.62</td>\n",
       "      <td>1.45</td>\n",
       "      <td>5.199338</td>\n",
       "      <td>5.199338</td>\n",
       "      <td>1.162560</td>\n",
       "    </tr>\n",
       "    <tr>\n",
       "      <th>31</th>\n",
       "      <td>Trent Alexander-Arnold</td>\n",
       "      <td>2021-2022</td>\n",
       "      <td>미드필더</td>\n",
       "      <td>리버풀</td>\n",
       "      <td>잉글랜드 프리미어 리그</td>\n",
       "      <td>2</td>\n",
       "      <td>5.199338</td>\n",
       "      <td>0</td>\n",
       "      <td>25</td>\n",
       "      <td>10</td>\n",
       "      <td>...</td>\n",
       "      <td>36.69</td>\n",
       "      <td>-1.031509</td>\n",
       "      <td>-0.106650</td>\n",
       "      <td>-5.199338</td>\n",
       "      <td>5.97</td>\n",
       "      <td>9.22</td>\n",
       "      <td>1.85</td>\n",
       "      <td>5.199338</td>\n",
       "      <td>5.199338</td>\n",
       "      <td>1.147000</td>\n",
       "    </tr>\n",
       "    <tr>\n",
       "      <th>128</th>\n",
       "      <td>Jorginho</td>\n",
       "      <td>2021-2022</td>\n",
       "      <td>미드필더</td>\n",
       "      <td>첼시</td>\n",
       "      <td>잉글랜드 프리미어 리그</td>\n",
       "      <td>2</td>\n",
       "      <td>5.199338</td>\n",
       "      <td>0</td>\n",
       "      <td>32</td>\n",
       "      <td>10</td>\n",
       "      <td>...</td>\n",
       "      <td>45.86</td>\n",
       "      <td>-0.922330</td>\n",
       "      <td>0.217463</td>\n",
       "      <td>-5.199338</td>\n",
       "      <td>4.07</td>\n",
       "      <td>1.16</td>\n",
       "      <td>2.08</td>\n",
       "      <td>5.199338</td>\n",
       "      <td>5.199338</td>\n",
       "      <td>1.131540</td>\n",
       "    </tr>\n",
       "  </tbody>\n",
       "</table>\n",
       "<p>5 rows × 35 columns</p>\n",
       "</div>"
      ],
      "text/plain": [
       "                         이름         시즌   포지션   구단            리그   골        도움  \\\n",
       "50             João Cancelo  2021-2022  미드필더  맨시티  잉글랜드 프리미어 리그   1  5.199338   \n",
       "22          Ricardo Pereira  2021-2022  미드필더  레스터  잉글랜드 프리미어 리그   4  5.199338   \n",
       "16            Harvey Barnes  2021-2022  미드필더  레스터  잉글랜드 프리미어 리그  14  5.199338   \n",
       "31   Trent Alexander-Arnold  2021-2022  미드필더  리버풀  잉글랜드 프리미어 리그   2  5.199338   \n",
       "128                Jorginho  2021-2022  미드필더   첼시  잉글랜드 프리미어 리그   2  5.199338   \n",
       "\n",
       "    임대 기간   승   무  ...  경기당 패스 성공/90    키패스/90  태클 성공/90  드리블 성공/90  헤더 성공/90  \\\n",
       "50      0  19   7  ...         34.75 -1.010382 -0.104740  -5.199338      5.38   \n",
       "22      0  21  11  ...         35.61 -0.781626 -0.105021  -5.199338      5.38   \n",
       "16      0  22  14  ...         30.42 -0.744694 -0.106679  -5.199338      4.05   \n",
       "31      0  25  10  ...         36.69 -1.031509 -0.106650  -5.199338      5.97   \n",
       "128     0  32  10  ...         45.86 -0.922330  0.217463  -5.199338      4.07   \n",
       "\n",
       "     크로스 시도/90  평균획득승점/경기       GSL      PSTL     예측PPG  \n",
       "50        7.84       1.73  2.113083  5.199338  1.171221  \n",
       "22        8.00       1.64  5.199338  5.199338  1.170648  \n",
       "16        5.62       1.45  5.199338  5.199338  1.162560  \n",
       "31        9.22       1.85  5.199338  5.199338  1.147000  \n",
       "128       1.16       2.08  5.199338  5.199338  1.131540  \n",
       "\n",
       "[5 rows x 35 columns]"
      ]
     },
     "execution_count": 11,
     "metadata": {},
     "output_type": "execute_result"
    }
   ],
   "source": [
    "midfielder_df.sort_values(by='예측PPG',ascending=False).head(5)"
   ]
  },
  {
   "cell_type": "code",
   "execution_count": 12,
   "id": "2625c17d",
   "metadata": {
    "ExecuteTime": {
     "end_time": "2021-12-31T05:12:41.282922Z",
     "start_time": "2021-12-31T05:12:41.268923Z"
    }
   },
   "outputs": [
    {
     "data": {
      "text/plain": [
       "1.1185829639434814"
      ]
     },
     "execution_count": 12,
     "metadata": {},
     "output_type": "execute_result"
    }
   ],
   "source": [
    "midfielder_min = np.min(midfielder_df['예측PPG'].tolist())\n",
    "midfielder_min"
   ]
  },
  {
   "cell_type": "code",
   "execution_count": 13,
   "id": "4ec104b1",
   "metadata": {
    "ExecuteTime": {
     "end_time": "2021-12-31T05:12:41.297925Z",
     "start_time": "2021-12-31T05:12:41.283924Z"
    }
   },
   "outputs": [],
   "source": [
    "midfielder_df['WAR'] = midfielder_df['예측PPG'].map(lambda x : x-midfielder_min+1)"
   ]
  },
  {
   "cell_type": "code",
   "execution_count": 14,
   "id": "f5a93e26",
   "metadata": {
    "ExecuteTime": {
     "end_time": "2021-12-31T05:12:41.312922Z",
     "start_time": "2021-12-31T05:12:41.298924Z"
    }
   },
   "outputs": [],
   "source": [
    "midfielder_df.loc[:,independent_value] = midfielder_po.inverse_transform(midfielder_df.loc[:,independent_value])"
   ]
  },
  {
   "cell_type": "code",
   "execution_count": 15,
   "id": "a0da1f60",
   "metadata": {
    "ExecuteTime": {
     "end_time": "2021-12-31T05:12:41.327922Z",
     "start_time": "2021-12-31T05:12:41.313923Z"
    }
   },
   "outputs": [],
   "source": [
    "midfielder_war = midfielder_df.sort_values(by='WAR',ascending=False).copy()\n",
    "midfielder_war = midfielder_war.reset_index(drop=True)"
   ]
  },
  {
   "cell_type": "code",
   "execution_count": 16,
   "id": "a040daad",
   "metadata": {
    "ExecuteTime": {
     "end_time": "2021-12-31T05:12:41.342922Z",
     "start_time": "2021-12-31T05:12:41.328922Z"
    }
   },
   "outputs": [
    {
     "data": {
      "text/html": [
       "<div>\n",
       "<style scoped>\n",
       "    .dataframe tbody tr th:only-of-type {\n",
       "        vertical-align: middle;\n",
       "    }\n",
       "\n",
       "    .dataframe tbody tr th {\n",
       "        vertical-align: top;\n",
       "    }\n",
       "\n",
       "    .dataframe thead th {\n",
       "        text-align: right;\n",
       "    }\n",
       "</style>\n",
       "<table border=\"1\" class=\"dataframe\">\n",
       "  <thead>\n",
       "    <tr style=\"text-align: right;\">\n",
       "      <th></th>\n",
       "      <th>이름</th>\n",
       "      <th>시즌</th>\n",
       "      <th>골</th>\n",
       "      <th>도움</th>\n",
       "      <th>WAR</th>\n",
       "    </tr>\n",
       "  </thead>\n",
       "  <tbody>\n",
       "    <tr>\n",
       "      <th>0</th>\n",
       "      <td>João Cancelo</td>\n",
       "      <td>2021-2022</td>\n",
       "      <td>1</td>\n",
       "      <td>5.17</td>\n",
       "      <td>1.052638</td>\n",
       "    </tr>\n",
       "    <tr>\n",
       "      <th>1</th>\n",
       "      <td>Ricardo Pereira</td>\n",
       "      <td>2021-2022</td>\n",
       "      <td>4</td>\n",
       "      <td>5.17</td>\n",
       "      <td>1.052065</td>\n",
       "    </tr>\n",
       "    <tr>\n",
       "      <th>2</th>\n",
       "      <td>Harvey Barnes</td>\n",
       "      <td>2021-2022</td>\n",
       "      <td>14</td>\n",
       "      <td>5.17</td>\n",
       "      <td>1.043977</td>\n",
       "    </tr>\n",
       "    <tr>\n",
       "      <th>3</th>\n",
       "      <td>Trent Alexander-Arnold</td>\n",
       "      <td>2021-2022</td>\n",
       "      <td>2</td>\n",
       "      <td>5.17</td>\n",
       "      <td>1.028417</td>\n",
       "    </tr>\n",
       "    <tr>\n",
       "      <th>4</th>\n",
       "      <td>Jorginho</td>\n",
       "      <td>2021-2022</td>\n",
       "      <td>2</td>\n",
       "      <td>5.17</td>\n",
       "      <td>1.012957</td>\n",
       "    </tr>\n",
       "    <tr>\n",
       "      <th>5</th>\n",
       "      <td>Ainsley Maitland-Niles</td>\n",
       "      <td>2021-2022</td>\n",
       "      <td>1</td>\n",
       "      <td>5.17</td>\n",
       "      <td>1.012265</td>\n",
       "    </tr>\n",
       "    <tr>\n",
       "      <th>6</th>\n",
       "      <td>Vitaly Janelt</td>\n",
       "      <td>2021-2022</td>\n",
       "      <td>0</td>\n",
       "      <td>5.17</td>\n",
       "      <td>1.003176</td>\n",
       "    </tr>\n",
       "    <tr>\n",
       "      <th>7</th>\n",
       "      <td>Lucas Digne</td>\n",
       "      <td>2021-2022</td>\n",
       "      <td>0</td>\n",
       "      <td>5.00</td>\n",
       "      <td>1.002527</td>\n",
       "    </tr>\n",
       "    <tr>\n",
       "      <th>8</th>\n",
       "      <td>Christian Nørgaard</td>\n",
       "      <td>2021-2022</td>\n",
       "      <td>1</td>\n",
       "      <td>5.17</td>\n",
       "      <td>1.001946</td>\n",
       "    </tr>\n",
       "    <tr>\n",
       "      <th>9</th>\n",
       "      <td>Jordan Henderson</td>\n",
       "      <td>2021-2022</td>\n",
       "      <td>1</td>\n",
       "      <td>5.17</td>\n",
       "      <td>1.001754</td>\n",
       "    </tr>\n",
       "  </tbody>\n",
       "</table>\n",
       "</div>"
      ],
      "text/plain": [
       "                       이름         시즌   골    도움       WAR\n",
       "0            João Cancelo  2021-2022   1  5.17  1.052638\n",
       "1         Ricardo Pereira  2021-2022   4  5.17  1.052065\n",
       "2           Harvey Barnes  2021-2022  14  5.17  1.043977\n",
       "3  Trent Alexander-Arnold  2021-2022   2  5.17  1.028417\n",
       "4                Jorginho  2021-2022   2  5.17  1.012957\n",
       "5  Ainsley Maitland-Niles  2021-2022   1  5.17  1.012265\n",
       "6           Vitaly Janelt  2021-2022   0  5.17  1.003176\n",
       "7             Lucas Digne  2021-2022   0  5.00  1.002527\n",
       "8      Christian Nørgaard  2021-2022   1  5.17  1.001946\n",
       "9        Jordan Henderson  2021-2022   1  5.17  1.001754"
      ]
     },
     "execution_count": 16,
     "metadata": {},
     "output_type": "execute_result"
    }
   ],
   "source": [
    "midfielder_war[['이름','시즌','골', '도움','WAR']].sort_values(by='WAR',ascending=False).head(10)"
   ]
  }
 ],
 "metadata": {
  "kernelspec": {
   "display_name": "Python 3 (ipykernel)",
   "language": "python",
   "name": "python3"
  },
  "language_info": {
   "codemirror_mode": {
    "name": "ipython",
    "version": 3
   },
   "file_extension": ".py",
   "mimetype": "text/x-python",
   "name": "python",
   "nbconvert_exporter": "python",
   "pygments_lexer": "ipython3",
   "version": "3.7.11"
  },
  "toc": {
   "base_numbering": 1,
   "nav_menu": {},
   "number_sections": true,
   "sideBar": true,
   "skip_h1_title": false,
   "title_cell": "Table of Contents",
   "title_sidebar": "Contents",
   "toc_cell": false,
   "toc_position": {},
   "toc_section_display": true,
   "toc_window_display": false
  },
  "varInspector": {
   "cols": {
    "lenName": 16,
    "lenType": 16,
    "lenVar": 40
   },
   "kernels_config": {
    "python": {
     "delete_cmd_postfix": "",
     "delete_cmd_prefix": "del ",
     "library": "var_list.py",
     "varRefreshCmd": "print(var_dic_list())"
    },
    "r": {
     "delete_cmd_postfix": ") ",
     "delete_cmd_prefix": "rm(",
     "library": "var_list.r",
     "varRefreshCmd": "cat(var_dic_list()) "
    }
   },
   "types_to_exclude": [
    "module",
    "function",
    "builtin_function_or_method",
    "instance",
    "_Feature"
   ],
   "window_display": false
  }
 },
 "nbformat": 4,
 "nbformat_minor": 5
}
