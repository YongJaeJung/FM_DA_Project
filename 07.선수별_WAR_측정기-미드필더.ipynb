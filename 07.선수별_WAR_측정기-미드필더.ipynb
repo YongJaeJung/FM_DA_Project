{
 "cells": [
  {
   "cell_type": "markdown",
   "id": "3f7b833e",
   "metadata": {},
   "source": [
    "# 필요한 라이브러리 import"
   ]
  },
  {
   "cell_type": "code",
   "execution_count": 1,
   "id": "ecdb0774",
   "metadata": {
    "ExecuteTime": {
     "end_time": "2021-12-31T14:20:39.916119Z",
     "start_time": "2021-12-31T14:20:36.335805Z"
    }
   },
   "outputs": [],
   "source": [
    "import csv\n",
    "import pandas as pd\n",
    "import os\n",
    "import re\n",
    "import numpy as np\n",
    "import seaborn as sns\n",
    "import matplotlib.pyplot as plt\n",
    "from collections import defaultdict\n",
    "import warnings\n",
    "import pickle\n",
    "plt.rc('font',family='Malgun Gothic')\n",
    "plt.rc('font',size=10)\n",
    "from sklearn.metrics import mean_absolute_error,mean_squared_error\n",
    "from sklearn.decomposition import PCA\n",
    "from sklearn.preprocessing import StandardScaler\n",
    "\n",
    "from tensorflow.keras.models import load_model\n",
    "import tensorflow as tf\n",
    "import joblib\n",
    "warnings.filterwarnings(action='ignore')"
   ]
  },
  {
   "cell_type": "code",
   "execution_count": 2,
   "id": "radio-conditions",
   "metadata": {
    "ExecuteTime": {
     "end_time": "2021-12-31T14:20:40.008022Z",
     "start_time": "2021-12-31T14:20:39.917117Z"
    }
   },
   "outputs": [
    {
     "data": {
      "text/html": [
       "<div>\n",
       "<style scoped>\n",
       "    .dataframe tbody tr th:only-of-type {\n",
       "        vertical-align: middle;\n",
       "    }\n",
       "\n",
       "    .dataframe tbody tr th {\n",
       "        vertical-align: top;\n",
       "    }\n",
       "\n",
       "    .dataframe thead th {\n",
       "        text-align: right;\n",
       "    }\n",
       "</style>\n",
       "<table border=\"1\" class=\"dataframe\">\n",
       "  <thead>\n",
       "    <tr style=\"text-align: right;\">\n",
       "      <th></th>\n",
       "      <th>이름</th>\n",
       "      <th>시즌</th>\n",
       "      <th>포지션</th>\n",
       "      <th>구단</th>\n",
       "      <th>리그</th>\n",
       "      <th>골</th>\n",
       "      <th>도움</th>\n",
       "      <th>임대 기간</th>\n",
       "      <th>승</th>\n",
       "      <th>무</th>\n",
       "      <th>...</th>\n",
       "      <th>공중 A/90</th>\n",
       "      <th>태클 성공률</th>\n",
       "      <th>경기당 패스 시도/90</th>\n",
       "      <th>경기당 패스 성공/90</th>\n",
       "      <th>K Ps/90</th>\n",
       "      <th>태클 성공/90</th>\n",
       "      <th>드리블 성공/90</th>\n",
       "      <th>헤더 성공/90</th>\n",
       "      <th>Cr A/90</th>\n",
       "      <th>평균획득승점/경기</th>\n",
       "    </tr>\n",
       "  </thead>\n",
       "  <tbody>\n",
       "    <tr>\n",
       "      <th>0</th>\n",
       "      <td>Teemu Pukki</td>\n",
       "      <td>2021-2022</td>\n",
       "      <td>공격수</td>\n",
       "      <td>노리치</td>\n",
       "      <td>잉글랜드 프리미어 리그</td>\n",
       "      <td>7</td>\n",
       "      <td>2</td>\n",
       "      <td>0</td>\n",
       "      <td>7</td>\n",
       "      <td>11</td>\n",
       "      <td>...</td>\n",
       "      <td>7.28</td>\n",
       "      <td>100</td>\n",
       "      <td>30.64</td>\n",
       "      <td>26.0</td>\n",
       "      <td>0.8</td>\n",
       "      <td>0.88</td>\n",
       "      <td>0.98</td>\n",
       "      <td>3.39</td>\n",
       "      <td>0.58</td>\n",
       "      <td>0.94</td>\n",
       "    </tr>\n",
       "  </tbody>\n",
       "</table>\n",
       "<p>1 rows × 32 columns</p>\n",
       "</div>"
      ],
      "text/plain": [
       "            이름         시즌  포지션   구단            리그  골  도움 임대 기간  승   무  ...  \\\n",
       "0  Teemu Pukki  2021-2022  공격수  노리치  잉글랜드 프리미어 리그  7   2     0  7  11  ...   \n",
       "\n",
       "   공중 A/90  태클 성공률  경기당 패스 시도/90  경기당 패스 성공/90  K Ps/90  태클 성공/90  드리블 성공/90  \\\n",
       "0     7.28     100         30.64          26.0      0.8      0.88       0.98   \n",
       "\n",
       "   헤더 성공/90  Cr A/90  평균획득승점/경기  \n",
       "0      3.39     0.58       0.94  \n",
       "\n",
       "[1 rows x 32 columns]"
      ]
     },
     "execution_count": 2,
     "metadata": {},
     "output_type": "execute_result"
    }
   ],
   "source": [
    "with open('./models/midfielder/midfielder_po.pickle','rb') as f:\n",
    "    midfielder_po = pickle.load(f)\n",
    "\n",
    "midfielder_model = load_model('./models/midfielder/midfielder_nn.h5')\n",
    "\n",
    "premier_df = pd.read_csv('./datas/NEW_FM_DATA_MERGED/2021-2022/2021-2022-PremierLeague.csv')\n",
    "premier_df.head(1)"
   ]
  },
  {
   "cell_type": "code",
   "execution_count": 3,
   "id": "3d6bff7b",
   "metadata": {
    "ExecuteTime": {
     "end_time": "2021-12-31T14:20:40.038142Z",
     "start_time": "2021-12-31T14:20:40.009023Z"
    }
   },
   "outputs": [
    {
     "data": {
      "text/html": [
       "<div>\n",
       "<style scoped>\n",
       "    .dataframe tbody tr th:only-of-type {\n",
       "        vertical-align: middle;\n",
       "    }\n",
       "\n",
       "    .dataframe tbody tr th {\n",
       "        vertical-align: top;\n",
       "    }\n",
       "\n",
       "    .dataframe thead th {\n",
       "        text-align: right;\n",
       "    }\n",
       "</style>\n",
       "<table border=\"1\" class=\"dataframe\">\n",
       "  <thead>\n",
       "    <tr style=\"text-align: right;\">\n",
       "      <th></th>\n",
       "      <th>이름</th>\n",
       "      <th>시즌</th>\n",
       "      <th>포지션</th>\n",
       "      <th>구단</th>\n",
       "      <th>리그</th>\n",
       "      <th>골</th>\n",
       "      <th>도움</th>\n",
       "      <th>임대 기간</th>\n",
       "      <th>승</th>\n",
       "      <th>무</th>\n",
       "      <th>...</th>\n",
       "      <th>공중볼시도/90</th>\n",
       "      <th>태클 성공률</th>\n",
       "      <th>경기당 패스 시도/90</th>\n",
       "      <th>경기당 패스 성공/90</th>\n",
       "      <th>키패스/90</th>\n",
       "      <th>태클 성공/90</th>\n",
       "      <th>드리블 성공/90</th>\n",
       "      <th>헤더 성공/90</th>\n",
       "      <th>크로스 시도/90</th>\n",
       "      <th>평균획득승점/경기</th>\n",
       "    </tr>\n",
       "  </thead>\n",
       "  <tbody>\n",
       "    <tr>\n",
       "      <th>0</th>\n",
       "      <td>Teemu Pukki</td>\n",
       "      <td>2021-2022</td>\n",
       "      <td>공격수</td>\n",
       "      <td>노리치</td>\n",
       "      <td>잉글랜드 프리미어 리그</td>\n",
       "      <td>7</td>\n",
       "      <td>2</td>\n",
       "      <td>0</td>\n",
       "      <td>7</td>\n",
       "      <td>11</td>\n",
       "      <td>...</td>\n",
       "      <td>7.28</td>\n",
       "      <td>100</td>\n",
       "      <td>30.64</td>\n",
       "      <td>26.0</td>\n",
       "      <td>0.8</td>\n",
       "      <td>0.88</td>\n",
       "      <td>0.98</td>\n",
       "      <td>3.39</td>\n",
       "      <td>0.58</td>\n",
       "      <td>0.94</td>\n",
       "    </tr>\n",
       "  </tbody>\n",
       "</table>\n",
       "<p>1 rows × 32 columns</p>\n",
       "</div>"
      ],
      "text/plain": [
       "            이름         시즌  포지션   구단            리그  골  도움 임대 기간  승   무  ...  \\\n",
       "0  Teemu Pukki  2021-2022  공격수  노리치  잉글랜드 프리미어 리그  7   2     0  7  11  ...   \n",
       "\n",
       "   공중볼시도/90  태클 성공률  경기당 패스 시도/90  경기당 패스 성공/90  키패스/90  태클 성공/90  드리블 성공/90  \\\n",
       "0      7.28     100         30.64          26.0     0.8      0.88       0.98   \n",
       "\n",
       "   헤더 성공/90  크로스 시도/90  평균획득승점/경기  \n",
       "0      3.39       0.58       0.94  \n",
       "\n",
       "[1 rows x 32 columns]"
      ]
     },
     "execution_count": 3,
     "metadata": {},
     "output_type": "execute_result"
    }
   ],
   "source": [
    "premier_df.rename(columns={'Cr C/A':'크로스 성공률','FA':'파울 획득','Int/90':'인터셉트/90','공중 A/90':'공중볼시도/90','K Ps/90':'키패스/90','Cr A/90':'크로스 시도/90'},inplace=True)\n",
    "premier_df = premier_df.astype({'골':np.int64,'도움':np.int64,'파울 획득':np.int64,'태클 성공률':np.int64})\n",
    "premier_df.head(1)"
   ]
  },
  {
   "cell_type": "code",
   "execution_count": 4,
   "id": "8d7775c1",
   "metadata": {
    "ExecuteTime": {
     "end_time": "2021-12-31T14:20:40.053897Z",
     "start_time": "2021-12-31T14:20:40.039141Z"
    }
   },
   "outputs": [],
   "source": [
    "midfielder_df = premier_df[premier_df['포지션']=='미드필더']\n",
    "midfielder_df = midfielder_df.reset_index(drop=True)"
   ]
  },
  {
   "cell_type": "code",
   "execution_count": 5,
   "id": "b2b11bf3",
   "metadata": {
    "ExecuteTime": {
     "end_time": "2021-12-31T14:20:40.068873Z",
     "start_time": "2021-12-31T14:20:40.055994Z"
    }
   },
   "outputs": [],
   "source": [
    "# Goal_Shoot_linear\n",
    "midfielder_df['GSL'] = (midfielder_df['경기당 유효 슈팅/90']+0.5) + (midfielder_df['경기당 슈팅/90']) + (midfielder_df['골']*1.3)"
   ]
  },
  {
   "cell_type": "code",
   "execution_count": 6,
   "id": "865f9553",
   "metadata": {
    "ExecuteTime": {
     "end_time": "2021-12-31T14:20:40.083873Z",
     "start_time": "2021-12-31T14:20:40.069874Z"
    }
   },
   "outputs": [],
   "source": [
    "# PSTL = Pass sucess try linear\n",
    "\n",
    "midfielder_df['PSTL'] = (midfielder_df['경기당 패스 성공/90']) + (midfielder_df['경기당 패스 시도/90']*1.15)"
   ]
  },
  {
   "cell_type": "code",
   "execution_count": 7,
   "id": "82680018",
   "metadata": {
    "ExecuteTime": {
     "end_time": "2021-12-31T14:20:40.098871Z",
     "start_time": "2021-12-31T14:20:40.084865Z"
    }
   },
   "outputs": [],
   "source": [
    "independent_value ={'GSL','PSTL','공중볼시도/90','기회 창출/90','도움','드리블 성공/90','반칙 수/90','키패스/90','태클 성공/90'}\n",
    "\n",
    "dependent_value = {'평균획득승점/경기'}"
   ]
  },
  {
   "cell_type": "code",
   "execution_count": 8,
   "id": "54553286",
   "metadata": {
    "ExecuteTime": {
     "end_time": "2021-12-31T14:20:40.113882Z",
     "start_time": "2021-12-31T14:20:40.099872Z"
    }
   },
   "outputs": [],
   "source": [
    "midfielder_df.loc[:,independent_value] = midfielder_po.transform(midfielder_df.loc[:,independent_value])"
   ]
  },
  {
   "cell_type": "code",
   "execution_count": 9,
   "id": "6cbd4b64",
   "metadata": {
    "ExecuteTime": {
     "end_time": "2021-12-31T14:20:40.128861Z",
     "start_time": "2021-12-31T14:20:40.114882Z"
    }
   },
   "outputs": [],
   "source": [
    "midfielder_df = midfielder_df.reset_index(drop=True)"
   ]
  },
  {
   "cell_type": "code",
   "execution_count": 10,
   "id": "e4eddbb9",
   "metadata": {
    "ExecuteTime": {
     "end_time": "2021-12-31T14:20:40.283023Z",
     "start_time": "2021-12-31T14:20:40.129863Z"
    }
   },
   "outputs": [],
   "source": [
    "midfielder_df['예측PPG']=midfielder_model.predict(midfielder_df.loc[:,independent_value])"
   ]
  },
  {
   "cell_type": "code",
   "execution_count": 11,
   "id": "dda4fa99",
   "metadata": {
    "ExecuteTime": {
     "end_time": "2021-12-31T14:20:40.313023Z",
     "start_time": "2021-12-31T14:20:40.284024Z"
    }
   },
   "outputs": [
    {
     "data": {
      "text/html": [
       "<div>\n",
       "<style scoped>\n",
       "    .dataframe tbody tr th:only-of-type {\n",
       "        vertical-align: middle;\n",
       "    }\n",
       "\n",
       "    .dataframe tbody tr th {\n",
       "        vertical-align: top;\n",
       "    }\n",
       "\n",
       "    .dataframe thead th {\n",
       "        text-align: right;\n",
       "    }\n",
       "</style>\n",
       "<table border=\"1\" class=\"dataframe\">\n",
       "  <thead>\n",
       "    <tr style=\"text-align: right;\">\n",
       "      <th></th>\n",
       "      <th>이름</th>\n",
       "      <th>시즌</th>\n",
       "      <th>포지션</th>\n",
       "      <th>구단</th>\n",
       "      <th>리그</th>\n",
       "      <th>골</th>\n",
       "      <th>도움</th>\n",
       "      <th>임대 기간</th>\n",
       "      <th>승</th>\n",
       "      <th>무</th>\n",
       "      <th>...</th>\n",
       "      <th>경기당 패스 성공/90</th>\n",
       "      <th>키패스/90</th>\n",
       "      <th>태클 성공/90</th>\n",
       "      <th>드리블 성공/90</th>\n",
       "      <th>헤더 성공/90</th>\n",
       "      <th>크로스 시도/90</th>\n",
       "      <th>평균획득승점/경기</th>\n",
       "      <th>GSL</th>\n",
       "      <th>PSTL</th>\n",
       "      <th>예측PPG</th>\n",
       "    </tr>\n",
       "  </thead>\n",
       "  <tbody>\n",
       "    <tr>\n",
       "      <th>46</th>\n",
       "      <td>Kevin De Bruyne</td>\n",
       "      <td>2021-2022</td>\n",
       "      <td>미드필더</td>\n",
       "      <td>맨시티</td>\n",
       "      <td>잉글랜드 프리미어 리그</td>\n",
       "      <td>11</td>\n",
       "      <td>108.9</td>\n",
       "      <td>0</td>\n",
       "      <td>33</td>\n",
       "      <td>11</td>\n",
       "      <td>...</td>\n",
       "      <td>47.70</td>\n",
       "      <td>-0.63</td>\n",
       "      <td>-0.4800</td>\n",
       "      <td>-3.602134</td>\n",
       "      <td>2.33</td>\n",
       "      <td>0.91</td>\n",
       "      <td>1.96</td>\n",
       "      <td>4.604651</td>\n",
       "      <td>165.222308</td>\n",
       "      <td>1.176509</td>\n",
       "    </tr>\n",
       "    <tr>\n",
       "      <th>112</th>\n",
       "      <td>Francisco Trincão</td>\n",
       "      <td>2021-2022</td>\n",
       "      <td>미드필더</td>\n",
       "      <td>울브스</td>\n",
       "      <td>잉글랜드 프리미어 리그</td>\n",
       "      <td>4</td>\n",
       "      <td>53.9</td>\n",
       "      <td>21/7/4 - 22/6/30</td>\n",
       "      <td>10</td>\n",
       "      <td>7</td>\n",
       "      <td>...</td>\n",
       "      <td>34.70</td>\n",
       "      <td>-0.65</td>\n",
       "      <td>-0.3625</td>\n",
       "      <td>-3.526327</td>\n",
       "      <td>5.35</td>\n",
       "      <td>7.27</td>\n",
       "      <td>0.97</td>\n",
       "      <td>1.065891</td>\n",
       "      <td>120.842308</td>\n",
       "      <td>1.146850</td>\n",
       "    </tr>\n",
       "    <tr>\n",
       "      <th>31</th>\n",
       "      <td>Trent Alexander-Arnold</td>\n",
       "      <td>2021-2022</td>\n",
       "      <td>미드필더</td>\n",
       "      <td>리버풀</td>\n",
       "      <td>잉글랜드 프리미어 리그</td>\n",
       "      <td>2</td>\n",
       "      <td>38.9</td>\n",
       "      <td>0</td>\n",
       "      <td>25</td>\n",
       "      <td>10</td>\n",
       "      <td>...</td>\n",
       "      <td>36.69</td>\n",
       "      <td>-0.70</td>\n",
       "      <td>-0.2075</td>\n",
       "      <td>-3.531407</td>\n",
       "      <td>5.97</td>\n",
       "      <td>9.22</td>\n",
       "      <td>1.85</td>\n",
       "      <td>-0.693798</td>\n",
       "      <td>127.743077</td>\n",
       "      <td>1.122473</td>\n",
       "    </tr>\n",
       "    <tr>\n",
       "      <th>2</th>\n",
       "      <td>Todd Cantwell</td>\n",
       "      <td>2021-2022</td>\n",
       "      <td>미드필더</td>\n",
       "      <td>노리치</td>\n",
       "      <td>잉글랜드 프리미어 리그</td>\n",
       "      <td>2</td>\n",
       "      <td>43.9</td>\n",
       "      <td>0</td>\n",
       "      <td>8</td>\n",
       "      <td>13</td>\n",
       "      <td>...</td>\n",
       "      <td>29.64</td>\n",
       "      <td>-0.55</td>\n",
       "      <td>-0.3225</td>\n",
       "      <td>-3.520466</td>\n",
       "      <td>3.72</td>\n",
       "      <td>5.53</td>\n",
       "      <td>0.92</td>\n",
       "      <td>-0.209302</td>\n",
       "      <td>105.273077</td>\n",
       "      <td>1.120898</td>\n",
       "    </tr>\n",
       "    <tr>\n",
       "      <th>50</th>\n",
       "      <td>João Cancelo</td>\n",
       "      <td>2021-2022</td>\n",
       "      <td>미드필더</td>\n",
       "      <td>맨시티</td>\n",
       "      <td>잉글랜드 프리미어 리그</td>\n",
       "      <td>1</td>\n",
       "      <td>28.9</td>\n",
       "      <td>0</td>\n",
       "      <td>19</td>\n",
       "      <td>7</td>\n",
       "      <td>...</td>\n",
       "      <td>34.75</td>\n",
       "      <td>-0.69</td>\n",
       "      <td>-0.0375</td>\n",
       "      <td>-3.465760</td>\n",
       "      <td>5.38</td>\n",
       "      <td>7.84</td>\n",
       "      <td>1.73</td>\n",
       "      <td>-1.248062</td>\n",
       "      <td>121.432308</td>\n",
       "      <td>1.089242</td>\n",
       "    </tr>\n",
       "  </tbody>\n",
       "</table>\n",
       "<p>5 rows × 35 columns</p>\n",
       "</div>"
      ],
      "text/plain": [
       "                         이름         시즌   포지션   구단            리그   골     도움  \\\n",
       "46          Kevin De Bruyne  2021-2022  미드필더  맨시티  잉글랜드 프리미어 리그  11  108.9   \n",
       "112       Francisco Trincão  2021-2022  미드필더  울브스  잉글랜드 프리미어 리그   4   53.9   \n",
       "31   Trent Alexander-Arnold  2021-2022  미드필더  리버풀  잉글랜드 프리미어 리그   2   38.9   \n",
       "2             Todd Cantwell  2021-2022  미드필더  노리치  잉글랜드 프리미어 리그   2   43.9   \n",
       "50             João Cancelo  2021-2022  미드필더  맨시티  잉글랜드 프리미어 리그   1   28.9   \n",
       "\n",
       "                임대 기간   승   무  ...  경기당 패스 성공/90  키패스/90  태클 성공/90  드리블 성공/90  \\\n",
       "46                  0  33  11  ...         47.70   -0.63   -0.4800  -3.602134   \n",
       "112  21/7/4 - 22/6/30  10   7  ...         34.70   -0.65   -0.3625  -3.526327   \n",
       "31                  0  25  10  ...         36.69   -0.70   -0.2075  -3.531407   \n",
       "2                   0   8  13  ...         29.64   -0.55   -0.3225  -3.520466   \n",
       "50                  0  19   7  ...         34.75   -0.69   -0.0375  -3.465760   \n",
       "\n",
       "     헤더 성공/90  크로스 시도/90  평균획득승점/경기       GSL        PSTL     예측PPG  \n",
       "46       2.33       0.91       1.96  4.604651  165.222308  1.176509  \n",
       "112      5.35       7.27       0.97  1.065891  120.842308  1.146850  \n",
       "31       5.97       9.22       1.85 -0.693798  127.743077  1.122473  \n",
       "2        3.72       5.53       0.92 -0.209302  105.273077  1.120898  \n",
       "50       5.38       7.84       1.73 -1.248062  121.432308  1.089242  \n",
       "\n",
       "[5 rows x 35 columns]"
      ]
     },
     "execution_count": 11,
     "metadata": {},
     "output_type": "execute_result"
    }
   ],
   "source": [
    "midfielder_df.sort_values(by='예측PPG',ascending=False).head(5)"
   ]
  },
  {
   "cell_type": "code",
   "execution_count": 12,
   "id": "2625c17d",
   "metadata": {
    "ExecuteTime": {
     "end_time": "2021-12-31T14:20:40.328023Z",
     "start_time": "2021-12-31T14:20:40.314024Z"
    }
   },
   "outputs": [
    {
     "data": {
      "text/plain": [
       "1.0440709590911865"
      ]
     },
     "execution_count": 12,
     "metadata": {},
     "output_type": "execute_result"
    }
   ],
   "source": [
    "midfielder_min = np.min(midfielder_df['예측PPG'].tolist())\n",
    "midfielder_min"
   ]
  },
  {
   "cell_type": "code",
   "execution_count": 13,
   "id": "4ec104b1",
   "metadata": {
    "ExecuteTime": {
     "end_time": "2021-12-31T14:20:40.343860Z",
     "start_time": "2021-12-31T14:20:40.331025Z"
    }
   },
   "outputs": [],
   "source": [
    "midfielder_df['WAR'] = midfielder_df['예측PPG'].map(lambda x : x-midfielder_min+1)"
   ]
  },
  {
   "cell_type": "code",
   "execution_count": 14,
   "id": "f5a93e26",
   "metadata": {
    "ExecuteTime": {
     "end_time": "2021-12-31T14:20:40.358871Z",
     "start_time": "2021-12-31T14:20:40.346858Z"
    }
   },
   "outputs": [],
   "source": [
    "midfielder_df.loc[:,independent_value] = midfielder_po.inverse_transform(midfielder_df.loc[:,independent_value])"
   ]
  },
  {
   "cell_type": "code",
   "execution_count": 15,
   "id": "a0da1f60",
   "metadata": {
    "ExecuteTime": {
     "end_time": "2021-12-31T14:20:40.373870Z",
     "start_time": "2021-12-31T14:20:40.359870Z"
    }
   },
   "outputs": [],
   "source": [
    "midfielder_war = midfielder_df.sort_values(by='WAR',ascending=False).copy()\n",
    "midfielder_war = midfielder_war.reset_index(drop=True)"
   ]
  },
  {
   "cell_type": "code",
   "execution_count": 16,
   "id": "a040daad",
   "metadata": {
    "ExecuteTime": {
     "end_time": "2021-12-31T14:20:40.388873Z",
     "start_time": "2021-12-31T14:20:40.374871Z"
    }
   },
   "outputs": [
    {
     "data": {
      "text/html": [
       "<div>\n",
       "<style scoped>\n",
       "    .dataframe tbody tr th:only-of-type {\n",
       "        vertical-align: middle;\n",
       "    }\n",
       "\n",
       "    .dataframe tbody tr th {\n",
       "        vertical-align: top;\n",
       "    }\n",
       "\n",
       "    .dataframe thead th {\n",
       "        text-align: right;\n",
       "    }\n",
       "</style>\n",
       "<table border=\"1\" class=\"dataframe\">\n",
       "  <thead>\n",
       "    <tr style=\"text-align: right;\">\n",
       "      <th></th>\n",
       "      <th>이름</th>\n",
       "      <th>키패스/90</th>\n",
       "      <th>기회 창출/90</th>\n",
       "      <th>도움</th>\n",
       "      <th>WAR</th>\n",
       "    </tr>\n",
       "  </thead>\n",
       "  <tbody>\n",
       "    <tr>\n",
       "      <th>0</th>\n",
       "      <td>Kevin De Bruyne</td>\n",
       "      <td>1.54</td>\n",
       "      <td>0.45</td>\n",
       "      <td>22.0</td>\n",
       "      <td>1.132438</td>\n",
       "    </tr>\n",
       "    <tr>\n",
       "      <th>1</th>\n",
       "      <td>Francisco Trincão</td>\n",
       "      <td>1.52</td>\n",
       "      <td>0.53</td>\n",
       "      <td>11.0</td>\n",
       "      <td>1.102779</td>\n",
       "    </tr>\n",
       "    <tr>\n",
       "      <th>2</th>\n",
       "      <td>Trent Alexander-Arnold</td>\n",
       "      <td>1.47</td>\n",
       "      <td>0.11</td>\n",
       "      <td>8.0</td>\n",
       "      <td>1.078402</td>\n",
       "    </tr>\n",
       "    <tr>\n",
       "      <th>3</th>\n",
       "      <td>Todd Cantwell</td>\n",
       "      <td>1.62</td>\n",
       "      <td>0.35</td>\n",
       "      <td>9.0</td>\n",
       "      <td>1.076827</td>\n",
       "    </tr>\n",
       "    <tr>\n",
       "      <th>4</th>\n",
       "      <td>João Cancelo</td>\n",
       "      <td>1.48</td>\n",
       "      <td>0.03</td>\n",
       "      <td>6.0</td>\n",
       "      <td>1.045171</td>\n",
       "    </tr>\n",
       "    <tr>\n",
       "      <th>5</th>\n",
       "      <td>Matt Lowton</td>\n",
       "      <td>0.96</td>\n",
       "      <td>0.51</td>\n",
       "      <td>5.0</td>\n",
       "      <td>1.041256</td>\n",
       "    </tr>\n",
       "    <tr>\n",
       "      <th>6</th>\n",
       "      <td>Saúl</td>\n",
       "      <td>1.43</td>\n",
       "      <td>0.52</td>\n",
       "      <td>14.0</td>\n",
       "      <td>1.017407</td>\n",
       "    </tr>\n",
       "    <tr>\n",
       "      <th>7</th>\n",
       "      <td>Moussa Sissoko</td>\n",
       "      <td>1.02</td>\n",
       "      <td>0.29</td>\n",
       "      <td>12.0</td>\n",
       "      <td>1.017268</td>\n",
       "    </tr>\n",
       "    <tr>\n",
       "      <th>8</th>\n",
       "      <td>Mads Roerslev</td>\n",
       "      <td>1.19</td>\n",
       "      <td>0.10</td>\n",
       "      <td>3.0</td>\n",
       "      <td>1.014241</td>\n",
       "    </tr>\n",
       "    <tr>\n",
       "      <th>9</th>\n",
       "      <td>Youri Tielemans</td>\n",
       "      <td>1.53</td>\n",
       "      <td>0.49</td>\n",
       "      <td>11.0</td>\n",
       "      <td>1.012775</td>\n",
       "    </tr>\n",
       "  </tbody>\n",
       "</table>\n",
       "</div>"
      ],
      "text/plain": [
       "                       이름  키패스/90  기회 창출/90    도움       WAR\n",
       "0         Kevin De Bruyne    1.54      0.45  22.0  1.132438\n",
       "1       Francisco Trincão    1.52      0.53  11.0  1.102779\n",
       "2  Trent Alexander-Arnold    1.47      0.11   8.0  1.078402\n",
       "3           Todd Cantwell    1.62      0.35   9.0  1.076827\n",
       "4            João Cancelo    1.48      0.03   6.0  1.045171\n",
       "5             Matt Lowton    0.96      0.51   5.0  1.041256\n",
       "6                    Saúl    1.43      0.52  14.0  1.017407\n",
       "7          Moussa Sissoko    1.02      0.29  12.0  1.017268\n",
       "8           Mads Roerslev    1.19      0.10   3.0  1.014241\n",
       "9         Youri Tielemans    1.53      0.49  11.0  1.012775"
      ]
     },
     "execution_count": 16,
     "metadata": {},
     "output_type": "execute_result"
    }
   ],
   "source": [
    "midfielder_war[['이름','키패스/90','기회 창출/90', '도움','WAR']].sort_values(by='WAR',ascending=False).head(10)"
   ]
  }
 ],
 "metadata": {
  "kernelspec": {
   "display_name": "Python 3 (ipykernel)",
   "language": "python",
   "name": "python3"
  },
  "language_info": {
   "codemirror_mode": {
    "name": "ipython",
    "version": 3
   },
   "file_extension": ".py",
   "mimetype": "text/x-python",
   "name": "python",
   "nbconvert_exporter": "python",
   "pygments_lexer": "ipython3",
   "version": "3.7.11"
  },
  "toc": {
   "base_numbering": 1,
   "nav_menu": {},
   "number_sections": true,
   "sideBar": true,
   "skip_h1_title": false,
   "title_cell": "Table of Contents",
   "title_sidebar": "Contents",
   "toc_cell": false,
   "toc_position": {},
   "toc_section_display": true,
   "toc_window_display": false
  },
  "varInspector": {
   "cols": {
    "lenName": 16,
    "lenType": 16,
    "lenVar": 40
   },
   "kernels_config": {
    "python": {
     "delete_cmd_postfix": "",
     "delete_cmd_prefix": "del ",
     "library": "var_list.py",
     "varRefreshCmd": "print(var_dic_list())"
    },
    "r": {
     "delete_cmd_postfix": ") ",
     "delete_cmd_prefix": "rm(",
     "library": "var_list.r",
     "varRefreshCmd": "cat(var_dic_list()) "
    }
   },
   "types_to_exclude": [
    "module",
    "function",
    "builtin_function_or_method",
    "instance",
    "_Feature"
   ],
   "window_display": false
  }
 },
 "nbformat": 4,
 "nbformat_minor": 5
}
