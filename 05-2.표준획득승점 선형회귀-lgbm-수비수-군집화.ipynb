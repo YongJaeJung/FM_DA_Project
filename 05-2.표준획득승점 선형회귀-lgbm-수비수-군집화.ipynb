{
 "cells": [
  {
   "cell_type": "markdown",
   "id": "e9dd0864",
   "metadata": {},
   "source": [
    "# 필요한 라이브러리 import"
   ]
  },
  {
   "cell_type": "code",
   "execution_count": 1,
   "id": "9da569b5",
   "metadata": {
    "ExecuteTime": {
     "end_time": "2021-12-24T05:19:33.896154Z",
     "start_time": "2021-12-24T05:19:30.067923Z"
    }
   },
   "outputs": [],
   "source": [
    "import pandas as pd\n",
    "import numpy as np\n",
    "import seaborn as sns\n",
    "import matplotlib.pyplot as plt\n",
    "from collections import defaultdict\n",
    "import warnings\n",
    "from sklearn.metrics import mean_absolute_error\n",
    "import pickle\n",
    "from sklearn.decomposition import PCA\n",
    "from sklearn.neural_network import MLPRegressor\n",
    "from sklearn.ensemble import RandomForestRegressor\n",
    "from sklearn.model_selection import train_test_split\n",
    "from sklearn.preprocessing import QuantileTransformer,StandardScaler,PowerTransformer,MinMaxScaler\n",
    "from scipy import stats\n",
    "from statsmodels.stats.outliers_influence import variance_inflation_factor as vif\n",
    "from itertools import combinations\n",
    "from tensorflow.keras.models import Model,load_model\n",
    "from tensorflow.keras.layers import Dense,Input,Dropout\n",
    "from tensorflow.keras.optimizers import Adam,SGD\n",
    "from tensorflow.keras.regularizers import L2\n",
    "from tensorflow.keras.callbacks import ModelCheckpoint\n",
    "from sklearn.model_selection import KFold\n",
    "from scipy.stats import spearmanr\n",
    "import tensorflow as tf\n",
    "from sklearn.metrics import mean_absolute_error\n",
    "warnings.filterwarnings(action='ignore')\n",
    "plt.rc('font',family='Malgun Gothic')\n",
    "plt.rc('font',size=10)\n",
    "%matplotlib inline"
   ]
  },
  {
   "cell_type": "markdown",
   "id": "537742a4",
   "metadata": {},
   "source": [
    "# 데이터로드"
   ]
  },
  {
   "cell_type": "code",
   "execution_count": 2,
   "id": "d6adea72",
   "metadata": {
    "ExecuteTime": {
     "end_time": "2021-12-24T05:19:33.943157Z",
     "start_time": "2021-12-24T05:19:33.897155Z"
    }
   },
   "outputs": [],
   "source": [
    "# 빈 데이터 프레임 생성\n",
    "\n",
    "fm_data_df = pd.DataFrame(columns=['이름','포지션','골','도움','경기당 팀 득점/90',\n",
    "                                 '경기당 팀 실점/90', 'Cr C/A', 'FA', '반칙 수/90', '기회 창출/90',\n",
    "                                 '경기당 유효 슈팅/90', '경기당 슈팅/90', 'Int/90', '달린 거리/90분', \n",
    "                                 '공중 A/90', '태클 성공률','경기당 패스 시도/90', '경기당 패스 성공/90', \n",
    "                                 'K Ps/90', '태클 성공/90', '드리블 성공/90', \n",
    "                                 '헤더 성공/90', 'Cr A/90', '평균획득승점/경기'])\n",
    "\n",
    "# 모든 데이터 프레임 이어붙이기\n",
    "fm_data_df = pd.concat([fm_data_df,pd.read_csv('./datas/NEW_FM_DATA_FOR_ML/2021-2022/2021-2022ML.csv',encoding='utf-8-sig')])\n",
    "fm_data_df = fm_data_df.reset_index(drop=True)\n",
    "fm_data_df = pd.concat([fm_data_df,pd.read_csv('./datas/NEW_FM_DATA_FOR_ML/2022-2023/2022-2023ML.csv',encoding='utf-8-sig')])\n",
    "fm_data_df = fm_data_df.reset_index(drop=True)\n",
    "fm_data_df = pd.concat([fm_data_df,pd.read_csv('./datas/NEW_FM_DATA_FOR_ML/2023-2024/2023-2024ML.csv',encoding='utf-8-sig')])\n",
    "fm_data_df = fm_data_df.reset_index(drop=True)\n",
    "\n",
    "# 데이터 프레임 컬럼명 변경 및 자료형 변경\n",
    "fm_data_df.rename(columns={'Cr C/A':'크로스 성공률','FA':'파울 획득','Int/90':'인터셉트/90','공중 A/90':'공중볼시도/90','K Ps/90':'키패스/90','Cr A/90':'크로스 시도/90'},inplace=True)\n",
    "fm_data_df = fm_data_df.astype({'골':np.int64,'도움':np.int64,'파울 획득':np.int64,'태클 성공률':np.int64})\n",
    "\n",
    "# 공격수만 추출\n",
    "defender_df = fm_data_df[fm_data_df['포지션']=='수비수']\n",
    "defender_df = defender_df.reset_index(drop=True)"
   ]
  },
  {
   "cell_type": "markdown",
   "id": "dfa8373a",
   "metadata": {},
   "source": [
    "# 데이터 EDA"
   ]
  },
  {
   "cell_type": "markdown",
   "id": "d17320ec",
   "metadata": {},
   "source": [
    "## 모델 생성에 사용할 독립변수, 종속변수 선별"
   ]
  },
  {
   "cell_type": "code",
   "execution_count": 3,
   "id": "5bb41e7c",
   "metadata": {
    "ExecuteTime": {
     "end_time": "2021-12-24T05:19:33.958157Z",
     "start_time": "2021-12-24T05:19:33.944156Z"
    }
   },
   "outputs": [],
   "source": [
    "num_col = [defender_df.columns[i] for i,x in enumerate(defender_df.dtypes) if x == 'int64' or x == 'float64']\n",
    "independent_value = set(num_col) - set(['평균획득승점/경기','출장시간','승','무','패','경기당 팀 득점/90','경기당 팀 실점/90'])\n",
    "dependent_value = '평균획득승점/경기'"
   ]
  },
  {
   "cell_type": "markdown",
   "id": "fe28ef6f",
   "metadata": {},
   "source": [
    "## 결측치 확인"
   ]
  },
  {
   "cell_type": "code",
   "execution_count": 4,
   "id": "33ff6c99",
   "metadata": {
    "ExecuteTime": {
     "end_time": "2021-12-24T05:19:33.974156Z",
     "start_time": "2021-12-24T05:19:33.961157Z"
    }
   },
   "outputs": [
    {
     "data": {
      "text/plain": [
       "이름              0\n",
       "포지션             0\n",
       "골               0\n",
       "도움              0\n",
       "경기당 팀 득점/90     0\n",
       "경기당 팀 실점/90     0\n",
       "크로스 성공률         0\n",
       "파울 획득           0\n",
       "반칙 수/90         0\n",
       "기회 창출/90        0\n",
       "경기당 유효 슈팅/90    0\n",
       "경기당 슈팅/90       0\n",
       "인터셉트/90         0\n",
       "달린 거리/90분       0\n",
       "공중볼시도/90        0\n",
       "태클 성공률          0\n",
       "경기당 패스 시도/90    0\n",
       "경기당 패스 성공/90    0\n",
       "키패스/90          0\n",
       "태클 성공/90        0\n",
       "드리블 성공/90       0\n",
       "헤더 성공/90        0\n",
       "크로스 시도/90       0\n",
       "평균획득승점/경기       0\n",
       "시즌              0\n",
       "dtype: int64"
      ]
     },
     "execution_count": 4,
     "metadata": {},
     "output_type": "execute_result"
    }
   ],
   "source": [
    "defender_df.isna().sum()"
   ]
  },
  {
   "cell_type": "markdown",
   "id": "28864ae2",
   "metadata": {},
   "source": [
    "## 변수 군집화"
   ]
  },
  {
   "cell_type": "markdown",
   "id": "a56a88e6",
   "metadata": {},
   "source": [
    "### 패스 군집화"
   ]
  },
  {
   "cell_type": "code",
   "execution_count": 5,
   "id": "51a8f776",
   "metadata": {
    "ExecuteTime": {
     "end_time": "2021-12-24T05:19:34.053155Z",
     "start_time": "2021-12-24T05:19:33.976158Z"
    }
   },
   "outputs": [],
   "source": [
    "from sklearn import cluster\n",
    "from sklearn import mixture\n",
    "from sklearn.preprocessing import StandardScaler\n",
    "from sklearn import datasets\n",
    "from sklearn.metrics import silhouette_score"
   ]
  },
  {
   "cell_type": "code",
   "execution_count": 6,
   "id": "cadf8526",
   "metadata": {
    "ExecuteTime": {
     "end_time": "2021-12-24T05:19:34.069154Z",
     "start_time": "2021-12-24T05:19:34.054156Z"
    }
   },
   "outputs": [],
   "source": [
    "def fit_predict_plot(model,dataset,title):\n",
    "    x = np.array(dataset)\n",
    "    model.fit(x)\n",
    "    if hasattr(model,'label_'):\n",
    "        labels = model.labels_.astype(np.int)\n",
    "    else:\n",
    "        labels = model.predict(x)\n",
    "        \n",
    "    colors = np.array(['#30A9DE','#E53A40','#090707','#A593E0','#F6B352','#519D9E','#D81159'])\n",
    "    \n",
    "    ax = plt.scatter(x[:,0],x[:,1],color=colors[labels])\n",
    "    plt.xlabel = '경기당 패스 성공/90'\n",
    "    plt.ylabel = '경기당 패스 시도/90'"
   ]
  },
  {
   "cell_type": "code",
   "execution_count": 7,
   "id": "89c2ec58",
   "metadata": {
    "ExecuteTime": {
     "end_time": "2021-12-24T05:19:34.243154Z",
     "start_time": "2021-12-24T05:19:34.070156Z"
    }
   },
   "outputs": [
    {
     "data": {
      "image/png": "[encoded data removed]",
      "text/plain": [
       "<Figure size 432x288 with 1 Axes>"
      ]
     },
     "metadata": {
      "needs_background": "light"
     },
     "output_type": "display_data"
    }
   ],
   "source": [
    "fit_predict_plot(cluster.KMeans(n_clusters=3,random_state=123),list(zip(defender_df['경기당 패스 성공/90'],defender_df['경기당 패스 시도/90'])),'패스')"
   ]
  },
  {
   "cell_type": "code",
   "execution_count": 8,
   "id": "530f5d28",
   "metadata": {
    "ExecuteTime": {
     "end_time": "2021-12-24T05:19:34.717154Z",
     "start_time": "2021-12-24T05:19:34.244156Z"
    }
   },
   "outputs": [
    {
     "name": "stdout",
     "output_type": "stream",
     "text": [
      "k : 2 , score: 16341.113654556582\n",
      "k : 3 , score: 7279.981348188201\n",
      "k : 4 , score: 4948.221596875864\n",
      "k : 5 , score: 3147.8752520946687\n",
      "k : 6 , score: 2461.5919311920256\n",
      "k : 7 , score: 1921.884036696308\n",
      "k : 8 , score: 1557.218209042375\n",
      "k : 9 , score: 1244.189507163782\n"
     ]
    },
    {
     "data": {
      "text/plain": [
       "[<matplotlib.lines.Line2D at 0x2c1d91ef4c0>]"
      ]
     },
     "execution_count": 8,
     "metadata": {},
     "output_type": "execute_result"
    },
    {
     "data": {
      "image/png": "[encoded data removed]",
      "text/plain": [
       "<Figure size 432x288 with 1 Axes>"
      ]
     },
     "metadata": {
      "needs_background": "light"
     },
     "output_type": "display_data"
    }
   ],
   "source": [
    "k_range = range(2,10)\n",
    "inertia_arr = []\n",
    "\n",
    "for k in k_range:\n",
    "    kmeans = cluster.KMeans(n_clusters=k,random_state=123)\n",
    "    kmeans.fit(list(zip(defender_df['경기당 패스 성공/90'],defender_df['경기당 패스 시도/90'])))\n",
    "    inertia = kmeans.inertia_\n",
    "\n",
    "    print(f'k : {k} , score: {inertia}')\n",
    "    \n",
    "    inertia_arr.append(inertia)\n",
    "    \n",
    "plt.plot(k_range,inertia_arr)"
   ]
  },
  {
   "cell_type": "code",
   "execution_count": 9,
   "id": "0f129a36",
   "metadata": {
    "ExecuteTime": {
     "end_time": "2021-12-24T05:19:34.764154Z",
     "start_time": "2021-12-24T05:19:34.718156Z"
    }
   },
   "outputs": [],
   "source": [
    "pass_kmeans = cluster.KMeans(n_clusters=3,random_state=123).fit(list(zip(defender_df['경기당 패스 성공/90'],defender_df['경기당 패스 시도/90'])))\n",
    "\n",
    "defender_df['패스군집'] = pass_kmeans.predict(list(zip(defender_df['경기당 패스 성공/90'],defender_df['경기당 패스 시도/90'])))\n",
    "\n",
    "defender_df['패스군집_이름'] = defender_df['패스군집'].map(lambda x : '안전패스군' if x == 0 else ('일반패스군' if x == 1 else '위험패스군'))"
   ]
  },
  {
   "cell_type": "code",
   "execution_count": 10,
   "id": "39569bd4",
   "metadata": {
    "ExecuteTime": {
     "end_time": "2021-12-24T05:19:34.780155Z",
     "start_time": "2021-12-24T05:19:34.766156Z"
    }
   },
   "outputs": [
    {
     "data": {
      "text/html": [
       "<div>\n",
       "<style scoped>\n",
       "    .dataframe tbody tr th:only-of-type {\n",
       "        vertical-align: middle;\n",
       "    }\n",
       "\n",
       "    .dataframe tbody tr th {\n",
       "        vertical-align: top;\n",
       "    }\n",
       "\n",
       "    .dataframe thead th {\n",
       "        text-align: right;\n",
       "    }\n",
       "</style>\n",
       "<table border=\"1\" class=\"dataframe\">\n",
       "  <thead>\n",
       "    <tr style=\"text-align: right;\">\n",
       "      <th></th>\n",
       "      <th>이름</th>\n",
       "      <th>패스군집_이름</th>\n",
       "    </tr>\n",
       "  </thead>\n",
       "  <tbody>\n",
       "    <tr>\n",
       "      <th>14</th>\n",
       "      <td>Mitchel Bakker</td>\n",
       "      <td>위험패스군</td>\n",
       "    </tr>\n",
       "    <tr>\n",
       "      <th>70</th>\n",
       "      <td>Emil Krafth</td>\n",
       "      <td>위험패스군</td>\n",
       "    </tr>\n",
       "    <tr>\n",
       "      <th>92</th>\n",
       "      <td>Óscar Mingueza</td>\n",
       "      <td>위험패스군</td>\n",
       "    </tr>\n",
       "    <tr>\n",
       "      <th>121</th>\n",
       "      <td>Federico Ricca</td>\n",
       "      <td>위험패스군</td>\n",
       "    </tr>\n",
       "    <tr>\n",
       "      <th>124</th>\n",
       "      <td>Diego González</td>\n",
       "      <td>위험패스군</td>\n",
       "    </tr>\n",
       "    <tr>\n",
       "      <th>...</th>\n",
       "      <td>...</td>\n",
       "      <td>...</td>\n",
       "    </tr>\n",
       "    <tr>\n",
       "      <th>1032</th>\n",
       "      <td>Japhet Tanganga</td>\n",
       "      <td>위험패스군</td>\n",
       "    </tr>\n",
       "    <tr>\n",
       "      <th>1033</th>\n",
       "      <td>Tiago Casasola</td>\n",
       "      <td>위험패스군</td>\n",
       "    </tr>\n",
       "    <tr>\n",
       "      <th>1037</th>\n",
       "      <td>Jonny</td>\n",
       "      <td>위험패스군</td>\n",
       "    </tr>\n",
       "    <tr>\n",
       "      <th>1069</th>\n",
       "      <td>Riccardo Fiamozzi</td>\n",
       "      <td>위험패스군</td>\n",
       "    </tr>\n",
       "    <tr>\n",
       "      <th>1073</th>\n",
       "      <td>Arturo Calabresi</td>\n",
       "      <td>위험패스군</td>\n",
       "    </tr>\n",
       "  </tbody>\n",
       "</table>\n",
       "<p>76 rows × 2 columns</p>\n",
       "</div>"
      ],
      "text/plain": [
       "                     이름 패스군집_이름\n",
       "14       Mitchel Bakker   위험패스군\n",
       "70          Emil Krafth   위험패스군\n",
       "92       Óscar Mingueza   위험패스군\n",
       "121      Federico Ricca   위험패스군\n",
       "124      Diego González   위험패스군\n",
       "...                 ...     ...\n",
       "1032    Japhet Tanganga   위험패스군\n",
       "1033     Tiago Casasola   위험패스군\n",
       "1037              Jonny   위험패스군\n",
       "1069  Riccardo Fiamozzi   위험패스군\n",
       "1073   Arturo Calabresi   위험패스군\n",
       "\n",
       "[76 rows x 2 columns]"
      ]
     },
     "execution_count": 10,
     "metadata": {},
     "output_type": "execute_result"
    }
   ],
   "source": [
    "defender_df[['이름','패스군집_이름']].query('패스군집_이름 == \"위험패스군\"')"
   ]
  },
  {
   "cell_type": "code",
   "execution_count": 11,
   "id": "4a8cf90e",
   "metadata": {
    "ExecuteTime": {
     "end_time": "2021-12-24T05:19:34.796154Z",
     "start_time": "2021-12-24T05:19:34.781156Z"
    }
   },
   "outputs": [
    {
     "data": {
      "text/plain": [
       "{'골',\n",
       " '공중볼시도/90',\n",
       " '기회 창출/90',\n",
       " '달린 거리/90분',\n",
       " '도움',\n",
       " '드리블 성공/90',\n",
       " '반칙 수/90',\n",
       " '인터셉트/90',\n",
       " '크로스 성공률',\n",
       " '크로스 시도/90',\n",
       " '키패스/90',\n",
       " '태클 성공/90',\n",
       " '태클 성공률',\n",
       " '파울 획득',\n",
       " '헤더 성공/90'}"
      ]
     },
     "execution_count": 11,
     "metadata": {},
     "output_type": "execute_result"
    }
   ],
   "source": [
    "independent_value = independent_value - set(['경기당 유효 슈팅/90','경기당 슈팅/90','경기당 패스 성공/90','경기당 패스 시도/90'])\n",
    "independent_value"
   ]
  },
  {
   "cell_type": "code",
   "execution_count": 12,
   "id": "2227bdc5",
   "metadata": {
    "ExecuteTime": {
     "end_time": "2021-12-24T05:19:34.812154Z",
     "start_time": "2021-12-24T05:19:34.797156Z"
    }
   },
   "outputs": [],
   "source": [
    "safe_pass_df = defender_df[defender_df['패스군집_이름']=='안전패스군']\n",
    "normal_pass_df = defender_df[defender_df['패스군집_이름']=='일반패스군']\n",
    "danger_pass_df = defender_df[defender_df['패스군집_이름']=='위험패스군']"
   ]
  },
  {
   "cell_type": "markdown",
   "id": "202b02ce",
   "metadata": {},
   "source": [
    "# LGBM Regressor 안전패스군 모델 생성"
   ]
  },
  {
   "cell_type": "code",
   "execution_count": 13,
   "id": "cb07a9b8",
   "metadata": {
    "ExecuteTime": {
     "end_time": "2021-12-24T05:19:35.463156Z",
     "start_time": "2021-12-24T05:19:34.813155Z"
    }
   },
   "outputs": [],
   "source": [
    "from lightgbm import LGBMRegressor\n",
    "from sklearn.model_selection import GridSearchCV,train_test_split,StratifiedKFold\n",
    "\n",
    "safe_x_train,safe_x_test,safe_y_train,safe_y_test = train_test_split(safe_pass_df.loc[:,independent_value],safe_pass_df.loc[:,dependent_value],test_size=0.2,random_state=123)"
   ]
  },
  {
   "cell_type": "code",
   "execution_count": 14,
   "id": "207e73ca",
   "metadata": {
    "ExecuteTime": {
     "end_time": "2021-12-24T05:19:35.574154Z",
     "start_time": "2021-12-24T05:19:35.464156Z"
    }
   },
   "outputs": [
    {
     "name": "stdout",
     "output_type": "stream",
     "text": [
      "-0.3514569323012364\n",
      "LGBMRegressor(extra_trees=True, learning_rate=0.2, n_estimators=150,\n",
      "              num_leaves=7, objective='regression', random_state=123,\n",
      "              reg_alpha=1.4, reg_lambda=1.1, subsample=0.5)\n",
      "{'extra_trees': True, 'learning_rate': 0.2, 'max_depth': -1, 'n_estimators': 150, 'num_leaves': 7, 'objective': 'regression', 'random_state': 123, 'reg_alpha': 1.4, 'reg_lambda': 1.1, 'subsample': 0.5}\n"
     ]
    }
   ],
   "source": [
    "defender_lgbm = LGBMRegressor()\n",
    "\n",
    "params = {\n",
    "    'num_leaves': [7],\n",
    "    'learning_rate': [0.2],\n",
    "    'max_depth': [-1],\n",
    "    'n_estimators': [150],\n",
    "    'objective' : [\"regression\"],\n",
    "    'random_state' :[123],\n",
    "    'reg_alpha' : [1.4],\n",
    "    'reg_lambda' : [1.1],\n",
    "    'subsample': [0.5],\n",
    "    'extra_trees' : [True]\n",
    "}\n",
    "\n",
    "\n",
    "grid = GridSearchCV(defender_lgbm, params, scoring='neg_mean_absolute_error', cv=3,refit=True)\n",
    "\n",
    "grid.fit(safe_pass_df.loc[:,independent_value],\n",
    "         safe_pass_df.loc[:,dependent_value])\n",
    "\n",
    "print(grid.best_score_)\n",
    "print(grid.best_estimator_)\n",
    "print(grid.best_params_)"
   ]
  },
  {
   "cell_type": "code",
   "execution_count": 15,
   "id": "e71b0c1f",
   "metadata": {
    "ExecuteTime": {
     "end_time": "2021-12-24T05:19:35.590154Z",
     "start_time": "2021-12-24T05:19:35.575155Z"
    }
   },
   "outputs": [],
   "source": [
    "safe_defender_lgbm = LGBMRegressor(\n",
    "                num_leaves=7,\n",
    "                learning_rate=0.2,\n",
    "                max_depth=-1,\n",
    "                n_estimators=150,\n",
    "                objective='regression',\n",
    "                random_state=123,\n",
    "                reg_alpha=1.4,\n",
    "                reg_lambda=1.1,\n",
    "                subsample=0.5,\n",
    "                extra_trees=True\n",
    "                )"
   ]
  },
  {
   "cell_type": "code",
   "execution_count": 16,
   "id": "2fbf0715",
   "metadata": {
    "ExecuteTime": {
     "end_time": "2021-12-24T05:19:35.621156Z",
     "start_time": "2021-12-24T05:19:35.591155Z"
    }
   },
   "outputs": [
    {
     "data": {
      "text/plain": [
       "LGBMRegressor(extra_trees=True, learning_rate=0.2, n_estimators=150,\n",
       "              num_leaves=7, objective='regression', random_state=123,\n",
       "              reg_alpha=1.4, reg_lambda=1.1, subsample=0.5)"
      ]
     },
     "execution_count": 16,
     "metadata": {},
     "output_type": "execute_result"
    }
   ],
   "source": [
    "safe_defender_lgbm.fit(safe_x_train,safe_y_train)"
   ]
  },
  {
   "cell_type": "code",
   "execution_count": 17,
   "id": "19143991",
   "metadata": {
    "ExecuteTime": {
     "end_time": "2021-12-24T05:19:35.637157Z",
     "start_time": "2021-12-24T05:19:35.622157Z"
    }
   },
   "outputs": [
    {
     "data": {
      "text/plain": [
       "0.3456548858309519"
      ]
     },
     "execution_count": 17,
     "metadata": {},
     "output_type": "execute_result"
    }
   ],
   "source": [
    "safe_y_pred = safe_defender_lgbm.predict(safe_x_test)\n",
    "mean_absolute_error(safe_y_test,safe_y_pred)"
   ]
  },
  {
   "cell_type": "markdown",
   "id": "508a2950",
   "metadata": {},
   "source": [
    "## 모델검정 데이터 삽입"
   ]
  },
  {
   "cell_type": "code",
   "execution_count": 18,
   "id": "670934f7",
   "metadata": {
    "ExecuteTime": {
     "end_time": "2021-12-24T05:19:35.653155Z",
     "start_time": "2021-12-24T05:19:35.638155Z"
    }
   },
   "outputs": [],
   "source": [
    "defender_df['predict'] = 0"
   ]
  },
  {
   "cell_type": "code",
   "execution_count": 19,
   "id": "bbe5f625",
   "metadata": {
    "ExecuteTime": {
     "end_time": "2021-12-24T05:19:35.668157Z",
     "start_time": "2021-12-24T05:19:35.654157Z"
    }
   },
   "outputs": [],
   "source": [
    "safe_pass_df['predict'] = safe_defender_lgbm.predict(safe_pass_df.loc[:,independent_value])"
   ]
  },
  {
   "cell_type": "code",
   "execution_count": 20,
   "id": "04f42cad",
   "metadata": {
    "ExecuteTime": {
     "end_time": "2021-12-24T05:19:35.684154Z",
     "start_time": "2021-12-24T05:19:35.669157Z"
    }
   },
   "outputs": [],
   "source": [
    "safe_index = safe_pass_df.loc[:,independent_value].index"
   ]
  },
  {
   "cell_type": "code",
   "execution_count": 21,
   "id": "7845990c",
   "metadata": {
    "ExecuteTime": {
     "end_time": "2021-12-24T05:19:35.700154Z",
     "start_time": "2021-12-24T05:19:35.686155Z"
    }
   },
   "outputs": [],
   "source": [
    "defender_df.loc[safe_index,'predict'] = safe_defender_lgbm.predict(safe_pass_df.loc[:,independent_value])"
   ]
  },
  {
   "cell_type": "markdown",
   "id": "395af5a6",
   "metadata": {},
   "source": [
    "# LGBM Regressor 일반패스군 모델 생성"
   ]
  },
  {
   "cell_type": "code",
   "execution_count": 22,
   "id": "3b3d1372",
   "metadata": {
    "ExecuteTime": {
     "end_time": "2021-12-24T05:19:35.715155Z",
     "start_time": "2021-12-24T05:19:35.701156Z"
    }
   },
   "outputs": [],
   "source": [
    "normal_x_train,normal_x_test,normal_y_train,normal_y_test = train_test_split(normal_pass_df.loc[:,independent_value],normal_pass_df.loc[:,dependent_value],test_size=0.2,random_state=123)"
   ]
  },
  {
   "cell_type": "code",
   "execution_count": 23,
   "id": "233403b1",
   "metadata": {
    "ExecuteTime": {
     "end_time": "2021-12-24T05:20:08.934661Z",
     "start_time": "2021-12-24T05:19:35.717157Z"
    }
   },
   "outputs": [
    {
     "name": "stdout",
     "output_type": "stream",
     "text": [
      "-0.36362146943626583\n",
      "LGBMRegressor(extra_trees=True, learning_rate=0.2, n_estimators=150,\n",
      "              num_leaves=5, objective='regression', random_state=123,\n",
      "              reg_alpha=1.5, reg_lambda=1.3, subsample=0.5)\n",
      "{'extra_trees': True, 'learning_rate': 0.2, 'max_depth': -1, 'n_estimators': 150, 'num_leaves': 5, 'objective': 'regression', 'random_state': 123, 'reg_alpha': 1.5, 'reg_lambda': 1.3, 'subsample': 0.5}\n"
     ]
    }
   ],
   "source": [
    "defender_lgbm = LGBMRegressor()\n",
    "\n",
    "params = {\n",
    "    'num_leaves': [5,6,7,8],\n",
    "    'learning_rate': [0.2],\n",
    "    'max_depth': [-1],\n",
    "    'n_estimators': [150],\n",
    "    'objective' : [\"regression\"],\n",
    "    'random_state' :[123],\n",
    "    'reg_alpha' : [1.1,1.2,1.3,1.4,1.5],\n",
    "    'reg_lambda' : [1.1,1.2,1.3,1.4,1.5],\n",
    "    'subsample': [0.5,0.6,0.7,0.8,0.9,1.0],\n",
    "    'extra_trees' : [True]\n",
    "}\n",
    "\n",
    "\n",
    "grid = GridSearchCV(defender_lgbm, params, scoring='neg_mean_absolute_error', cv=3,refit=True)\n",
    "\n",
    "grid.fit(normal_pass_df.loc[:,independent_value],\n",
    "         normal_pass_df.loc[:,dependent_value])\n",
    "\n",
    "print(grid.best_score_)\n",
    "print(grid.best_estimator_)\n",
    "print(grid.best_params_)"
   ]
  },
  {
   "cell_type": "code",
   "execution_count": 24,
   "id": "11a3323b",
   "metadata": {
    "ExecuteTime": {
     "end_time": "2021-12-24T05:20:08.949661Z",
     "start_time": "2021-12-24T05:20:08.935663Z"
    }
   },
   "outputs": [],
   "source": [
    "normal_defender_lgbm = LGBMRegressor(\n",
    "                num_leaves=5,\n",
    "                learning_rate=0.2,\n",
    "                max_depth=-1,\n",
    "                n_estimators=150,\n",
    "                objective='regression',\n",
    "                random_state=123,\n",
    "                reg_alpha=1.2,\n",
    "                reg_lambda=1.5,\n",
    "                subsample=0.5,\n",
    "                extra_trees=True\n",
    "                )"
   ]
  },
  {
   "cell_type": "code",
   "execution_count": 25,
   "id": "f5384ea2",
   "metadata": {
    "ExecuteTime": {
     "end_time": "2021-12-24T05:20:08.981663Z",
     "start_time": "2021-12-24T05:20:08.950663Z"
    }
   },
   "outputs": [
    {
     "data": {
      "text/plain": [
       "LGBMRegressor(extra_trees=True, learning_rate=0.2, n_estimators=150,\n",
       "              num_leaves=5, objective='regression', random_state=123,\n",
       "              reg_alpha=1.2, reg_lambda=1.5, subsample=0.5)"
      ]
     },
     "execution_count": 25,
     "metadata": {},
     "output_type": "execute_result"
    }
   ],
   "source": [
    "normal_defender_lgbm.fit(normal_x_train,normal_y_train)"
   ]
  },
  {
   "cell_type": "code",
   "execution_count": 26,
   "id": "2cc460fb",
   "metadata": {
    "ExecuteTime": {
     "end_time": "2021-12-24T05:20:08.997662Z",
     "start_time": "2021-12-24T05:20:08.982663Z"
    }
   },
   "outputs": [
    {
     "data": {
      "text/plain": [
       "0.3448359845699594"
      ]
     },
     "execution_count": 26,
     "metadata": {},
     "output_type": "execute_result"
    }
   ],
   "source": [
    "normal_y_pred = normal_defender_lgbm.predict(normal_x_test)\n",
    "mean_absolute_error(normal_y_test,normal_y_pred)"
   ]
  },
  {
   "cell_type": "code",
   "execution_count": 27,
   "id": "ed5c3474",
   "metadata": {
    "ExecuteTime": {
     "end_time": "2021-12-24T05:20:09.016664Z",
     "start_time": "2021-12-24T05:20:08.998664Z"
    }
   },
   "outputs": [],
   "source": [
    "normal_pass_df['predict'] = normal_defender_lgbm.predict(normal_pass_df.loc[:,independent_value])"
   ]
  },
  {
   "cell_type": "code",
   "execution_count": 28,
   "id": "f2543c19",
   "metadata": {
    "ExecuteTime": {
     "end_time": "2021-12-24T05:20:09.029664Z",
     "start_time": "2021-12-24T05:20:09.022663Z"
    }
   },
   "outputs": [],
   "source": [
    "normal_index = normal_pass_df.loc[:,independent_value].index"
   ]
  },
  {
   "cell_type": "code",
   "execution_count": 29,
   "id": "fc8dbe3a",
   "metadata": {
    "ExecuteTime": {
     "end_time": "2021-12-24T05:20:09.045661Z",
     "start_time": "2021-12-24T05:20:09.032666Z"
    }
   },
   "outputs": [],
   "source": [
    "defender_df.loc[normal_index,'predict'] = normal_defender_lgbm.predict(normal_pass_df.loc[:,independent_value])"
   ]
  },
  {
   "cell_type": "markdown",
   "id": "1fb1e1b8",
   "metadata": {},
   "source": [
    "# 위험 패스군 모델 생성"
   ]
  },
  {
   "cell_type": "code",
   "execution_count": 30,
   "id": "57168da4",
   "metadata": {
    "ExecuteTime": {
     "end_time": "2021-12-24T05:20:09.061661Z",
     "start_time": "2021-12-24T05:20:09.047664Z"
    }
   },
   "outputs": [],
   "source": [
    "danger_x_train,danger_x_test,danger_y_train,danger_y_test = train_test_split(danger_pass_df.loc[:,independent_value],danger_pass_df.loc[:,dependent_value],test_size=0.2,random_state=123)"
   ]
  },
  {
   "cell_type": "code",
   "execution_count": 31,
   "id": "f918dc1a",
   "metadata": {
    "ExecuteTime": {
     "end_time": "2021-12-24T05:20:26.159770Z",
     "start_time": "2021-12-24T05:20:09.062664Z"
    }
   },
   "outputs": [
    {
     "name": "stdout",
     "output_type": "stream",
     "text": [
      "-0.36043360683432796\n",
      "LGBMRegressor(extra_trees=True, learning_rate=0.2, n_estimators=150,\n",
      "              num_leaves=5, objective='regression', random_state=123,\n",
      "              reg_alpha=1.1, reg_lambda=1.4, subsample=0.5)\n",
      "{'extra_trees': True, 'learning_rate': 0.2, 'max_depth': -1, 'n_estimators': 150, 'num_leaves': 5, 'objective': 'regression', 'random_state': 123, 'reg_alpha': 1.1, 'reg_lambda': 1.4, 'subsample': 0.5}\n"
     ]
    }
   ],
   "source": [
    "defender_lgbm = LGBMRegressor()\n",
    "\n",
    "params = {\n",
    "    'num_leaves': [5,6,7,8],\n",
    "    'learning_rate': [0.2],\n",
    "    'max_depth': [-1],\n",
    "    'n_estimators': [150],\n",
    "    'objective' : [\"regression\"],\n",
    "    'random_state' :[123],\n",
    "    'reg_alpha' : [1.1,1.2,1.3,1.4,1.5],\n",
    "    'reg_lambda' : [1.1,1.2,1.3,1.4,1.5],\n",
    "    'subsample': [0.5,0.6,0.7,0.8,0.9,1.0],\n",
    "    'extra_trees' : [True]\n",
    "}\n",
    "\n",
    "\n",
    "grid = GridSearchCV(defender_lgbm, params, scoring='neg_mean_absolute_error', cv=3,refit=True)\n",
    "\n",
    "grid.fit(danger_pass_df.loc[:,independent_value],\n",
    "         danger_pass_df.loc[:,dependent_value])\n",
    "\n",
    "print(grid.best_score_)\n",
    "print(grid.best_estimator_)\n",
    "print(grid.best_params_)"
   ]
  },
  {
   "cell_type": "code",
   "execution_count": 32,
   "id": "44ece259",
   "metadata": {
    "ExecuteTime": {
     "end_time": "2021-12-24T05:20:26.175770Z",
     "start_time": "2021-12-24T05:20:26.160769Z"
    }
   },
   "outputs": [],
   "source": [
    "danger_defender_lgbm = LGBMRegressor(\n",
    "                num_leaves=8,\n",
    "                learning_rate=0.2,\n",
    "                max_depth=-1,\n",
    "                n_estimators=150,\n",
    "                objective='regression',\n",
    "                random_state=123,\n",
    "                reg_alpha=1.3,\n",
    "                reg_lambda=1.5,\n",
    "                subsample=0.5,\n",
    "                extra_trees=True\n",
    "                )"
   ]
  },
  {
   "cell_type": "code",
   "execution_count": 33,
   "id": "44a213c2",
   "metadata": {
    "ExecuteTime": {
     "end_time": "2021-12-24T05:20:26.206769Z",
     "start_time": "2021-12-24T05:20:26.179770Z"
    }
   },
   "outputs": [
    {
     "data": {
      "text/plain": [
       "LGBMRegressor(extra_trees=True, learning_rate=0.2, n_estimators=150,\n",
       "              num_leaves=8, objective='regression', random_state=123,\n",
       "              reg_alpha=1.3, reg_lambda=1.5, subsample=0.5)"
      ]
     },
     "execution_count": 33,
     "metadata": {},
     "output_type": "execute_result"
    }
   ],
   "source": [
    "danger_defender_lgbm.fit(danger_x_train,danger_y_train)"
   ]
  },
  {
   "cell_type": "code",
   "execution_count": 34,
   "id": "5a40b1b7",
   "metadata": {
    "ExecuteTime": {
     "end_time": "2021-12-24T05:20:26.222769Z",
     "start_time": "2021-12-24T05:20:26.208769Z"
    }
   },
   "outputs": [
    {
     "data": {
      "text/plain": [
       "0.3282412382673132"
      ]
     },
     "execution_count": 34,
     "metadata": {},
     "output_type": "execute_result"
    }
   ],
   "source": [
    "danger_y_pred = danger_defender_lgbm.predict(danger_x_test)\n",
    "mean_absolute_error(danger_y_test,danger_y_pred)"
   ]
  },
  {
   "cell_type": "code",
   "execution_count": 35,
   "id": "b7d7c55b",
   "metadata": {
    "ExecuteTime": {
     "end_time": "2021-12-24T05:20:26.238768Z",
     "start_time": "2021-12-24T05:20:26.223770Z"
    }
   },
   "outputs": [],
   "source": [
    "danger_pass_df['predict'] = danger_defender_lgbm.predict(danger_pass_df.loc[:,independent_value])"
   ]
  },
  {
   "cell_type": "code",
   "execution_count": 36,
   "id": "41d50d17",
   "metadata": {
    "ExecuteTime": {
     "end_time": "2021-12-24T05:20:26.262767Z",
     "start_time": "2021-12-24T05:20:26.240768Z"
    }
   },
   "outputs": [],
   "source": [
    "danger_index = danger_pass_df.loc[:,independent_value].index"
   ]
  },
  {
   "cell_type": "code",
   "execution_count": 37,
   "id": "dea6fe2e",
   "metadata": {
    "ExecuteTime": {
     "end_time": "2021-12-24T05:20:26.286767Z",
     "start_time": "2021-12-24T05:20:26.265768Z"
    }
   },
   "outputs": [],
   "source": [
    "defender_df.loc[danger_index,'predict'] = danger_defender_lgbm.predict(danger_pass_df.loc[:,independent_value])"
   ]
  },
  {
   "cell_type": "code",
   "execution_count": 38,
   "id": "cc3bf226",
   "metadata": {
    "ExecuteTime": {
     "end_time": "2021-12-24T05:20:26.302767Z",
     "start_time": "2021-12-24T05:20:26.288770Z"
    }
   },
   "outputs": [
    {
     "data": {
      "text/plain": [
       "['./models/defender_lgbm_cluster.pkl']"
      ]
     },
     "execution_count": 38,
     "metadata": {},
     "output_type": "execute_result"
    }
   ],
   "source": [
    "import joblib\n",
    "\n",
    "joblib.dump(defender_lgbm, './models/defender_lgbm_cluster.pkl')"
   ]
  },
  {
   "cell_type": "markdown",
   "id": "b3b9a32d",
   "metadata": {},
   "source": [
    "## 선형성 검정"
   ]
  },
  {
   "cell_type": "code",
   "execution_count": 39,
   "id": "fedba2ae",
   "metadata": {
    "ExecuteTime": {
     "end_time": "2021-12-24T05:20:26.318769Z",
     "start_time": "2021-12-24T05:20:26.303769Z"
    }
   },
   "outputs": [],
   "source": [
    "residual = defender_df['평균획득승점/경기'] - defender_df['predict']"
   ]
  },
  {
   "cell_type": "code",
   "execution_count": 40,
   "id": "cf017466",
   "metadata": {
    "ExecuteTime": {
     "end_time": "2021-12-24T05:20:26.682801Z",
     "start_time": "2021-12-24T05:20:26.319769Z"
    }
   },
   "outputs": [
    {
     "data": {
      "text/plain": [
       "[<matplotlib.lines.Line2D at 0x2c1db1712b0>]"
      ]
     },
     "execution_count": 40,
     "metadata": {},
     "output_type": "execute_result"
    },
    {
     "data": {
      "image/png": "[encoded data removed]",
      "text/plain": [
       "<Figure size 432x288 with 1 Axes>"
      ]
     },
     "metadata": {
      "needs_background": "light"
     },
     "output_type": "display_data"
    }
   ],
   "source": [
    "sns.regplot(defender_df['predict'], residual, lowess=True, line_kws={'color': 'red'})\n",
    "plt.plot([defender_df['predict'].values.min(), defender_df['predict'].values.max()], [0, 0], '--', color='grey')"
   ]
  },
  {
   "cell_type": "markdown",
   "id": "27146545",
   "metadata": {},
   "source": [
    "## 잔차의 정규성 검정"
   ]
  },
  {
   "cell_type": "code",
   "execution_count": 41,
   "id": "b42a42a1",
   "metadata": {
    "ExecuteTime": {
     "end_time": "2021-12-24T05:20:26.698816Z",
     "start_time": "2021-12-24T05:20:26.683801Z"
    }
   },
   "outputs": [
    {
     "data": {
      "text/plain": [
       "ShapiroResult(statistic=0.9989656805992126, pvalue=0.7961402535438538)"
      ]
     },
     "execution_count": 41,
     "metadata": {},
     "output_type": "execute_result"
    }
   ],
   "source": [
    "# 정규성 만족\n",
    "stats.shapiro(residual)"
   ]
  },
  {
   "cell_type": "code",
   "execution_count": 42,
   "id": "f3774933",
   "metadata": {
    "ExecuteTime": {
     "end_time": "2021-12-24T05:20:26.807285Z",
     "start_time": "2021-12-24T05:20:26.699816Z"
    }
   },
   "outputs": [
    {
     "data": {
      "text/plain": [
       "[<matplotlib.lines.Line2D at 0x2c1db0ba910>]"
      ]
     },
     "execution_count": 42,
     "metadata": {},
     "output_type": "execute_result"
    },
    {
     "data": {
      "image/png": "[encoded data removed]",
      "text/plain": [
       "<Figure size 432x288 with 1 Axes>"
      ]
     },
     "metadata": {
      "needs_background": "light"
     },
     "output_type": "display_data"
    }
   ],
   "source": [
    "sr = stats.zscore(residual)\n",
    "(x, y), _ = stats.probplot(sr)\n",
    "sns.scatterplot(x, y)\n",
    "plt.plot([-3, 3], [-3, 3], '--', color='grey')"
   ]
  },
  {
   "cell_type": "markdown",
   "id": "6e0ee93e",
   "metadata": {},
   "source": [
    "## 잔차의 등분산성 검정"
   ]
  },
  {
   "cell_type": "code",
   "execution_count": 43,
   "id": "ac283f13",
   "metadata": {
    "ExecuteTime": {
     "end_time": "2021-12-24T05:20:27.154401Z",
     "start_time": "2021-12-24T05:20:26.808285Z"
    }
   },
   "outputs": [
    {
     "data": {
      "text/plain": [
       "<AxesSubplot:xlabel='predict'>"
      ]
     },
     "execution_count": 43,
     "metadata": {},
     "output_type": "execute_result"
    },
    {
     "data": {
      "image/png": "[encoded data removed]",
      "text/plain": [
       "<Figure size 432x288 with 1 Axes>"
      ]
     },
     "metadata": {
      "needs_background": "light"
     },
     "output_type": "display_data"
    }
   ],
   "source": [
    "sns.regplot(defender_df['predict'], np.sqrt(np.abs(sr)), lowess=True, line_kws={'color': 'red'})"
   ]
  },
  {
   "cell_type": "code",
   "execution_count": 44,
   "id": "436baa05",
   "metadata": {
    "ExecuteTime": {
     "end_time": "2021-12-24T05:20:27.170413Z",
     "start_time": "2021-12-24T05:20:27.155401Z"
    }
   },
   "outputs": [
    {
     "data": {
      "text/plain": [
       "LeveneResult(statistic=475.64534566654606, pvalue=1.0866588139121118e-95)"
      ]
     },
     "execution_count": 44,
     "metadata": {},
     "output_type": "execute_result"
    }
   ],
   "source": [
    "# 등분산성 불만족\n",
    "stats.levene(defender_df['평균획득승점/경기'],defender_df['predict'])"
   ]
  },
  {
   "cell_type": "markdown",
   "id": "783f0b5e",
   "metadata": {},
   "source": [
    "## 잔차의 독립성 검정"
   ]
  },
  {
   "cell_type": "code",
   "execution_count": 45,
   "id": "4b3caf3b",
   "metadata": {
    "ExecuteTime": {
     "end_time": "2021-12-24T05:20:27.186412Z",
     "start_time": "2021-12-24T05:20:27.171413Z"
    }
   },
   "outputs": [
    {
     "data": {
      "text/plain": [
       "0.9744605455670554"
      ]
     },
     "execution_count": 45,
     "metadata": {},
     "output_type": "execute_result"
    }
   ],
   "source": [
    "from statsmodels.stats.stattools import durbin_watson\n",
    "\n",
    "# 독립성 불만족\n",
    "durbin_watson(residual)"
   ]
  },
  {
   "cell_type": "code",
   "execution_count": 46,
   "id": "613d91ce",
   "metadata": {
    "ExecuteTime": {
     "end_time": "2021-12-24T05:20:27.201412Z",
     "start_time": "2021-12-24T05:20:27.187414Z"
    }
   },
   "outputs": [
    {
     "data": {
      "text/plain": [
       "0.29985954308051327"
      ]
     },
     "execution_count": 46,
     "metadata": {},
     "output_type": "execute_result"
    }
   ],
   "source": [
    "mean_absolute_error(defender_df['평균획득승점/경기'],defender_df['predict'])"
   ]
  }
 ],
 "metadata": {
  "kernelspec": {
   "display_name": "Python 3 (ipykernel)",
   "language": "python",
   "name": "python3"
  },
  "language_info": {
   "codemirror_mode": {
    "name": "ipython",
    "version": 3
   },
   "file_extension": ".py",
   "mimetype": "text/x-python",
   "name": "python",
   "nbconvert_exporter": "python",
   "pygments_lexer": "ipython3",
   "version": "3.9.7"
  },
  "toc": {
   "base_numbering": 1,
   "nav_menu": {},
   "number_sections": true,
   "sideBar": true,
   "skip_h1_title": false,
   "title_cell": "Table of Contents",
   "title_sidebar": "Contents",
   "toc_cell": false,
   "toc_position": {},
   "toc_section_display": true,
   "toc_window_display": false
  },
  "varInspector": {
   "cols": {
    "lenName": 16,
    "lenType": 16,
    "lenVar": 40
   },
   "kernels_config": {
    "python": {
     "delete_cmd_postfix": "",
     "delete_cmd_prefix": "del ",
     "library": "var_list.py",
     "varRefreshCmd": "print(var_dic_list())"
    },
    "r": {
     "delete_cmd_postfix": ") ",
     "delete_cmd_prefix": "rm(",
     "library": "var_list.r",
     "varRefreshCmd": "cat(var_dic_list()) "
    }
   },
   "position": {
    "height": "144.83px",
    "left": "1373.42px",
    "right": "20px",
    "top": "128.983px",
    "width": "350px"
   },
   "types_to_exclude": [
    "module",
    "function",
    "builtin_function_or_method",
    "instance",
    "_Feature"
   ],
   "window_display": false
  }
 },
 "nbformat": 4,
 "nbformat_minor": 5
}
