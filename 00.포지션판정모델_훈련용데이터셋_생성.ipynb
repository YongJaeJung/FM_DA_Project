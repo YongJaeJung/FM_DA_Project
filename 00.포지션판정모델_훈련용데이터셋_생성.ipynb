{
 "cells": [
  {
   "cell_type": "code",
   "execution_count": 14,
   "id": "2ce01dd2",
   "metadata": {
    "ExecuteTime": {
     "end_time": "2021-12-12T11:33:09.170167Z",
     "start_time": "2021-12-12T11:33:09.158165Z"
    }
   },
   "outputs": [],
   "source": [
    "import pandas as pd\n",
    "import os\n",
    "import numpy as np"
   ]
  },
  {
   "cell_type": "code",
   "execution_count": 15,
   "id": "bc6af9fa",
   "metadata": {
    "ExecuteTime": {
     "end_time": "2021-12-12T11:33:09.341115Z",
     "start_time": "2021-12-12T11:33:09.334526Z"
    }
   },
   "outputs": [],
   "source": [
    "# 현재 위치\n",
    "current_path = os.getcwd()"
   ]
  },
  {
   "cell_type": "markdown",
   "id": "80de341e",
   "metadata": {},
   "source": [
    "# 포지션 선수 판별용 선수라벨링"
   ]
  },
  {
   "cell_type": "markdown",
   "id": "8f15e1ac",
   "metadata": {},
   "source": [
    "## 라벨링할 대상은 2021-2022 프리미어리그 선수들, 2022-2023 프리미어리그 선수들"
   ]
  },
  {
   "cell_type": "code",
   "execution_count": 16,
   "id": "38d5ecb5",
   "metadata": {
    "ExecuteTime": {
     "end_time": "2021-12-12T11:33:09.961160Z",
     "start_time": "2021-12-12T11:33:09.947153Z"
    }
   },
   "outputs": [],
   "source": [
    "Premier_1_dir_path = os.path.join(current_path,'datas','NEW_FM_DATA','2021-2022','2021-2022-PremierLeague')\n",
    "Premier_2_dir_path = os.path.join(current_path,'datas','NEW_FM_DATA','2022-2023','2022-2023-PremierLeague')"
   ]
  },
  {
   "cell_type": "code",
   "execution_count": 17,
   "id": "0807c92e",
   "metadata": {
    "ExecuteTime": {
     "end_time": "2021-12-12T11:33:10.431024Z",
     "start_time": "2021-12-12T11:33:10.157489Z"
    }
   },
   "outputs": [],
   "source": [
    "# 빈 데이터 프레임생성 \n",
    "position_df = pd.DataFrame(columns=['이름', '포지션', '구단', '리그', '임대 기간', '승', '무', '패', '출장시간', '경기당 팀 득점/90',\n",
    "       '경기당 팀 실점/90', '골', '도움', 'Cr C/A', '헤더 시도', 'Cr A', 'FA', 'Fls',\n",
    "       '경기 당 드리블', '드리블', '기회 창출/90', '경기당 유효 슈팅/90', '경기당 슈팅/90', 'Int/90',\n",
    "       '달린 거리/90분', '공중 A/90', '경기당 헤더 성공', '태클 성공률', '태클', '경기당 패스 시도/90',\n",
    "       '경기당 패스 성공/90', 'K Ps/90'])\n",
    "\n",
    "\n",
    "def merge_season_datas(path):\n",
    "    \n",
    "    global position_df\n",
    "    \n",
    "    # n번째 시즌 처리\n",
    "    for file in os.listdir(path):\n",
    "\n",
    "        # n번째 시즌 경로\n",
    "        this_path = os.path.join(path,file)\n",
    "\n",
    "        # 불러오기\n",
    "        this_df = pd.read_csv(this_path,encoding='utf-8')\n",
    "\n",
    "        # 포지션이 없는 쓰레기값 정리\n",
    "        this_df = this_df.drop(index = this_df[this_df['포지션'].isna()].index)\n",
    "\n",
    "        # 골키퍼는 통계 자료 부족으로 삭제\n",
    "        this_df = this_df[this_df['포지션'] != 'GK']\n",
    "\n",
    "        # 현재 구단의 이름을 추출\n",
    "        team = this_df[this_df['임대 기간']=='-']['구단'].iloc[0]\n",
    "\n",
    "        # - 데이터를 0으로 변환\n",
    "        this_df = this_df.replace('-',0)\n",
    "\n",
    "        # 현재 구단에 속해 있으며 출장 시간이 900분을 넘긴 선수만 남김\n",
    "        this_df = this_df[(this_df['구단']==team) & (this_df['출장시간'].astype('int64')>900)]\n",
    "\n",
    "        # 이어붙이기\n",
    "        position_df = pd.concat([position_df,this_df],axis=0)\n",
    "    \n",
    "# 자료형 변경\n",
    "position_df['승'].dtypes == 'int64'\n",
    "\n",
    "merge_season_datas(Premier_1_dir_path)\n",
    "merge_season_datas(Premier_2_dir_path)   "
   ]
  },
  {
   "cell_type": "code",
   "execution_count": 18,
   "id": "b3b0569f",
   "metadata": {
    "ExecuteTime": {
     "end_time": "2021-12-12T11:33:17.478246Z",
     "start_time": "2021-12-12T11:33:17.459251Z"
    }
   },
   "outputs": [
    {
     "data": {
      "text/html": [
       "<div>\n",
       "<style scoped>\n",
       "    .dataframe tbody tr th:only-of-type {\n",
       "        vertical-align: middle;\n",
       "    }\n",
       "\n",
       "    .dataframe tbody tr th {\n",
       "        vertical-align: top;\n",
       "    }\n",
       "\n",
       "    .dataframe thead th {\n",
       "        text-align: right;\n",
       "    }\n",
       "</style>\n",
       "<table border=\"1\" class=\"dataframe\">\n",
       "  <thead>\n",
       "    <tr style=\"text-align: right;\">\n",
       "      <th></th>\n",
       "      <th>이름</th>\n",
       "      <th>포지션</th>\n",
       "      <th>구단</th>\n",
       "      <th>리그</th>\n",
       "      <th>임대 기간</th>\n",
       "      <th>승</th>\n",
       "      <th>무</th>\n",
       "      <th>패</th>\n",
       "      <th>출장시간</th>\n",
       "      <th>경기당 팀 득점/90</th>\n",
       "      <th>...</th>\n",
       "      <th>경기당 슈팅/90</th>\n",
       "      <th>Int/90</th>\n",
       "      <th>달린 거리/90분</th>\n",
       "      <th>공중 A/90</th>\n",
       "      <th>경기당 헤더 성공</th>\n",
       "      <th>태클 성공률</th>\n",
       "      <th>태클</th>\n",
       "      <th>경기당 패스 시도/90</th>\n",
       "      <th>경기당 패스 성공/90</th>\n",
       "      <th>K Ps/90</th>\n",
       "    </tr>\n",
       "  </thead>\n",
       "  <tbody>\n",
       "    <tr>\n",
       "      <th>0</th>\n",
       "      <td>Teemu Pukki</td>\n",
       "      <td>ST (C)</td>\n",
       "      <td>노리치</td>\n",
       "      <td>잉글랜드 프리미어 리그</td>\n",
       "      <td>0</td>\n",
       "      <td>7</td>\n",
       "      <td>11</td>\n",
       "      <td>16</td>\n",
       "      <td>2015</td>\n",
       "      <td>0.98</td>\n",
       "      <td>...</td>\n",
       "      <td>2.32</td>\n",
       "      <td>0.76</td>\n",
       "      <td>12.3km</td>\n",
       "      <td>7.28</td>\n",
       "      <td>2.23</td>\n",
       "      <td>100%</td>\n",
       "      <td>0.58</td>\n",
       "      <td>30.64</td>\n",
       "      <td>26</td>\n",
       "      <td>0.8</td>\n",
       "    </tr>\n",
       "    <tr>\n",
       "      <th>1</th>\n",
       "      <td>Billy Gilmour</td>\n",
       "      <td>M (C)</td>\n",
       "      <td>노리치</td>\n",
       "      <td>잉글랜드 프리미어 리그</td>\n",
       "      <td>21/7/1 - 22/5/31</td>\n",
       "      <td>8</td>\n",
       "      <td>13</td>\n",
       "      <td>16</td>\n",
       "      <td>2677</td>\n",
       "      <td>1.01</td>\n",
       "      <td>...</td>\n",
       "      <td>0.84</td>\n",
       "      <td>0.87</td>\n",
       "      <td>11.9km</td>\n",
       "      <td>2.49</td>\n",
       "      <td>1.45</td>\n",
       "      <td>77%</td>\n",
       "      <td>1.68</td>\n",
       "      <td>53.15</td>\n",
       "      <td>47.34</td>\n",
       "      <td>1.55</td>\n",
       "    </tr>\n",
       "    <tr>\n",
       "      <th>2</th>\n",
       "      <td>Pierre Lees-Melou</td>\n",
       "      <td>DM, M (C)</td>\n",
       "      <td>노리치</td>\n",
       "      <td>잉글랜드 프리미어 리그</td>\n",
       "      <td>0</td>\n",
       "      <td>8</td>\n",
       "      <td>13</td>\n",
       "      <td>19</td>\n",
       "      <td>3526</td>\n",
       "      <td>0.94</td>\n",
       "      <td>...</td>\n",
       "      <td>0.74</td>\n",
       "      <td>1.35</td>\n",
       "      <td>12.4km</td>\n",
       "      <td>2.73</td>\n",
       "      <td>1.48</td>\n",
       "      <td>90%</td>\n",
       "      <td>1.33</td>\n",
       "      <td>52.53</td>\n",
       "      <td>47.14</td>\n",
       "      <td>0.82</td>\n",
       "    </tr>\n",
       "    <tr>\n",
       "      <th>3</th>\n",
       "      <td>Milot Rashica</td>\n",
       "      <td>M/AM (R), ST (C)</td>\n",
       "      <td>노리치</td>\n",
       "      <td>잉글랜드 프리미어 리그</td>\n",
       "      <td>0</td>\n",
       "      <td>8</td>\n",
       "      <td>9</td>\n",
       "      <td>15</td>\n",
       "      <td>2633</td>\n",
       "      <td>1.06</td>\n",
       "      <td>...</td>\n",
       "      <td>1.03</td>\n",
       "      <td>1.57</td>\n",
       "      <td>13.0km</td>\n",
       "      <td>4.96</td>\n",
       "      <td>3.08</td>\n",
       "      <td>86%</td>\n",
       "      <td>1.5</td>\n",
       "      <td>33.29</td>\n",
       "      <td>28.4</td>\n",
       "      <td>1.57</td>\n",
       "    </tr>\n",
       "    <tr>\n",
       "      <th>4</th>\n",
       "      <td>Christos Tzolis</td>\n",
       "      <td>AM (RL), ST (C)</td>\n",
       "      <td>노리치</td>\n",
       "      <td>잉글랜드 프리미어 리그</td>\n",
       "      <td>0</td>\n",
       "      <td>7</td>\n",
       "      <td>7</td>\n",
       "      <td>13</td>\n",
       "      <td>1187</td>\n",
       "      <td>0.76</td>\n",
       "      <td>...</td>\n",
       "      <td>2.5</td>\n",
       "      <td>0.76</td>\n",
       "      <td>12.1km</td>\n",
       "      <td>9.48</td>\n",
       "      <td>4.78</td>\n",
       "      <td>80%</td>\n",
       "      <td>1.21</td>\n",
       "      <td>32.6</td>\n",
       "      <td>27.52</td>\n",
       "      <td>1.52</td>\n",
       "    </tr>\n",
       "  </tbody>\n",
       "</table>\n",
       "<p>5 rows × 32 columns</p>\n",
       "</div>"
      ],
      "text/plain": [
       "                  이름               포지션   구단            리그             임대 기간  \\\n",
       "0        Teemu Pukki            ST (C)  노리치  잉글랜드 프리미어 리그                 0   \n",
       "1      Billy Gilmour             M (C)  노리치  잉글랜드 프리미어 리그  21/7/1 - 22/5/31   \n",
       "2  Pierre Lees-Melou         DM, M (C)  노리치  잉글랜드 프리미어 리그                 0   \n",
       "3      Milot Rashica  M/AM (R), ST (C)  노리치  잉글랜드 프리미어 리그                 0   \n",
       "4    Christos Tzolis   AM (RL), ST (C)  노리치  잉글랜드 프리미어 리그                 0   \n",
       "\n",
       "   승   무   패  출장시간 경기당 팀 득점/90  ... 경기당 슈팅/90 Int/90 달린 거리/90분 공중 A/90  \\\n",
       "0  7  11  16  2015        0.98  ...      2.32   0.76    12.3km    7.28   \n",
       "1  8  13  16  2677        1.01  ...      0.84   0.87    11.9km    2.49   \n",
       "2  8  13  19  3526        0.94  ...      0.74   1.35    12.4km    2.73   \n",
       "3  8   9  15  2633        1.06  ...      1.03   1.57    13.0km    4.96   \n",
       "4  7   7  13  1187        0.76  ...       2.5   0.76    12.1km    9.48   \n",
       "\n",
       "  경기당 헤더 성공 태클 성공률    태클 경기당 패스 시도/90 경기당 패스 성공/90 K Ps/90  \n",
       "0      2.23   100%  0.58        30.64           26     0.8  \n",
       "1      1.45    77%  1.68        53.15        47.34    1.55  \n",
       "2      1.48    90%  1.33        52.53        47.14    0.82  \n",
       "3      3.08    86%   1.5        33.29         28.4    1.57  \n",
       "4      4.78    80%  1.21         32.6        27.52    1.52  \n",
       "\n",
       "[5 rows x 32 columns]"
      ]
     },
     "execution_count": 18,
     "metadata": {},
     "output_type": "execute_result"
    }
   ],
   "source": [
    "# 인덱스 리셋\n",
    "position_df =position_df.reset_index(drop=True)\n",
    "\n",
    "# 확인\n",
    "position_df.head()"
   ]
  },
  {
   "cell_type": "code",
   "execution_count": 54,
   "id": "d2caa1b6",
   "metadata": {
    "ExecuteTime": {
     "end_time": "2021-11-23T02:08:06.010929Z",
     "start_time": "2021-11-23T02:08:05.998928Z"
    }
   },
   "outputs": [],
   "source": [
    "# 저장\n",
    "position_df.to_csv('./datas/포지션판별모델생성용데이터.csv',sep=\",\",index=False,header=True,encoding='utf-8')"
   ]
  }
 ],
 "metadata": {
  "kernelspec": {
   "display_name": "Python 3 (ipykernel)",
   "language": "python",
   "name": "python3"
  },
  "language_info": {
   "codemirror_mode": {
    "name": "ipython",
    "version": 3
   },
   "file_extension": ".py",
   "mimetype": "text/x-python",
   "name": "python",
   "nbconvert_exporter": "python",
   "pygments_lexer": "ipython3",
   "version": "3.9.7"
  },
  "toc": {
   "base_numbering": 1,
   "nav_menu": {},
   "number_sections": true,
   "sideBar": true,
   "skip_h1_title": false,
   "title_cell": "Table of Contents",
   "title_sidebar": "Contents",
   "toc_cell": false,
   "toc_position": {},
   "toc_section_display": true,
   "toc_window_display": false
  },
  "varInspector": {
   "cols": {
    "lenName": 16,
    "lenType": 16,
    "lenVar": 40
   },
   "kernels_config": {
    "python": {
     "delete_cmd_postfix": "",
     "delete_cmd_prefix": "del ",
     "library": "var_list.py",
     "varRefreshCmd": "print(var_dic_list())"
    },
    "r": {
     "delete_cmd_postfix": ") ",
     "delete_cmd_prefix": "rm(",
     "library": "var_list.r",
     "varRefreshCmd": "cat(var_dic_list()) "
    }
   },
   "types_to_exclude": [
    "module",
    "function",
    "builtin_function_or_method",
    "instance",
    "_Feature"
   ],
   "window_display": false
  }
 },
 "nbformat": 4,
 "nbformat_minor": 5
}
