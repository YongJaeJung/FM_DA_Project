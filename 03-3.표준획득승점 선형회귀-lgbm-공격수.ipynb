{
 "cells": [
  {
   "cell_type": "markdown",
   "id": "e9dd0864",
   "metadata": {},
   "source": [
    "# 필요한 라이브러리 import"
   ]
  },
  {
   "cell_type": "code",
   "execution_count": 1,
   "id": "9da569b5",
   "metadata": {
    "ExecuteTime": {
     "end_time": "2021-12-17T10:49:11.756806Z",
     "start_time": "2021-12-17T10:49:07.600805Z"
    }
   },
   "outputs": [],
   "source": [
    "import pandas as pd\n",
    "import numpy as np\n",
    "import seaborn as sns\n",
    "import matplotlib.pyplot as plt\n",
    "from collections import defaultdict\n",
    "import warnings\n",
    "from sklearn.metrics import mean_absolute_error\n",
    "import pickle\n",
    "from sklearn.decomposition import PCA\n",
    "from sklearn.neural_network import MLPRegressor\n",
    "from sklearn.ensemble import RandomForestRegressor\n",
    "from sklearn.model_selection import train_test_split\n",
    "from sklearn.preprocessing import QuantileTransformer,StandardScaler,PowerTransformer,MinMaxScaler\n",
    "from scipy import stats\n",
    "from statsmodels.stats.outliers_influence import variance_inflation_factor as vif\n",
    "from itertools import combinations\n",
    "from tensorflow.keras.models import Model,load_model\n",
    "from tensorflow.keras.layers import Dense,Input,Dropout\n",
    "from tensorflow.keras.optimizers import Adam,SGD\n",
    "from tensorflow.keras.regularizers import L2\n",
    "from tensorflow.keras.callbacks import ModelCheckpoint\n",
    "from sklearn.model_selection import KFold\n",
    "from scipy.stats import spearmanr\n",
    "import tensorflow as tf\n",
    "from sklearn.metrics import mean_absolute_error\n",
    "warnings.filterwarnings(action='ignore')\n",
    "plt.rc('font',family='Malgun Gothic')\n",
    "plt.rc('font',size=10)\n",
    "%matplotlib inline"
   ]
  },
  {
   "cell_type": "markdown",
   "id": "537742a4",
   "metadata": {},
   "source": [
    "# 데이터로드"
   ]
  },
  {
   "cell_type": "code",
   "execution_count": 2,
   "id": "d6adea72",
   "metadata": {
    "ExecuteTime": {
     "end_time": "2021-12-17T10:49:11.804804Z",
     "start_time": "2021-12-17T10:49:11.757806Z"
    }
   },
   "outputs": [],
   "source": [
    "# 빈 데이터 프레임 생성\n",
    "\n",
    "fm_data_df = pd.DataFrame(columns=['이름','포지션','골','도움','경기당 팀 득점/90',\n",
    "                                 '경기당 팀 실점/90', 'Cr C/A', 'FA', '반칙 수/90', '기회 창출/90',\n",
    "                                 '경기당 유효 슈팅/90', '경기당 슈팅/90', 'Int/90', '달린 거리/90분', \n",
    "                                 '공중 A/90', '태클 성공률','경기당 패스 시도/90', '경기당 패스 성공/90', \n",
    "                                 'K Ps/90', '태클 성공/90', '드리블 성공/90', \n",
    "                                 '헤더 성공/90', 'Cr A/90', '평균획득승점/경기'])\n",
    "\n",
    "# 모든 데이터 프레임 이어붙이기\n",
    "fm_data_df = pd.concat([fm_data_df,pd.read_csv('./datas/NEW_FM_DATA_FOR_ML/2021-2022/2021-2022ML.csv',encoding='utf-8-sig')])\n",
    "fm_data_df = fm_data_df.reset_index(drop=True)\n",
    "fm_data_df = pd.concat([fm_data_df,pd.read_csv('./datas/NEW_FM_DATA_FOR_ML/2022-2023/2022-2023ML.csv',encoding='utf-8-sig')])\n",
    "fm_data_df = fm_data_df.reset_index(drop=True)\n",
    "fm_data_df = pd.concat([fm_data_df,pd.read_csv('./datas/NEW_FM_DATA_FOR_ML/2023-2024/2023-2024ML.csv',encoding='utf-8-sig')])\n",
    "fm_data_df = fm_data_df.reset_index(drop=True)\n",
    "\n",
    "# 데이터 프레임 컬럼명 변경 및 자료형 변경\n",
    "fm_data_df.rename(columns={'Cr C/A':'크로스 성공률','FA':'파울 획득','Int/90':'인터셉트/90','공중 A/90':'공중볼시도/90','K Ps/90':'키패스/90','Cr A/90':'크로스 시도/90'},inplace=True)\n",
    "fm_data_df = fm_data_df.astype({'골':np.int64,'도움':np.int64,'파울 획득':np.int64,'태클 성공률':np.int64})\n",
    "\n",
    "# 공격수만 추출\n",
    "forward_df = fm_data_df[fm_data_df['포지션']=='공격수']\n",
    "forward_df = forward_df.reset_index(drop=True)"
   ]
  },
  {
   "cell_type": "markdown",
   "id": "dfa8373a",
   "metadata": {},
   "source": [
    "# 데이터 EDA"
   ]
  },
  {
   "cell_type": "markdown",
   "id": "d17320ec",
   "metadata": {},
   "source": [
    "## 모델 생성에 사용할 독립변수, 종속변수 선별"
   ]
  },
  {
   "cell_type": "code",
   "execution_count": 3,
   "id": "5bb41e7c",
   "metadata": {
    "ExecuteTime": {
     "end_time": "2021-12-17T10:49:11.819805Z",
     "start_time": "2021-12-17T10:49:11.805804Z"
    }
   },
   "outputs": [],
   "source": [
    "num_col = [forward_df.columns[i] for i,x in enumerate(forward_df.dtypes) if x == 'int64' or x == 'float64']\n",
    "independent_value = set(num_col) - set(['평균획득승점/경기','출장시간','승','무','패','경기당 팀 득점/90','경기당 팀 실점/90'])\n",
    "dependent_value = '평균획득승점/경기'"
   ]
  },
  {
   "cell_type": "markdown",
   "id": "fe28ef6f",
   "metadata": {},
   "source": [
    "## 결측치 확인"
   ]
  },
  {
   "cell_type": "code",
   "execution_count": 4,
   "id": "33ff6c99",
   "metadata": {
    "ExecuteTime": {
     "end_time": "2021-12-17T10:49:11.835804Z",
     "start_time": "2021-12-17T10:49:11.820804Z"
    }
   },
   "outputs": [
    {
     "data": {
      "text/plain": [
       "이름              0\n",
       "포지션             0\n",
       "골               0\n",
       "도움              0\n",
       "경기당 팀 득점/90     0\n",
       "경기당 팀 실점/90     0\n",
       "크로스 성공률         0\n",
       "파울 획득           0\n",
       "반칙 수/90         0\n",
       "기회 창출/90        0\n",
       "경기당 유효 슈팅/90    0\n",
       "경기당 슈팅/90       0\n",
       "인터셉트/90         0\n",
       "달린 거리/90분       0\n",
       "공중볼시도/90        0\n",
       "태클 성공률          0\n",
       "경기당 패스 시도/90    0\n",
       "경기당 패스 성공/90    0\n",
       "키패스/90          0\n",
       "태클 성공/90        0\n",
       "드리블 성공/90       0\n",
       "헤더 성공/90        0\n",
       "크로스 시도/90       0\n",
       "평균획득승점/경기       0\n",
       "시즌              0\n",
       "dtype: int64"
      ]
     },
     "execution_count": 4,
     "metadata": {},
     "output_type": "execute_result"
    }
   ],
   "source": [
    "forward_df.isna().sum()"
   ]
  },
  {
   "cell_type": "markdown",
   "id": "202b02ce",
   "metadata": {},
   "source": [
    "# LGBM Regressor 모델 생성"
   ]
  },
  {
   "cell_type": "code",
   "execution_count": 5,
   "id": "fcf11c60",
   "metadata": {
    "ExecuteTime": {
     "end_time": "2021-12-17T10:49:12.506804Z",
     "start_time": "2021-12-17T10:49:11.836805Z"
    }
   },
   "outputs": [],
   "source": [
    "from lightgbm import LGBMRegressor\n",
    "from sklearn.model_selection import GridSearchCV,train_test_split,StratifiedKFold\n",
    "\n",
    "x_train,x_test,y_train,y_test = train_test_split(fm_data_df.loc[:,independent_value],fm_data_df.loc[:,dependent_value],test_size=0.2,random_state=123)"
   ]
  },
  {
   "cell_type": "code",
   "execution_count": 6,
   "id": "fb00e2e7",
   "metadata": {
    "ExecuteTime": {
     "end_time": "2021-12-17T10:49:12.999804Z",
     "start_time": "2021-12-17T10:49:12.507804Z"
    }
   },
   "outputs": [
    {
     "name": "stdout",
     "output_type": "stream",
     "text": [
      "-0.27184746303305507\n",
      "LGBMRegressor(extra_trees=True, learning_rate=0.2, n_estimators=153,\n",
      "              num_leaves=10, objective='regression', random_state=123,\n",
      "              reg_alpha=1.2, reg_lambda=1.15, subsample=0.7)\n",
      "{'extra_trees': True, 'learning_rate': 0.2, 'max_depth': -1, 'n_estimators': 153, 'num_leaves': 10, 'objective': 'regression', 'random_state': 123, 'reg_alpha': 1.2, 'reg_lambda': 1.15, 'subsample': 0.7}\n"
     ]
    }
   ],
   "source": [
    "forward_lgbm = LGBMRegressor()\n",
    "\n",
    "params = {\n",
    "    'num_leaves': [10],\n",
    "    'learning_rate': [0.2],\n",
    "    'max_depth': [-1],\n",
    "    'n_estimators': [153],\n",
    "    'objective' : [\"regression\"],\n",
    "    'random_state' :[123],\n",
    "    'reg_alpha' : [1.2],\n",
    "    'reg_lambda' : [1.15,],\n",
    "    'subsample': [0.7],\n",
    "    'extra_trees' : [True]\n",
    "}\n",
    "\n",
    "\n",
    "grid = GridSearchCV(forward_lgbm, params, scoring='neg_mean_absolute_error', cv=10,refit=True)\n",
    "\n",
    "grid.fit(forward_df.loc[:,independent_value],\n",
    "         forward_df.loc[:,dependent_value])\n",
    "\n",
    "print(grid.best_score_)\n",
    "print(grid.best_estimator_)\n",
    "print(grid.best_params_)"
   ]
  },
  {
   "cell_type": "code",
   "execution_count": 7,
   "id": "e71b0c1f",
   "metadata": {
    "ExecuteTime": {
     "end_time": "2021-12-17T10:49:13.015803Z",
     "start_time": "2021-12-17T10:49:13.000805Z"
    }
   },
   "outputs": [],
   "source": [
    "forward_lgbm = LGBMRegressor(\n",
    "                num_leaves=10,\n",
    "                learning_rate=0.2,\n",
    "                max_depth=-1,\n",
    "                n_estimators=153,\n",
    "                objective='regression',\n",
    "                random_state=123,\n",
    "                reg_alpha=1.2,\n",
    "                reg_lambda=1.15,\n",
    "                subsample=0.7,\n",
    "                extra_trees=True\n",
    "                )"
   ]
  },
  {
   "cell_type": "code",
   "execution_count": 8,
   "id": "2fbf0715",
   "metadata": {
    "ExecuteTime": {
     "end_time": "2021-12-17T10:49:13.110803Z",
     "start_time": "2021-12-17T10:49:13.016805Z"
    }
   },
   "outputs": [
    {
     "data": {
      "text/plain": [
       "LGBMRegressor(extra_trees=True, learning_rate=0.2, n_estimators=153,\n",
       "              num_leaves=10, objective='regression', random_state=123,\n",
       "              reg_alpha=1.2, reg_lambda=1.15, subsample=0.7)"
      ]
     },
     "execution_count": 8,
     "metadata": {},
     "output_type": "execute_result"
    }
   ],
   "source": [
    "forward_lgbm.fit(x_train,y_train)"
   ]
  },
  {
   "cell_type": "code",
   "execution_count": 9,
   "id": "19143991",
   "metadata": {
    "ExecuteTime": {
     "end_time": "2021-12-17T10:49:13.126805Z",
     "start_time": "2021-12-17T10:49:13.112806Z"
    }
   },
   "outputs": [
    {
     "data": {
      "text/plain": [
       "0.30302506533503265"
      ]
     },
     "execution_count": 9,
     "metadata": {},
     "output_type": "execute_result"
    }
   ],
   "source": [
    "y_pred = forward_lgbm.predict(x_test)\n",
    "mean_absolute_error(y_test,y_pred)"
   ]
  },
  {
   "cell_type": "markdown",
   "id": "508a2950",
   "metadata": {},
   "source": [
    "# 모델검정"
   ]
  },
  {
   "cell_type": "code",
   "execution_count": 10,
   "id": "bbe5f625",
   "metadata": {
    "ExecuteTime": {
     "end_time": "2021-12-17T10:49:13.142803Z",
     "start_time": "2021-12-17T10:49:13.128806Z"
    }
   },
   "outputs": [],
   "source": [
    "forward_df['predict'] = grid.predict(forward_df.loc[:,independent_value])"
   ]
  },
  {
   "cell_type": "code",
   "execution_count": 11,
   "id": "0a698e34",
   "metadata": {
    "ExecuteTime": {
     "end_time": "2021-12-17T10:49:13.157803Z",
     "start_time": "2021-12-17T10:49:13.143805Z"
    }
   },
   "outputs": [],
   "source": [
    "residual = forward_df['평균획득승점/경기'] - forward_df['predict']"
   ]
  },
  {
   "cell_type": "markdown",
   "id": "48667ffd",
   "metadata": {},
   "source": [
    "## 선형성 검정"
   ]
  },
  {
   "cell_type": "code",
   "execution_count": 12,
   "id": "4ef0d669",
   "metadata": {
    "ExecuteTime": {
     "end_time": "2021-12-17T10:49:13.502805Z",
     "start_time": "2021-12-17T10:49:13.158805Z"
    }
   },
   "outputs": [
    {
     "data": {
      "text/plain": [
       "[<matplotlib.lines.Line2D at 0x153f99b6a90>]"
      ]
     },
     "execution_count": 12,
     "metadata": {},
     "output_type": "execute_result"
    },
    {
     "data": {
      "image/png": "[encoded data removed]",
      "text/plain": [
       "<Figure size 432x288 with 1 Axes>"
      ]
     },
     "metadata": {
      "needs_background": "light"
     },
     "output_type": "display_data"
    }
   ],
   "source": [
    "sns.regplot(forward_df['predict'], residual, lowess=True, line_kws={'color': 'red'})\n",
    "plt.plot([forward_df['predict'].values.min(), forward_df['predict'].values.max()], [0, 0], '--', color='grey')"
   ]
  },
  {
   "cell_type": "markdown",
   "id": "800bc276",
   "metadata": {},
   "source": [
    "## 잔차의 정규성 검정"
   ]
  },
  {
   "cell_type": "code",
   "execution_count": 13,
   "id": "2078ab39",
   "metadata": {
    "ExecuteTime": {
     "end_time": "2021-12-17T10:49:13.518804Z",
     "start_time": "2021-12-17T10:49:13.503804Z"
    }
   },
   "outputs": [
    {
     "data": {
      "text/plain": [
       "ShapiroResult(statistic=0.9950392246246338, pvalue=0.002935003489255905)"
      ]
     },
     "execution_count": 13,
     "metadata": {},
     "output_type": "execute_result"
    }
   ],
   "source": [
    "# 정규성 불만족\n",
    "stats.shapiro(residual)"
   ]
  },
  {
   "cell_type": "code",
   "execution_count": 14,
   "id": "e2c68c92",
   "metadata": {
    "ExecuteTime": {
     "end_time": "2021-12-17T10:49:13.629804Z",
     "start_time": "2021-12-17T10:49:13.519803Z"
    }
   },
   "outputs": [
    {
     "data": {
      "text/plain": [
       "[<matplotlib.lines.Line2D at 0x153fce53df0>]"
      ]
     },
     "execution_count": 14,
     "metadata": {},
     "output_type": "execute_result"
    },
    {
     "data": {
      "image/png": "[encoded data removed]",
      "text/plain": [
       "<Figure size 432x288 with 1 Axes>"
      ]
     },
     "metadata": {
      "needs_background": "light"
     },
     "output_type": "display_data"
    }
   ],
   "source": [
    "sr = stats.zscore(residual)\n",
    "(x, y), _ = stats.probplot(sr)\n",
    "sns.scatterplot(x, y)\n",
    "plt.plot([-3, 3], [-3, 3], '--', color='grey')"
   ]
  },
  {
   "cell_type": "markdown",
   "id": "50ed409a",
   "metadata": {},
   "source": [
    "## 잔차의 등분산성 검정"
   ]
  },
  {
   "cell_type": "code",
   "execution_count": 15,
   "id": "c5a1508c",
   "metadata": {
    "ExecuteTime": {
     "end_time": "2021-12-17T10:49:13.959804Z",
     "start_time": "2021-12-17T10:49:13.631805Z"
    }
   },
   "outputs": [
    {
     "data": {
      "text/plain": [
       "<AxesSubplot:xlabel='predict'>"
      ]
     },
     "execution_count": 15,
     "metadata": {},
     "output_type": "execute_result"
    },
    {
     "data": {
      "image/png": "[encoded data removed]",
      "text/plain": [
       "<Figure size 432x288 with 1 Axes>"
      ]
     },
     "metadata": {
      "needs_background": "light"
     },
     "output_type": "display_data"
    }
   ],
   "source": [
    "sns.regplot(forward_df['predict'], np.sqrt(np.abs(sr)), lowess=True, line_kws={'color': 'red'})"
   ]
  },
  {
   "cell_type": "code",
   "execution_count": 16,
   "id": "d6d96e06",
   "metadata": {
    "ExecuteTime": {
     "end_time": "2021-12-17T10:49:13.974804Z",
     "start_time": "2021-12-17T10:49:13.960804Z"
    }
   },
   "outputs": [
    {
     "data": {
      "text/plain": [
       "LeveneResult(statistic=88.48897120539485, pvalue=1.391745978279573e-20)"
      ]
     },
     "execution_count": 16,
     "metadata": {},
     "output_type": "execute_result"
    }
   ],
   "source": [
    "# 등분산성 불만족\n",
    "stats.levene(forward_df['평균획득승점/경기'],forward_df['predict'])"
   ]
  },
  {
   "cell_type": "code",
   "execution_count": 21,
   "id": "cc3bf226",
   "metadata": {
    "ExecuteTime": {
     "end_time": "2021-12-17T11:14:10.840306Z",
     "start_time": "2021-12-17T11:14:10.821307Z"
    }
   },
   "outputs": [
    {
     "data": {
      "text/plain": [
       "['./models/forward_lgbm.pkl']"
      ]
     },
     "execution_count": 21,
     "metadata": {},
     "output_type": "execute_result"
    }
   ],
   "source": [
    "import joblib\n",
    "\n",
    "joblib.dump(forward_lgbm, './models/forward_lgbm.pkl')"
   ]
  }
 ],
 "metadata": {
  "kernelspec": {
   "display_name": "Python 3 (ipykernel)",
   "language": "python",
   "name": "python3"
  },
  "language_info": {
   "codemirror_mode": {
    "name": "ipython",
    "version": 3
   },
   "file_extension": ".py",
   "mimetype": "text/x-python",
   "name": "python",
   "nbconvert_exporter": "python",
   "pygments_lexer": "ipython3",
   "version": "3.9.7"
  },
  "toc": {
   "base_numbering": 1,
   "nav_menu": {},
   "number_sections": true,
   "sideBar": true,
   "skip_h1_title": false,
   "title_cell": "Table of Contents",
   "title_sidebar": "Contents",
   "toc_cell": false,
   "toc_position": {},
   "toc_section_display": true,
   "toc_window_display": false
  },
  "varInspector": {
   "cols": {
    "lenName": 16,
    "lenType": 16,
    "lenVar": 40
   },
   "kernels_config": {
    "python": {
     "delete_cmd_postfix": "",
     "delete_cmd_prefix": "del ",
     "library": "var_list.py",
     "varRefreshCmd": "print(var_dic_list())"
    },
    "r": {
     "delete_cmd_postfix": ") ",
     "delete_cmd_prefix": "rm(",
     "library": "var_list.r",
     "varRefreshCmd": "cat(var_dic_list()) "
    }
   },
   "position": {
    "height": "144.83px",
    "left": "1373.42px",
    "right": "20px",
    "top": "128.983px",
    "width": "350px"
   },
   "types_to_exclude": [
    "module",
    "function",
    "builtin_function_or_method",
    "instance",
    "_Feature"
   ],
   "window_display": false
  }
 },
 "nbformat": 4,
 "nbformat_minor": 5
}
