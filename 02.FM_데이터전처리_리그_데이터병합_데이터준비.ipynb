{
 "cells": [
  {
   "cell_type": "markdown",
   "id": "contemporary-summit",
   "metadata": {},
   "source": [
    "# 필요한 라이브러리 import"
   ]
  },
  {
   "cell_type": "code",
   "execution_count": 10,
   "id": "exempt-pasta",
   "metadata": {
    "ExecuteTime": {
     "end_time": "2021-12-31T12:30:35.986983Z",
     "start_time": "2021-12-31T12:30:35.980983Z"
    }
   },
   "outputs": [],
   "source": [
    "import pandas as pd\n",
    "import os\n",
    "import re\n",
    "import csv\n",
    "import joblib\n",
    "import warnings\n",
    "import numpy as np"
   ]
  },
  {
   "cell_type": "markdown",
   "id": "cathedral-packing",
   "metadata": {},
   "source": [
    "# 사전작업"
   ]
  },
  {
   "cell_type": "code",
   "execution_count": 11,
   "id": "drawn-laptop",
   "metadata": {
    "ExecuteTime": {
     "end_time": "2021-12-31T12:30:36.182476Z",
     "start_time": "2021-12-31T12:30:35.987982Z"
    }
   },
   "outputs": [],
   "source": [
    "warnings.filterwarnings(action='ignore')\n",
    "\n",
    "# 포지션 판정 모델 위치\n",
    "model_path = './models/position_model.pkl'\n",
    "\n",
    "# 초기 데이터 위치(포지션 판정)\n",
    "data_path = './datas/NEW_FM_DATA'\n",
    "\n",
    "# 변환된 데이터 위치\n",
    "target_path = './datas/NEW_FM_DATA_MERGED'\n",
    "\n",
    "# 선형회귀를 위한 데이터셋을 저장할 위치\n",
    "ml_data_path = './datas/NEW_FM_DATA_FOR_ML'\n",
    "\n",
    "# 포지션 판정 모델 불러오기\n",
    "position_predict_model=joblib.load(model_path)"
   ]
  },
  {
   "cell_type": "markdown",
   "id": "satisfied-belize",
   "metadata": {},
   "source": [
    "# 데이터 전처리"
   ]
  },
  {
   "cell_type": "markdown",
   "id": "qualified-virgin",
   "metadata": {},
   "source": [
    "## 한 시즌의 모든 팀의 데이터를 병합하는 함수"
   ]
  },
  {
   "cell_type": "code",
   "execution_count": 12,
   "id": "handed-hearts",
   "metadata": {
    "ExecuteTime": {
     "end_time": "2021-12-31T12:30:36.197479Z",
     "start_time": "2021-12-31T12:30:36.182476Z"
    }
   },
   "outputs": [],
   "source": [
    "def data_merge(path,season):\n",
    "    \n",
    "    # 최종 데이터 프레임 컬럼\n",
    "    var_list = ['이름', '포지션', '구단', '리그', '임대 기간', '승', '무', '패', '출장시간',\n",
    "       '경기당 팀 득점/90', '경기당 팀 실점/90', '골', '도움', 'Cr C/A', '헤더 시도', 'Cr A',\n",
    "       'FA', 'Fls', '경기 당 드리블', '드리블', '기회 창출/90', '경기당 유효 슈팅/90', '경기당 슈팅/90',\n",
    "       'Int/90', '달린 거리/90분', '공중 A/90', '경기당 헤더 성공', '태클 성공률', '태클',\n",
    "       '경기당 패스 시도/90', '경기당 패스 성공/90', 'K Ps/90','시즌']\n",
    "    \n",
    "    # 모든 변수를 가진 빈 데이터 프레임\n",
    "    team_df_whole_league = pd.DataFrame(columns=var_list)\n",
    "\n",
    "    # 특정 경로의 모든 파일 리스트 불러오기(특정리그의 모든 팀들이 저장되어 있음)\n",
    "    file_list = os.listdir(path)\n",
    "    \n",
    "    # 모든 파일을 돌며 -> 각 팀의 통계 자료를 team_df_whole_league 에 합침\n",
    "    for file in file_list:\n",
    "\n",
    "        #불러오기\n",
    "        team_df = pd.read_csv(path+'/'+file,encoding='utf-8')\n",
    "        \n",
    "        # 결측치 제거 제거\n",
    "        team_df = team_df.dropna()\n",
    "    \n",
    "        # 골키퍼는 통계 자료 부족으로 삭제\n",
    "        team_df = team_df[team_df['포지션'] != 'GK']\n",
    "\n",
    "        # 현재 구단에 소속되었는지 여부를 판단하기 위해 현재 구단의 이름을 추출\n",
    "        team = team_df[team_df['임대 기간']=='-']['구단'].iloc[0]\n",
    "\n",
    "        # '-'을 0으로 교체\n",
    "        team_df = team_df.replace('-',0)\n",
    "\n",
    "        # 현재 구단에 속해 있으며 출장 시간이 900분을 넘긴 선수만 남김\n",
    "        team_df = team_df[(team_df['구단']==team) & (team_df['출장시간'].astype('int64')>900)]\n",
    "\n",
    "        # 시즌 열을 추가\n",
    "        team_df['시즌'] = season\n",
    "\n",
    "        # team_df_whole_league 에 연결\n",
    "        team_df_whole_league=pd.concat([team_df_whole_league,team_df])\n",
    "        \n",
    "    # team_df_whole_league의 인덱스를 재설정\n",
    "    team_df_whole_league = team_df_whole_league.reset_index(drop=True)\n",
    "    \n",
    "    # nan은 0으로 대체\n",
    "    team_df_whole_league = team_df_whole_league.fillna(0)\n",
    "    \n",
    "    return team_df_whole_league"
   ]
  },
  {
   "cell_type": "markdown",
   "id": "absent-moldova",
   "metadata": {},
   "source": [
    "## 선수 포지션을 추정하는 함수"
   ]
  },
  {
   "cell_type": "code",
   "execution_count": 13,
   "id": "corporate-advocate",
   "metadata": {
    "ExecuteTime": {
     "end_time": "2021-12-31T12:30:36.213142Z",
     "start_time": "2021-12-31T12:30:36.198478Z"
    }
   },
   "outputs": [],
   "source": [
    "def position_predictor(league_df):\n",
    "    \n",
    "    origin_df = league_df.copy()\n",
    "    \n",
    "    # 포지션 추정을 위한 컬럼\n",
    "    columns_for_ml = ['경기 당 드리블', '기회 창출/90', '경기당 유효 슈팅/90',\n",
    "       '경기당 슈팅/90', 'Int/90', '공중 A/90', '경기당 헤더 성공', '태클', '경기당 패스 시도/90',\n",
    "       '경기당 패스 성공/90', 'K Ps/90']\n",
    "    \n",
    "    # 포지션 추정을 위한 df\n",
    "    df_for_position_ml = league_df[columns_for_ml]\n",
    "    \n",
    "    # 판정 결과 저장(포지션 열)\n",
    "    origin_df['포지션'] = position_predict_model.predict(df_for_position_ml)\n",
    "    \n",
    "    origin_df['포지션'] = origin_df['포지션'].map(position_label_reverse)\n",
    "    \n",
    "    return origin_df"
   ]
  },
  {
   "cell_type": "markdown",
   "id": "9a154b49",
   "metadata": {},
   "source": [
    "## 포지션 숫자 -> 진짜 포지션"
   ]
  },
  {
   "cell_type": "code",
   "execution_count": 14,
   "id": "b5eeabcb",
   "metadata": {
    "ExecuteTime": {
     "end_time": "2021-12-31T12:30:36.228141Z",
     "start_time": "2021-12-31T12:30:36.214140Z"
    }
   },
   "outputs": [],
   "source": [
    "def position_label_reverse(x):\n",
    "    if x == 0:\n",
    "        return '미드필더'\n",
    "    \n",
    "    elif x == 1:\n",
    "        return '수비수'\n",
    "    \n",
    "    else:\n",
    "        return '공격수'\n"
   ]
  },
  {
   "cell_type": "markdown",
   "id": "english-failure",
   "metadata": {
    "ExecuteTime": {
     "end_time": "2021-09-29T07:28:15.770208Z",
     "start_time": "2021-09-29T07:28:15.764207Z"
    }
   },
   "source": [
    "## 포지션 추정된 데이터 전처리 및 변환하는 함수"
   ]
  },
  {
   "cell_type": "code",
   "execution_count": 15,
   "id": "stuffed-pioneer",
   "metadata": {
    "ExecuteTime": {
     "end_time": "2021-12-31T12:30:36.243801Z",
     "start_time": "2021-12-31T12:30:36.229142Z"
    }
   },
   "outputs": [],
   "source": [
    "def data_cleaner(df):\n",
    "    \n",
    "    new_df = df.copy()\n",
    "    \n",
    "    # 단위 제거\n",
    "    new_df['Cr C/A'] = new_df['Cr C/A'].str.strip('%')\n",
    "    new_df['달린 거리/90분'] = new_df['달린 거리/90분'].str.strip('km')\n",
    "    new_df['태클 성공률'] = new_df['태클 성공률'].str.strip('%')\n",
    "    \n",
    "    \n",
    "    # 판정 후 추가 데이터 전처리 진행,형변환\n",
    "    new_df = new_df.astype({'승':np.int,'무':np.int,'패':np.int,\n",
    "                        '출장시간':np.int,\n",
    "                        '경기당 팀 득점/90':np.float,'경기당 팀 실점/90':np.float,\n",
    "                        '골':np.int,'도움':np.int,\n",
    "                        'Cr C/A':np.float,'Cr A':np.float,\n",
    "                        'FA':np.int,'Fls':np.int,\n",
    "                        '경기 당 드리블':np.float,'드리블':np.int,\n",
    "                        '기회 창출/90':np.float, \n",
    "                        '경기당 유효 슈팅/90':np.float,'경기당 슈팅/90':np.float,\n",
    "                        'Int/90':np.float,'달린 거리/90분':np.float,\n",
    "                        '공중 A/90':np.float,'경기당 헤더 성공':np.float,\n",
    "                        '태클 성공률':np.int,'태클':np.float,\n",
    "                        '경기당 패스 시도/90':np.float,'경기당 패스 성공/90':np.float,\n",
    "                        'K Ps/90':np.float,\n",
    "                        '헤더 시도':np.int})\n",
    "    \n",
    "    # 90분당 횟수로 변환하는 이유는? 선수마다 출전시간이 다 다르기 때문에 많이 출전한 선수가 상대적으로 잘한다고 오류를 낼 수 있다.\n",
    "    # 또한 경기당 피쳐의 횟수도 90분 단위로 변환시켜 주어야 한다. 왜냐하면 경기출전 = 90분 출전이 아니기 때문이다.\n",
    "    \n",
    "    # 경기당 태클 횟수를 90분당 태클 횟수로 변환\n",
    "    new_df['태클 성공/90'] = np.round((new_df['승']+new_df['무']+new_df['패'])*new_df['태클']/new_df['출장시간']*90,2)\n",
    "    new_df = new_df.astype({'태클 성공/90':np.float16})\n",
    "    \n",
    "    # 시즌 드리블 성공횟수를 90분당 드리블 성공으로 변환\n",
    "    new_df['드리블 성공/90'] = np.round(new_df['드리블']/new_df['출장시간']*90,2)\n",
    "    new_df = new_df.astype({'드리블 성공/90':np.float16})\n",
    "    \n",
    "    # 경기당 헤더 성공을 90분당 헤더 성공 횟수로 변환\n",
    "    new_df['헤더 성공/90'] = np.round((new_df['승']+new_df['무']+new_df['패'])*new_df['경기당 헤더 성공']/new_df['출장시간']*90,2)\n",
    "    new_df = new_df.astype({'헤더 성공/90':np.float16})\n",
    "    \n",
    "    # 시즌 크로스 시도를 90분당 크로스 시도로 변환\n",
    "    new_df['Cr A/90'] = np.round(new_df['Cr A']/new_df['출장시간']*90,2)\n",
    "    new_df = new_df.astype({'Cr A/90':np.float16})\n",
    "    \n",
    "    # 시즌 반칙 횟수를 90분당 반칙횟수로 변환\n",
    "    new_df['반칙 수/90'] = np.round(new_df['Fls']/new_df['출장시간']*90,2)\n",
    "    new_df = new_df.astype({'반칙 수/90':np.float16})\n",
    "    \n",
    "    # 변환 전 컬럼을 삭제\n",
    "    new_df = new_df.drop(['태클','경기당 헤더 성공','Cr A','드리블','경기 당 드리블','헤더 시도','Fls'],axis=1)\n",
    "\n",
    "    # 승점 또한 900분으로 표준화\n",
    "    new_df['평균획득승점/경기'] = np.round((new_df['승']*3 + new_df['무'])/(new_df['승']+ new_df['무']+new_df['패']),2)\n",
    "    \n",
    "    return new_df"
   ]
  },
  {
   "cell_type": "markdown",
   "id": "compliant-portugal",
   "metadata": {},
   "source": [
    "# 시즌 별, 리그 단위로 데이터 병합 및 저장"
   ]
  },
  {
   "cell_type": "code",
   "execution_count": 16,
   "id": "herbal-alexandria",
   "metadata": {
    "ExecuteTime": {
     "end_time": "2021-12-31T12:30:36.259393Z",
     "start_time": "2021-12-31T12:30:36.244802Z"
    }
   },
   "outputs": [],
   "source": [
    "# 시즌을 추출할 정규표현식(숫자)\n",
    "season_re = re.compile('\\d+')\n",
    "\n",
    "# 리그를 추출할 정규표현식\n",
    "league_re = re.compile('[a-zA-Z]+')\n",
    "\n",
    "# NEW_FM_DATA 내의 목록 가져오기\n",
    "folder_list = os.listdir(data_path)"
   ]
  },
  {
   "cell_type": "code",
   "execution_count": 17,
   "id": "other-mineral",
   "metadata": {
    "ExecuteTime": {
     "end_time": "2021-12-31T12:30:42.549650Z",
     "start_time": "2021-12-31T12:30:36.260393Z"
    }
   },
   "outputs": [
    {
     "name": "stdout",
     "output_type": "stream",
     "text": [
      "2021-2022 완료.\n",
      "2022-2023 완료.\n",
      "2023-2024 완료.\n"
     ]
    }
   ],
   "source": [
    "# 매 폴더를 돌며\n",
    "for folder in folder_list:\n",
    "\n",
    "    # 상위경로와 하위 경로를 병합할 변수\n",
    "    sub_path = ''\n",
    "\n",
    "    # 폴더명으로 새 경로를 생성\n",
    "    sub_path = os.path.join(data_path,folder)\n",
    "    sub_folder_list = os.listdir(sub_path)\n",
    "    \n",
    "    for sub_folder in sub_folder_list:\n",
    "        \n",
    "        sub_sub_path = os.path.join(data_path,folder,sub_folder)\n",
    "\n",
    "        # 시즌을 추출\n",
    "        season = season_re.findall(folder)\n",
    "\n",
    "        # 리그를 추출\n",
    "        league = league_re.findall(sub_folder)\n",
    "\n",
    "        # 2020-2021의 형태로 시즌을 만들기\n",
    "        season = season[0] + '-' + season[1]\n",
    "\n",
    "        # 한 시즌의 모든 팀들의 데이터를 병합하고 전처리\n",
    "        df_merged = data_merge(sub_sub_path, season)\n",
    "    \n",
    "        # 포지션 모델을 이용해서 선수들의 포지션을 판정\n",
    "        df_with_position = position_predictor(df_merged)\n",
    "        \n",
    "        # 포지션 판정된 데이터 전처리 및 변환\n",
    "        df_clean = data_cleaner(df_with_position)\n",
    "        \n",
    "        # 폴더명과 2020-2021-Ligue1.csv의 형식으로 파일을 저장\n",
    "        os.makedirs(target_path+'/'+season,exist_ok=True)\n",
    "        csv_path = target_path+'/'+season+'/'+ season +'-'+ league[0]+ '.csv'\n",
    "        csv_file = open(csv_path,'w',newline='',encoding='utf-8-sig')\n",
    "        csvwriter = csv.writer(csv_file)\n",
    "        csvwriter.writerow(['이름' , '시즌','포지션', '구단', '리그' , '골', '도움',\n",
    "                            '임대 기간', '승', '무', '패', '출장시간', '경기당 팀 득점/90',\n",
    "                            '경기당 팀 실점/90', 'Cr C/A','FA', '반칙 수/90', '기회 창출/90',\n",
    "                            '경기당 유효 슈팅/90', '경기당 슈팅/90', 'Int/90', '달린 거리/90분', \n",
    "                            '공중 A/90', '태클 성공률','경기당 패스 시도/90', '경기당 패스 성공/90', \n",
    "                            'K Ps/90','태클 성공/90', '드리블 성공/90', \n",
    "                            '헤더 성공/90', 'Cr A/90', '평균획득승점/경기'])\n",
    "        \n",
    "        for i in range(len(df_clean)):\n",
    "            csvwriter.writerow(df_clean.loc[i,['이름','시즌','포지션', '구단', '리그' , '골', '도움',\n",
    "                            '임대 기간', '승', '무', '패', '출장시간', '경기당 팀 득점/90',\n",
    "                            '경기당 팀 실점/90', 'Cr C/A', 'FA', '반칙 수/90', '기회 창출/90',\n",
    "                            '경기당 유효 슈팅/90', '경기당 슈팅/90', 'Int/90', '달린 거리/90분', \n",
    "                            '공중 A/90', '태클 성공률','경기당 패스 시도/90', '경기당 패스 성공/90', \n",
    "                            'K Ps/90','태클 성공/90', '드리블 성공/90', \n",
    "                            '헤더 성공/90', 'Cr A/90', '평균획득승점/경기']].tolist())\n",
    "        csv_file.close()\n",
    "        \n",
    "    print(f'{season} 완료.')"
   ]
  },
  {
   "cell_type": "markdown",
   "id": "3387e314",
   "metadata": {},
   "source": [
    "# 시즌별 데이터 병합"
   ]
  },
  {
   "cell_type": "code",
   "execution_count": 18,
   "id": "626d8a63",
   "metadata": {
    "ExecuteTime": {
     "end_time": "2021-12-31T12:30:44.113952Z",
     "start_time": "2021-12-31T12:30:42.550649Z"
    }
   },
   "outputs": [],
   "source": [
    "# 시즌 별 폴더리스트\n",
    "season_dir = os.listdir(target_path)\n",
    "\n",
    "# 컬럼명 정의\n",
    "\n",
    "col_names = ['이름','승','무','패','시즌','리그','포지션','구단','골', '도움', '경기당 팀 득점/90',\n",
    "                        '경기당 팀 실점/90', 'Cr C/A', 'FA', '반칙 수/90', '기회 창출/90',\n",
    "                        '경기당 유효 슈팅/90', '경기당 슈팅/90', 'Int/90', '달린 거리/90분',\n",
    "                        '공중 A/90', '태클 성공률','경기당 패스 시도/90', '경기당 패스 성공/90', \n",
    "                        'K Ps/90', '태클 성공/90', '드리블 성공/90', \n",
    "                        '헤더 성공/90', 'Cr A/90', '평균획득승점/경기']\n",
    "\n",
    "\n",
    "# 모든 시즌 폴더를 순회하며\n",
    "for this_dir in season_dir:\n",
    "    \n",
    "    # 특정 시즌 폴더\n",
    "    sub_path = os.path.join(target_path,this_dir)\n",
    "    \n",
    "    # 특정 시즌 안의 리그파일의 경로들 \n",
    "    sub_path_list = os.listdir(os.path.join(target_path,this_dir))\n",
    "    \n",
    "    # 빈 데이터 프레임을 생성\n",
    "    df_for_ML = pd.DataFrame(columns = col_names)\n",
    "    \n",
    "    # 리그파일마다 순화하며\n",
    "    for file in sub_path_list:\n",
    "        \n",
    "        # 머신러닝에 적용할 데이터프레임에 연결\n",
    "        data_path = os.path.join(sub_path,file)\n",
    "        this_df = pd.read_csv(data_path,encoding='utf-8-sig')\n",
    "        df_for_ML = pd.concat([df_for_ML,this_df])\n",
    "    \n",
    "    # 인덱스 초기화\n",
    "    df_for_ML = df_for_ML.reset_index(drop=True)\n",
    "    \n",
    "    # 시즌 추출\n",
    "    season = season_re.findall(file)\n",
    "    season = season[0] + '-' + season[1]\n",
    "    \n",
    "    # 병합된 시즌별 데이터를 저장\n",
    "    os.makedirs(ml_data_path+'/'+season,exist_ok=True)\n",
    "    csv_path = ml_data_path+'/'+season+'/'+ season +'ML'+ '.csv'\n",
    "    csv_file = open(csv_path,'w',newline='',encoding='utf-8-sig')\n",
    "    csvwriter = csv.writer(csv_file)\n",
    "    \n",
    "    csvwriter.writerow(col_names)\n",
    "        \n",
    "    for i in range(len(df_for_ML)):\n",
    "        csvwriter.writerow(df_for_ML.loc[i,col_names].values)"
   ]
  }
 ],
 "metadata": {
  "kernelspec": {
   "display_name": "Python 3 (ipykernel)",
   "language": "python",
   "name": "python3"
  },
  "language_info": {
   "codemirror_mode": {
    "name": "ipython",
    "version": 3
   },
   "file_extension": ".py",
   "mimetype": "text/x-python",
   "name": "python",
   "nbconvert_exporter": "python",
   "pygments_lexer": "ipython3",
   "version": "3.7.11"
  },
  "toc": {
   "base_numbering": 1,
   "nav_menu": {},
   "number_sections": true,
   "sideBar": true,
   "skip_h1_title": false,
   "title_cell": "Table of Contents",
   "title_sidebar": "Contents",
   "toc_cell": false,
   "toc_position": {},
   "toc_section_display": true,
   "toc_window_display": false
  },
  "varInspector": {
   "cols": {
    "lenName": 16,
    "lenType": 16,
    "lenVar": 40
   },
   "kernels_config": {
    "python": {
     "delete_cmd_postfix": "",
     "delete_cmd_prefix": "del ",
     "library": "var_list.py",
     "varRefreshCmd": "print(var_dic_list())"
    },
    "r": {
     "delete_cmd_postfix": ") ",
     "delete_cmd_prefix": "rm(",
     "library": "var_list.r",
     "varRefreshCmd": "cat(var_dic_list()) "
    }
   },
   "types_to_exclude": [
    "module",
    "function",
    "builtin_function_or_method",
    "instance",
    "_Feature"
   ],
   "window_display": false
  }
 },
 "nbformat": 4,
 "nbformat_minor": 5
}
