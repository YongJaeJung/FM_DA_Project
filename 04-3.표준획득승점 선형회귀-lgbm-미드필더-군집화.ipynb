{
 "cells": [
  {
   "cell_type": "markdown",
   "id": "e9dd0864",
   "metadata": {},
   "source": [
    "# 필요한 라이브러리 import"
   ]
  },
  {
   "cell_type": "code",
   "execution_count": 1,
   "id": "9da569b5",
   "metadata": {
    "ExecuteTime": {
     "end_time": "2021-12-21T13:00:35.324854Z",
     "start_time": "2021-12-21T13:00:23.180954Z"
    }
   },
   "outputs": [],
   "source": [
    "import pandas as pd\n",
    "import numpy as np\n",
    "import seaborn as sns\n",
    "import matplotlib.pyplot as plt\n",
    "from collections import defaultdict\n",
    "import warnings\n",
    "from sklearn.metrics import mean_absolute_error\n",
    "import pickle\n",
    "from sklearn.decomposition import PCA\n",
    "from sklearn.neural_network import MLPRegressor\n",
    "from sklearn.ensemble import RandomForestRegressor\n",
    "from sklearn.model_selection import train_test_split\n",
    "from sklearn.preprocessing import QuantileTransformer,StandardScaler,PowerTransformer,MinMaxScaler\n",
    "from scipy import stats\n",
    "from statsmodels.stats.outliers_influence import variance_inflation_factor as vif\n",
    "from itertools import combinations\n",
    "from tensorflow.keras.models import Model,load_model\n",
    "from tensorflow.keras.layers import Dense,Input,Dropout\n",
    "from tensorflow.keras.optimizers import Adam,SGD\n",
    "from tensorflow.keras.regularizers import L2\n",
    "from tensorflow.keras.callbacks import ModelCheckpoint\n",
    "from sklearn.model_selection import KFold\n",
    "from scipy.stats import spearmanr\n",
    "import tensorflow as tf\n",
    "from sklearn.metrics import mean_absolute_error\n",
    "warnings.filterwarnings(action='ignore')\n",
    "plt.rc('font',family='Malgun Gothic')\n",
    "plt.rc('font',size=10)\n",
    "%matplotlib inline"
   ]
  },
  {
   "cell_type": "markdown",
   "id": "537742a4",
   "metadata": {},
   "source": [
    "# 데이터로드"
   ]
  },
  {
   "cell_type": "code",
   "execution_count": 2,
   "id": "d6adea72",
   "metadata": {
    "ExecuteTime": {
     "end_time": "2021-12-21T13:00:35.388820Z",
     "start_time": "2021-12-21T13:00:35.325855Z"
    }
   },
   "outputs": [],
   "source": [
    "# 빈 데이터 프레임 생성\n",
    "\n",
    "fm_data_df = pd.DataFrame(columns=['이름','포지션','골','도움','경기당 팀 득점/90',\n",
    "                                 '경기당 팀 실점/90', 'Cr C/A', 'FA', '반칙 수/90', '기회 창출/90',\n",
    "                                 '경기당 유효 슈팅/90', '경기당 슈팅/90', 'Int/90', '달린 거리/90분', \n",
    "                                 '공중 A/90', '태클 성공률','경기당 패스 시도/90', '경기당 패스 성공/90', \n",
    "                                 'K Ps/90', '태클 성공/90', '드리블 성공/90', \n",
    "                                 '헤더 성공/90', 'Cr A/90', '평균획득승점/경기'])\n",
    "\n",
    "# 모든 데이터 프레임 이어붙이기\n",
    "fm_data_df = pd.concat([fm_data_df,pd.read_csv('./datas/NEW_FM_DATA_FOR_ML/2021-2022/2021-2022ML.csv',encoding='utf-8-sig')])\n",
    "fm_data_df = fm_data_df.reset_index(drop=True)\n",
    "fm_data_df = pd.concat([fm_data_df,pd.read_csv('./datas/NEW_FM_DATA_FOR_ML/2022-2023/2022-2023ML.csv',encoding='utf-8-sig')])\n",
    "fm_data_df = fm_data_df.reset_index(drop=True)\n",
    "fm_data_df = pd.concat([fm_data_df,pd.read_csv('./datas/NEW_FM_DATA_FOR_ML/2023-2024/2023-2024ML.csv',encoding='utf-8-sig')])\n",
    "fm_data_df = fm_data_df.reset_index(drop=True)\n",
    "\n",
    "# 데이터 프레임 컬럼명 변경 및 자료형 변경\n",
    "fm_data_df.rename(columns={'Cr C/A':'크로스 성공률','FA':'파울 획득','Int/90':'인터셉트/90','공중 A/90':'공중볼시도/90','K Ps/90':'키패스/90','Cr A/90':'크로스 시도/90'},inplace=True)\n",
    "fm_data_df = fm_data_df.astype({'골':np.int64,'도움':np.int64,'파울 획득':np.int64,'태클 성공률':np.int64})\n",
    "\n",
    "# 공격수만 추출\n",
    "midfielder_df = fm_data_df[fm_data_df['포지션']=='미드필더']\n",
    "midfielder_df = midfielder_df.reset_index(drop=True)"
   ]
  },
  {
   "cell_type": "markdown",
   "id": "dfa8373a",
   "metadata": {},
   "source": [
    "# 데이터 EDA"
   ]
  },
  {
   "cell_type": "markdown",
   "id": "d17320ec",
   "metadata": {},
   "source": [
    "## 모델 생성에 사용할 독립변수, 종속변수 선별"
   ]
  },
  {
   "cell_type": "code",
   "execution_count": 3,
   "id": "5bb41e7c",
   "metadata": {
    "ExecuteTime": {
     "end_time": "2021-12-21T13:00:35.404824Z",
     "start_time": "2021-12-21T13:00:35.389824Z"
    }
   },
   "outputs": [],
   "source": [
    "num_col = [midfielder_df.columns[i] for i,x in enumerate(midfielder_df.dtypes) if x == 'int64' or x == 'float64']\n",
    "independent_value = set(num_col) - set(['평균획득승점/경기','출장시간','승','무','패','경기당 팀 득점/90','경기당 팀 실점/90'])\n",
    "dependent_value = '평균획득승점/경기'"
   ]
  },
  {
   "cell_type": "markdown",
   "id": "fe28ef6f",
   "metadata": {},
   "source": [
    "## 결측치 확인"
   ]
  },
  {
   "cell_type": "code",
   "execution_count": 4,
   "id": "33ff6c99",
   "metadata": {
    "ExecuteTime": {
     "end_time": "2021-12-21T13:00:35.420824Z",
     "start_time": "2021-12-21T13:00:35.405826Z"
    }
   },
   "outputs": [
    {
     "data": {
      "text/plain": [
       "이름              0\n",
       "포지션             0\n",
       "골               0\n",
       "도움              0\n",
       "경기당 팀 득점/90     0\n",
       "경기당 팀 실점/90     0\n",
       "크로스 성공률         0\n",
       "파울 획득           0\n",
       "반칙 수/90         0\n",
       "기회 창출/90        0\n",
       "경기당 유효 슈팅/90    0\n",
       "경기당 슈팅/90       0\n",
       "인터셉트/90         0\n",
       "달린 거리/90분       0\n",
       "공중볼시도/90        0\n",
       "태클 성공률          0\n",
       "경기당 패스 시도/90    0\n",
       "경기당 패스 성공/90    0\n",
       "키패스/90          0\n",
       "태클 성공/90        0\n",
       "드리블 성공/90       0\n",
       "헤더 성공/90        0\n",
       "크로스 시도/90       0\n",
       "평균획득승점/경기       0\n",
       "시즌              0\n",
       "dtype: int64"
      ]
     },
     "execution_count": 4,
     "metadata": {},
     "output_type": "execute_result"
    }
   ],
   "source": [
    "midfielder_df.isna().sum()"
   ]
  },
  {
   "cell_type": "markdown",
   "id": "28864ae2",
   "metadata": {},
   "source": [
    "## 변수 군집화"
   ]
  },
  {
   "cell_type": "markdown",
   "id": "a56a88e6",
   "metadata": {},
   "source": [
    "### 패스 군집화"
   ]
  },
  {
   "cell_type": "code",
   "execution_count": 5,
   "id": "51a8f776",
   "metadata": {
    "ExecuteTime": {
     "end_time": "2021-12-21T13:00:35.673137Z",
     "start_time": "2021-12-21T13:00:35.421825Z"
    }
   },
   "outputs": [],
   "source": [
    "from sklearn import cluster\n",
    "from sklearn import mixture\n",
    "from sklearn.preprocessing import StandardScaler\n",
    "from sklearn import datasets\n",
    "from sklearn.metrics import silhouette_score"
   ]
  },
  {
   "cell_type": "code",
   "execution_count": 6,
   "id": "cadf8526",
   "metadata": {
    "ExecuteTime": {
     "end_time": "2021-12-21T13:00:35.689150Z",
     "start_time": "2021-12-21T13:00:35.674143Z"
    }
   },
   "outputs": [],
   "source": [
    "def fit_predict_plot(model,dataset,title):\n",
    "    x = np.array(dataset)\n",
    "    model.fit(x)\n",
    "    if hasattr(model,'label_'):\n",
    "        labels = model.labels_.astype(np.int)\n",
    "    else:\n",
    "        labels = model.predict(x)\n",
    "        \n",
    "    colors = np.array(['#30A9DE','#E53A40','#090707','#A593E0','#F6B352','#519D9E','#D81159'])\n",
    "    \n",
    "    ax = plt.scatter(x[:,0],x[:,1],color=colors[labels])\n",
    "    plt.xlabel = '경기당 패스 성공/90'\n",
    "    plt.ylabel = '경기당 패스 시도/90'"
   ]
  },
  {
   "cell_type": "code",
   "execution_count": 7,
   "id": "89c2ec58",
   "metadata": {
    "ExecuteTime": {
     "end_time": "2021-12-21T13:00:35.942618Z",
     "start_time": "2021-12-21T13:00:35.690155Z"
    }
   },
   "outputs": [
    {
     "data": {
      "image/png": "[encoded data removed]",
      "text/plain": [
       "<Figure size 432x288 with 1 Axes>"
      ]
     },
     "metadata": {
      "needs_background": "light"
     },
     "output_type": "display_data"
    }
   ],
   "source": [
    "fit_predict_plot(cluster.KMeans(n_clusters=3,random_state=123),list(zip(midfielder_df['경기당 패스 성공/90'],midfielder_df['경기당 패스 시도/90'])),'패스')"
   ]
  },
  {
   "cell_type": "code",
   "execution_count": 8,
   "id": "530f5d28",
   "metadata": {
    "ExecuteTime": {
     "end_time": "2021-12-21T13:00:36.448618Z",
     "start_time": "2021-12-21T13:00:35.943620Z"
    }
   },
   "outputs": [
    {
     "name": "stdout",
     "output_type": "stream",
     "text": [
      "k : 2 , score: 45797.9623409887\n",
      "k : 3 , score: 25329.34380009257\n",
      "k : 4 , score: 13881.267756561869\n",
      "k : 5 , score: 10221.635197944956\n",
      "k : 6 , score: 7206.56639890134\n",
      "k : 7 , score: 5688.327078235847\n",
      "k : 8 , score: 4649.279300686357\n",
      "k : 9 , score: 3883.391847253737\n"
     ]
    },
    {
     "data": {
      "text/plain": [
       "[<matplotlib.lines.Line2D at 0x1e81e283670>]"
      ]
     },
     "execution_count": 8,
     "metadata": {},
     "output_type": "execute_result"
    },
    {
     "data": {
      "image/png": "[encoded data removed]",
      "text/plain": [
       "<Figure size 432x288 with 1 Axes>"
      ]
     },
     "metadata": {
      "needs_background": "light"
     },
     "output_type": "display_data"
    }
   ],
   "source": [
    "k_range = range(2,10)\n",
    "inertia_arr = []\n",
    "\n",
    "for k in k_range:\n",
    "    kmeans = cluster.KMeans(n_clusters=k,random_state=123)\n",
    "    kmeans.fit(list(zip(midfielder_df['경기당 패스 성공/90'],midfielder_df['경기당 패스 시도/90'])))\n",
    "    inertia = kmeans.inertia_\n",
    "\n",
    "    print(f'k : {k} , score: {inertia}')\n",
    "    \n",
    "    inertia_arr.append(inertia)\n",
    "    \n",
    "plt.plot(k_range,inertia_arr)"
   ]
  },
  {
   "cell_type": "code",
   "execution_count": 9,
   "id": "0f129a36",
   "metadata": {
    "ExecuteTime": {
     "end_time": "2021-12-21T13:00:36.510618Z",
     "start_time": "2021-12-21T13:00:36.449620Z"
    }
   },
   "outputs": [],
   "source": [
    "pass_kmeans = cluster.KMeans(n_clusters=3,random_state=123).fit(list(zip(midfielder_df['경기당 패스 성공/90'],midfielder_df['경기당 패스 시도/90'])))\n",
    "\n",
    "midfielder_df['패스군집'] = pass_kmeans.predict(list(zip(midfielder_df['경기당 패스 성공/90'],midfielder_df['경기당 패스 시도/90'])))\n",
    "\n",
    "midfielder_df['패스군집_이름'] = midfielder_df['패스군집'].map(lambda x : '안전패스군' if x == 0 else ('일반패스군' if x == 1 else '위험패스군'))"
   ]
  },
  {
   "cell_type": "code",
   "execution_count": 10,
   "id": "39569bd4",
   "metadata": {
    "ExecuteTime": {
     "end_time": "2021-12-21T13:00:36.542618Z",
     "start_time": "2021-12-21T13:00:36.512620Z"
    }
   },
   "outputs": [
    {
     "data": {
      "text/html": [
       "<div>\n",
       "<style scoped>\n",
       "    .dataframe tbody tr th:only-of-type {\n",
       "        vertical-align: middle;\n",
       "    }\n",
       "\n",
       "    .dataframe tbody tr th {\n",
       "        vertical-align: top;\n",
       "    }\n",
       "\n",
       "    .dataframe thead th {\n",
       "        text-align: right;\n",
       "    }\n",
       "</style>\n",
       "<table border=\"1\" class=\"dataframe\">\n",
       "  <thead>\n",
       "    <tr style=\"text-align: right;\">\n",
       "      <th></th>\n",
       "      <th>이름</th>\n",
       "      <th>패스군집_이름</th>\n",
       "    </tr>\n",
       "  </thead>\n",
       "  <tbody>\n",
       "    <tr>\n",
       "      <th>1</th>\n",
       "      <td>Paul Seguin</td>\n",
       "      <td>위험패스군</td>\n",
       "    </tr>\n",
       "    <tr>\n",
       "      <th>2</th>\n",
       "      <td>Julian Green</td>\n",
       "      <td>위험패스군</td>\n",
       "    </tr>\n",
       "    <tr>\n",
       "      <th>4</th>\n",
       "      <td>Simon Asta</td>\n",
       "      <td>위험패스군</td>\n",
       "    </tr>\n",
       "    <tr>\n",
       "      <th>5</th>\n",
       "      <td>Gian-Luca Itter</td>\n",
       "      <td>위험패스군</td>\n",
       "    </tr>\n",
       "    <tr>\n",
       "      <th>7</th>\n",
       "      <td>Jetro Willems</td>\n",
       "      <td>위험패스군</td>\n",
       "    </tr>\n",
       "    <tr>\n",
       "      <th>...</th>\n",
       "      <td>...</td>\n",
       "      <td>...</td>\n",
       "    </tr>\n",
       "    <tr>\n",
       "      <th>2066</th>\n",
       "      <td>Valerio Verre</td>\n",
       "      <td>위험패스군</td>\n",
       "    </tr>\n",
       "    <tr>\n",
       "      <th>2067</th>\n",
       "      <td>Nampalys Mendy</td>\n",
       "      <td>위험패스군</td>\n",
       "    </tr>\n",
       "    <tr>\n",
       "      <th>2069</th>\n",
       "      <td>Pervis Estupiñán</td>\n",
       "      <td>위험패스군</td>\n",
       "    </tr>\n",
       "    <tr>\n",
       "      <th>2076</th>\n",
       "      <td>Jacopo Sala</td>\n",
       "      <td>위험패스군</td>\n",
       "    </tr>\n",
       "    <tr>\n",
       "      <th>2086</th>\n",
       "      <td>Nicolas Haas</td>\n",
       "      <td>위험패스군</td>\n",
       "    </tr>\n",
       "  </tbody>\n",
       "</table>\n",
       "<p>586 rows × 2 columns</p>\n",
       "</div>"
      ],
      "text/plain": [
       "                    이름 패스군집_이름\n",
       "1          Paul Seguin   위험패스군\n",
       "2         Julian Green   위험패스군\n",
       "4           Simon Asta   위험패스군\n",
       "5      Gian-Luca Itter   위험패스군\n",
       "7        Jetro Willems   위험패스군\n",
       "...                ...     ...\n",
       "2066     Valerio Verre   위험패스군\n",
       "2067    Nampalys Mendy   위험패스군\n",
       "2069  Pervis Estupiñán   위험패스군\n",
       "2076       Jacopo Sala   위험패스군\n",
       "2086      Nicolas Haas   위험패스군\n",
       "\n",
       "[586 rows x 2 columns]"
      ]
     },
     "execution_count": 10,
     "metadata": {},
     "output_type": "execute_result"
    }
   ],
   "source": [
    "midfielder_df[['이름','패스군집_이름']].query('패스군집_이름 == \"위험패스군\"')"
   ]
  },
  {
   "cell_type": "code",
   "execution_count": 11,
   "id": "4a8cf90e",
   "metadata": {
    "ExecuteTime": {
     "end_time": "2021-12-21T13:00:36.558618Z",
     "start_time": "2021-12-21T13:00:36.543619Z"
    }
   },
   "outputs": [
    {
     "data": {
      "text/plain": [
       "{'골',\n",
       " '공중볼시도/90',\n",
       " '기회 창출/90',\n",
       " '달린 거리/90분',\n",
       " '도움',\n",
       " '드리블 성공/90',\n",
       " '반칙 수/90',\n",
       " '인터셉트/90',\n",
       " '크로스 성공률',\n",
       " '크로스 시도/90',\n",
       " '키패스/90',\n",
       " '태클 성공/90',\n",
       " '태클 성공률',\n",
       " '파울 획득',\n",
       " '헤더 성공/90'}"
      ]
     },
     "execution_count": 11,
     "metadata": {},
     "output_type": "execute_result"
    }
   ],
   "source": [
    "independent_value = independent_value - set(['경기당 유효 슈팅/90','경기당 슈팅/90','경기당 패스 성공/90','경기당 패스 시도/90'])\n",
    "independent_value"
   ]
  },
  {
   "cell_type": "code",
   "execution_count": 12,
   "id": "2227bdc5",
   "metadata": {
    "ExecuteTime": {
     "end_time": "2021-12-21T13:03:28.457184Z",
     "start_time": "2021-12-21T13:03:28.436598Z"
    }
   },
   "outputs": [],
   "source": [
    "safe_pass_df = midfielder_df[midfielder_df['패스군집_이름']=='안전패스군']\n",
    "normal_pass_df = midfielder_df[midfielder_df['패스군집_이름']=='일반패스군']\n",
    "danger_pass_df = midfielder_df[midfielder_df['패스군집_이름']=='위험패스군']"
   ]
  },
  {
   "cell_type": "markdown",
   "id": "202b02ce",
   "metadata": {},
   "source": [
    "# LGBM Regressor 안전패스군 모델 생성"
   ]
  },
  {
   "cell_type": "code",
   "execution_count": 32,
   "id": "cb07a9b8",
   "metadata": {
    "ExecuteTime": {
     "end_time": "2021-12-21T13:43:00.584906Z",
     "start_time": "2021-12-21T13:43:00.570908Z"
    }
   },
   "outputs": [],
   "source": [
    "from lightgbm import LGBMRegressor\n",
    "from sklearn.model_selection import GridSearchCV,train_test_split,StratifiedKFold\n",
    "\n",
    "safe_x_train,safe_x_test,safe_y_train,safe_y_test = train_test_split(safe_pass_df.loc[:,independent_value],safe_pass_df.loc[:,dependent_value],test_size=0.2,random_state=123)"
   ]
  },
  {
   "cell_type": "code",
   "execution_count": 37,
   "id": "207e73ca",
   "metadata": {
    "ExecuteTime": {
     "end_time": "2021-12-21T13:44:58.553156Z",
     "start_time": "2021-12-21T13:44:58.454948Z"
    }
   },
   "outputs": [
    {
     "name": "stdout",
     "output_type": "stream",
     "text": [
      "-0.30221999292154683\n",
      "LGBMRegressor(extra_trees=True, learning_rate=0.2, n_estimators=150,\n",
      "              num_leaves=7, objective='regression', random_state=123,\n",
      "              reg_alpha=1.4, reg_lambda=1.1, subsample=0.5)\n",
      "{'extra_trees': True, 'learning_rate': 0.2, 'max_depth': -1, 'n_estimators': 150, 'num_leaves': 7, 'objective': 'regression', 'random_state': 123, 'reg_alpha': 1.4, 'reg_lambda': 1.1, 'subsample': 0.5}\n"
     ]
    }
   ],
   "source": [
    "midfielder_lgbm = LGBMRegressor()\n",
    "\n",
    "params = {\n",
    "    'num_leaves': [7],\n",
    "    'learning_rate': [0.2],\n",
    "    'max_depth': [-1],\n",
    "    'n_estimators': [150],\n",
    "    'objective' : [\"regression\"],\n",
    "    'random_state' :[123],\n",
    "    'reg_alpha' : [1.4],\n",
    "    'reg_lambda' : [1.1],\n",
    "    'subsample': [0.5],\n",
    "    'extra_trees' : [True]\n",
    "}\n",
    "\n",
    "\n",
    "grid = GridSearchCV(midfielder_lgbm, params, scoring='neg_mean_absolute_error', cv=3,refit=True)\n",
    "\n",
    "grid.fit(safe_pass_df.loc[:,independent_value],\n",
    "         safe_pass_df.loc[:,dependent_value])\n",
    "\n",
    "print(grid.best_score_)\n",
    "print(grid.best_estimator_)\n",
    "print(grid.best_params_)"
   ]
  },
  {
   "cell_type": "code",
   "execution_count": 38,
   "id": "e71b0c1f",
   "metadata": {
    "ExecuteTime": {
     "end_time": "2021-12-21T13:45:17.374125Z",
     "start_time": "2021-12-21T13:45:17.363814Z"
    }
   },
   "outputs": [],
   "source": [
    "safe_midfielder_lgbm = LGBMRegressor(\n",
    "                num_leaves=7,\n",
    "                learning_rate=0.2,\n",
    "                max_depth=-1,\n",
    "                n_estimators=150,\n",
    "                objective='regression',\n",
    "                random_state=123,\n",
    "                reg_alpha=1.4,\n",
    "                reg_lambda=1.1,\n",
    "                subsample=0.5,\n",
    "                extra_trees=True\n",
    "                )"
   ]
  },
  {
   "cell_type": "code",
   "execution_count": 39,
   "id": "2fbf0715",
   "metadata": {
    "ExecuteTime": {
     "end_time": "2021-12-21T13:45:32.907058Z",
     "start_time": "2021-12-21T13:45:32.874057Z"
    }
   },
   "outputs": [
    {
     "data": {
      "text/plain": [
       "LGBMRegressor(extra_trees=True, learning_rate=0.2, n_estimators=150,\n",
       "              num_leaves=7, objective='regression', random_state=123,\n",
       "              reg_alpha=1.4, reg_lambda=1.1, subsample=0.5)"
      ]
     },
     "execution_count": 39,
     "metadata": {},
     "output_type": "execute_result"
    }
   ],
   "source": [
    "safe_midfielder_lgbm.fit(safe_x_train,safe_y_train)"
   ]
  },
  {
   "cell_type": "code",
   "execution_count": 40,
   "id": "19143991",
   "metadata": {
    "ExecuteTime": {
     "end_time": "2021-12-21T13:45:51.905741Z",
     "start_time": "2021-12-21T13:45:51.893741Z"
    }
   },
   "outputs": [
    {
     "data": {
      "text/plain": [
       "0.3093642566675776"
      ]
     },
     "execution_count": 40,
     "metadata": {},
     "output_type": "execute_result"
    }
   ],
   "source": [
    "safe_y_pred = safe_midfielder_lgbm.predict(safe_x_test)\n",
    "mean_absolute_error(safe_y_test,safe_y_pred)"
   ]
  },
  {
   "cell_type": "markdown",
   "id": "508a2950",
   "metadata": {},
   "source": [
    "## 모델검정 데이터 삽입"
   ]
  },
  {
   "cell_type": "code",
   "execution_count": 63,
   "id": "670934f7",
   "metadata": {
    "ExecuteTime": {
     "end_time": "2021-12-21T13:55:20.128851Z",
     "start_time": "2021-12-21T13:55:20.115673Z"
    }
   },
   "outputs": [],
   "source": [
    "midfielder_df['predict'] = 0"
   ]
  },
  {
   "cell_type": "code",
   "execution_count": 45,
   "id": "bbe5f625",
   "metadata": {
    "ExecuteTime": {
     "end_time": "2021-12-21T13:46:56.368205Z",
     "start_time": "2021-12-21T13:46:56.360247Z"
    }
   },
   "outputs": [],
   "source": [
    "safe_pass_df['predict'] = safe_midfielder_lgbm.predict(safe_pass_df.loc[:,independent_value])"
   ]
  },
  {
   "cell_type": "code",
   "execution_count": 62,
   "id": "04f42cad",
   "metadata": {
    "ExecuteTime": {
     "end_time": "2021-12-21T13:54:40.589527Z",
     "start_time": "2021-12-21T13:54:40.583980Z"
    }
   },
   "outputs": [],
   "source": [
    "safe_index = safe_pass_df.loc[:,independent_value].index"
   ]
  },
  {
   "cell_type": "code",
   "execution_count": 64,
   "id": "7845990c",
   "metadata": {
    "ExecuteTime": {
     "end_time": "2021-12-21T13:55:48.741873Z",
     "start_time": "2021-12-21T13:55:48.727149Z"
    }
   },
   "outputs": [],
   "source": [
    "midfielder_df.loc[safe_index,'predict'] = safe_midfielder_lgbm.predict(safe_pass_df.loc[:,independent_value])"
   ]
  },
  {
   "cell_type": "markdown",
   "id": "395af5a6",
   "metadata": {},
   "source": [
    "# LGBM Regressor 일반패스군 모델 생성"
   ]
  },
  {
   "cell_type": "code",
   "execution_count": 55,
   "id": "3b3d1372",
   "metadata": {
    "ExecuteTime": {
     "end_time": "2021-12-21T13:51:10.411953Z",
     "start_time": "2021-12-21T13:51:10.396938Z"
    }
   },
   "outputs": [],
   "source": [
    "normal_x_train,normal_x_test,normal_y_train,normal_y_test = train_test_split(normal_pass_df.loc[:,independent_value],normal_pass_df.loc[:,dependent_value],test_size=0.2,random_state=123)"
   ]
  },
  {
   "cell_type": "code",
   "execution_count": 56,
   "id": "233403b1",
   "metadata": {
    "ExecuteTime": {
     "end_time": "2021-12-21T13:52:35.984560Z",
     "start_time": "2021-12-21T13:51:58.878770Z"
    }
   },
   "outputs": [
    {
     "name": "stdout",
     "output_type": "stream",
     "text": [
      "-0.34185902062148954\n",
      "LGBMRegressor(extra_trees=True, learning_rate=0.2, n_estimators=150,\n",
      "              num_leaves=5, objective='regression', random_state=123,\n",
      "              reg_alpha=1.2, reg_lambda=1.5, subsample=0.5)\n",
      "{'extra_trees': True, 'learning_rate': 0.2, 'max_depth': -1, 'n_estimators': 150, 'num_leaves': 5, 'objective': 'regression', 'random_state': 123, 'reg_alpha': 1.2, 'reg_lambda': 1.5, 'subsample': 0.5}\n"
     ]
    }
   ],
   "source": [
    "midfielder_lgbm = LGBMRegressor()\n",
    "\n",
    "params = {\n",
    "    'num_leaves': [5,6,7,8],\n",
    "    'learning_rate': [0.2],\n",
    "    'max_depth': [-1],\n",
    "    'n_estimators': [150],\n",
    "    'objective' : [\"regression\"],\n",
    "    'random_state' :[123],\n",
    "    'reg_alpha' : [1.1,1.2,1.3,1.4,1.5],\n",
    "    'reg_lambda' : [1.1,1.2,1.3,1.4,1.5],\n",
    "    'subsample': [0.5,0.6,0.7,0.8,0.9,1.0],\n",
    "    'extra_trees' : [True]\n",
    "}\n",
    "\n",
    "\n",
    "grid = GridSearchCV(midfielder_lgbm, params, scoring='neg_mean_absolute_error', cv=3,refit=True)\n",
    "\n",
    "grid.fit(normal_pass_df.loc[:,independent_value],\n",
    "         normal_pass_df.loc[:,dependent_value])\n",
    "\n",
    "print(grid.best_score_)\n",
    "print(grid.best_estimator_)\n",
    "print(grid.best_params_)"
   ]
  },
  {
   "cell_type": "code",
   "execution_count": 58,
   "id": "11a3323b",
   "metadata": {
    "ExecuteTime": {
     "end_time": "2021-12-21T13:53:36.421710Z",
     "start_time": "2021-12-21T13:53:36.409704Z"
    }
   },
   "outputs": [],
   "source": [
    "normal_midfielder_lgbm = LGBMRegressor(\n",
    "                num_leaves=5,\n",
    "                learning_rate=0.2,\n",
    "                max_depth=-1,\n",
    "                n_estimators=150,\n",
    "                objective='regression',\n",
    "                random_state=123,\n",
    "                reg_alpha=1.2,\n",
    "                reg_lambda=1.5,\n",
    "                subsample=0.5,\n",
    "                extra_trees=True\n",
    "                )"
   ]
  },
  {
   "cell_type": "code",
   "execution_count": 59,
   "id": "f5384ea2",
   "metadata": {
    "ExecuteTime": {
     "end_time": "2021-12-21T13:53:36.970290Z",
     "start_time": "2021-12-21T13:53:36.946718Z"
    }
   },
   "outputs": [
    {
     "data": {
      "text/plain": [
       "LGBMRegressor(extra_trees=True, learning_rate=0.2, n_estimators=150,\n",
       "              num_leaves=5, objective='regression', random_state=123,\n",
       "              reg_alpha=1.2, reg_lambda=1.5, subsample=0.5)"
      ]
     },
     "execution_count": 59,
     "metadata": {},
     "output_type": "execute_result"
    }
   ],
   "source": [
    "normal_midfielder_lgbm.fit(normal_x_train,normal_y_train)"
   ]
  },
  {
   "cell_type": "code",
   "execution_count": 67,
   "id": "2cc460fb",
   "metadata": {
    "ExecuteTime": {
     "end_time": "2021-12-21T13:56:38.818720Z",
     "start_time": "2021-12-21T13:56:38.798723Z"
    }
   },
   "outputs": [
    {
     "data": {
      "text/plain": [
       "0.3580015176787896"
      ]
     },
     "execution_count": 67,
     "metadata": {},
     "output_type": "execute_result"
    }
   ],
   "source": [
    "normal_y_pred = normal_midfielder_lgbm.predict(normal_x_test)\n",
    "mean_absolute_error(normal_y_test,normal_y_pred)"
   ]
  },
  {
   "cell_type": "code",
   "execution_count": 68,
   "id": "ed5c3474",
   "metadata": {
    "ExecuteTime": {
     "end_time": "2021-12-21T13:59:47.914274Z",
     "start_time": "2021-12-21T13:59:47.891767Z"
    }
   },
   "outputs": [],
   "source": [
    "normal_pass_df['predict'] = normal_midfielder_lgbm.predict(normal_pass_df.loc[:,independent_value])"
   ]
  },
  {
   "cell_type": "code",
   "execution_count": 69,
   "id": "f2543c19",
   "metadata": {
    "ExecuteTime": {
     "end_time": "2021-12-21T13:59:49.103855Z",
     "start_time": "2021-12-21T13:59:49.087910Z"
    }
   },
   "outputs": [],
   "source": [
    "normal_index = normal_pass_df.loc[:,independent_value].index"
   ]
  },
  {
   "cell_type": "code",
   "execution_count": 70,
   "id": "fc8dbe3a",
   "metadata": {
    "ExecuteTime": {
     "end_time": "2021-12-21T13:59:51.945887Z",
     "start_time": "2021-12-21T13:59:51.926903Z"
    }
   },
   "outputs": [],
   "source": [
    "midfielder_df.loc[normal_index,'predict'] = normal_midfielder_lgbm.predict(normal_pass_df.loc[:,independent_value])"
   ]
  },
  {
   "cell_type": "markdown",
   "id": "1fb1e1b8",
   "metadata": {},
   "source": [
    "# 위험 패스군 모델 생성"
   ]
  },
  {
   "cell_type": "code",
   "execution_count": 71,
   "id": "57168da4",
   "metadata": {
    "ExecuteTime": {
     "end_time": "2021-12-21T14:02:01.633014Z",
     "start_time": "2021-12-21T14:02:01.619895Z"
    }
   },
   "outputs": [],
   "source": [
    "danger_x_train,danger_x_test,danger_y_train,danger_y_test = train_test_split(danger_pass_df.loc[:,independent_value],danger_pass_df.loc[:,dependent_value],test_size=0.2,random_state=123)"
   ]
  },
  {
   "cell_type": "code",
   "execution_count": 72,
   "id": "f918dc1a",
   "metadata": {
    "ExecuteTime": {
     "end_time": "2021-12-21T14:02:40.004648Z",
     "start_time": "2021-12-21T14:02:08.098859Z"
    }
   },
   "outputs": [
    {
     "name": "stdout",
     "output_type": "stream",
     "text": [
      "-0.3409490426516031\n",
      "LGBMRegressor(extra_trees=True, learning_rate=0.2, n_estimators=150,\n",
      "              num_leaves=8, objective='regression', random_state=123,\n",
      "              reg_alpha=1.3, reg_lambda=1.5, subsample=0.5)\n",
      "{'extra_trees': True, 'learning_rate': 0.2, 'max_depth': -1, 'n_estimators': 150, 'num_leaves': 8, 'objective': 'regression', 'random_state': 123, 'reg_alpha': 1.3, 'reg_lambda': 1.5, 'subsample': 0.5}\n"
     ]
    }
   ],
   "source": [
    "midfielder_lgbm = LGBMRegressor()\n",
    "\n",
    "params = {\n",
    "    'num_leaves': [5,6,7,8],\n",
    "    'learning_rate': [0.2],\n",
    "    'max_depth': [-1],\n",
    "    'n_estimators': [150],\n",
    "    'objective' : [\"regression\"],\n",
    "    'random_state' :[123],\n",
    "    'reg_alpha' : [1.1,1.2,1.3,1.4,1.5],\n",
    "    'reg_lambda' : [1.1,1.2,1.3,1.4,1.5],\n",
    "    'subsample': [0.5,0.6,0.7,0.8,0.9,1.0],\n",
    "    'extra_trees' : [True]\n",
    "}\n",
    "\n",
    "\n",
    "grid = GridSearchCV(midfielder_lgbm, params, scoring='neg_mean_absolute_error', cv=3,refit=True)\n",
    "\n",
    "grid.fit(danger_pass_df.loc[:,independent_value],\n",
    "         danger_pass_df.loc[:,dependent_value])\n",
    "\n",
    "print(grid.best_score_)\n",
    "print(grid.best_estimator_)\n",
    "print(grid.best_params_)"
   ]
  },
  {
   "cell_type": "code",
   "execution_count": 73,
   "id": "44ece259",
   "metadata": {
    "ExecuteTime": {
     "end_time": "2021-12-21T14:03:04.772443Z",
     "start_time": "2021-12-21T14:03:04.767445Z"
    }
   },
   "outputs": [],
   "source": [
    "danger_midfielder_lgbm = LGBMRegressor(\n",
    "                num_leaves=8,\n",
    "                learning_rate=0.2,\n",
    "                max_depth=-1,\n",
    "                n_estimators=150,\n",
    "                objective='regression',\n",
    "                random_state=123,\n",
    "                reg_alpha=1.3,\n",
    "                reg_lambda=1.5,\n",
    "                subsample=0.5,\n",
    "                extra_trees=True\n",
    "                )"
   ]
  },
  {
   "cell_type": "code",
   "execution_count": 74,
   "id": "44a213c2",
   "metadata": {
    "ExecuteTime": {
     "end_time": "2021-12-21T14:03:36.581252Z",
     "start_time": "2021-12-21T14:03:36.546255Z"
    }
   },
   "outputs": [
    {
     "data": {
      "text/plain": [
       "LGBMRegressor(extra_trees=True, learning_rate=0.2, n_estimators=150,\n",
       "              num_leaves=8, objective='regression', random_state=123,\n",
       "              reg_alpha=1.3, reg_lambda=1.5, subsample=0.5)"
      ]
     },
     "execution_count": 74,
     "metadata": {},
     "output_type": "execute_result"
    }
   ],
   "source": [
    "danger_midfielder_lgbm.fit(danger_x_train,danger_y_train)"
   ]
  },
  {
   "cell_type": "code",
   "execution_count": 75,
   "id": "5a40b1b7",
   "metadata": {
    "ExecuteTime": {
     "end_time": "2021-12-21T14:03:39.202438Z",
     "start_time": "2021-12-21T14:03:39.191441Z"
    }
   },
   "outputs": [
    {
     "data": {
      "text/plain": [
       "0.34494784868127293"
      ]
     },
     "execution_count": 75,
     "metadata": {},
     "output_type": "execute_result"
    }
   ],
   "source": [
    "danger_y_pred = danger_midfielder_lgbm.predict(danger_x_test)\n",
    "mean_absolute_error(danger_y_test,danger_y_pred)"
   ]
  },
  {
   "cell_type": "code",
   "execution_count": 76,
   "id": "b7d7c55b",
   "metadata": {
    "ExecuteTime": {
     "end_time": "2021-12-21T14:03:45.893181Z",
     "start_time": "2021-12-21T14:03:45.878184Z"
    }
   },
   "outputs": [],
   "source": [
    "danger_pass_df['predict'] = danger_midfielder_lgbm.predict(danger_pass_df.loc[:,independent_value])"
   ]
  },
  {
   "cell_type": "code",
   "execution_count": 77,
   "id": "41d50d17",
   "metadata": {
    "ExecuteTime": {
     "end_time": "2021-12-21T14:03:54.742125Z",
     "start_time": "2021-12-21T14:03:54.726126Z"
    }
   },
   "outputs": [],
   "source": [
    "danger_index = danger_pass_df.loc[:,independent_value].index"
   ]
  },
  {
   "cell_type": "code",
   "execution_count": 78,
   "id": "dea6fe2e",
   "metadata": {
    "ExecuteTime": {
     "end_time": "2021-12-21T14:04:06.656050Z",
     "start_time": "2021-12-21T14:04:06.636048Z"
    }
   },
   "outputs": [],
   "source": [
    "midfielder_df.loc[danger_index,'predict'] = danger_midfielder_lgbm.predict(danger_pass_df.loc[:,independent_value])"
   ]
  },
  {
   "cell_type": "code",
   "execution_count": 118,
   "id": "cc3bf226",
   "metadata": {
    "ExecuteTime": {
     "end_time": "2021-12-21T00:41:58.421931Z",
     "start_time": "2021-12-21T00:41:58.408931Z"
    }
   },
   "outputs": [
    {
     "data": {
      "text/plain": [
       "['./models/midfielder_lgbm_cluster.pkl']"
      ]
     },
     "execution_count": 118,
     "metadata": {},
     "output_type": "execute_result"
    }
   ],
   "source": [
    "import joblib\n",
    "\n",
    "joblib.dump(midfielder_lgbm, './models/midfielder_lgbm_cluster.pkl')"
   ]
  },
  {
   "cell_type": "markdown",
   "id": "b3b9a32d",
   "metadata": {},
   "source": [
    "## 선형성 검정"
   ]
  },
  {
   "cell_type": "code",
   "execution_count": 79,
   "id": "fedba2ae",
   "metadata": {
    "ExecuteTime": {
     "end_time": "2021-12-21T14:05:00.025392Z",
     "start_time": "2021-12-21T14:05:00.021394Z"
    }
   },
   "outputs": [],
   "source": [
    "residual = midfielder_df['평균획득승점/경기'] - midfielder_df['predict']"
   ]
  },
  {
   "cell_type": "code",
   "execution_count": 80,
   "id": "cf017466",
   "metadata": {
    "ExecuteTime": {
     "end_time": "2021-12-21T14:05:19.512579Z",
     "start_time": "2021-12-21T14:05:18.752581Z"
    }
   },
   "outputs": [
    {
     "data": {
      "text/plain": [
       "[<matplotlib.lines.Line2D at 0x1e8217a3f40>]"
      ]
     },
     "execution_count": 80,
     "metadata": {},
     "output_type": "execute_result"
    },
    {
     "data": {
      "image/png": "[encoded data removed]",
      "text/plain": [
       "<Figure size 432x288 with 1 Axes>"
      ]
     },
     "metadata": {
      "needs_background": "light"
     },
     "output_type": "display_data"
    }
   ],
   "source": [
    "sns.regplot(midfielder_df['predict'], residual, lowess=True, line_kws={'color': 'red'})\n",
    "plt.plot([midfielder_df['predict'].values.min(), midfielder_df['predict'].values.max()], [0, 0], '--', color='grey')"
   ]
  },
  {
   "cell_type": "markdown",
   "id": "27146545",
   "metadata": {},
   "source": [
    "## 잔차의 정규성 검정"
   ]
  },
  {
   "cell_type": "code",
   "execution_count": 81,
   "id": "b42a42a1",
   "metadata": {
    "ExecuteTime": {
     "end_time": "2021-12-21T14:05:27.281082Z",
     "start_time": "2021-12-21T14:05:27.267084Z"
    }
   },
   "outputs": [
    {
     "data": {
      "text/plain": [
       "ShapiroResult(statistic=0.9991351366043091, pvalue=0.4325277805328369)"
      ]
     },
     "execution_count": 81,
     "metadata": {},
     "output_type": "execute_result"
    }
   ],
   "source": [
    "# 정규성 불만족\n",
    "stats.shapiro(residual)"
   ]
  },
  {
   "cell_type": "code",
   "execution_count": 82,
   "id": "f3774933",
   "metadata": {
    "ExecuteTime": {
     "end_time": "2021-12-21T14:05:34.676480Z",
     "start_time": "2021-12-21T14:05:34.582478Z"
    }
   },
   "outputs": [
    {
     "data": {
      "text/plain": [
       "[<matplotlib.lines.Line2D at 0x1e822031f40>]"
      ]
     },
     "execution_count": 82,
     "metadata": {},
     "output_type": "execute_result"
    },
    {
     "data": {
      "image/png": "[encoded data removed]",
      "text/plain": [
       "<Figure size 432x288 with 1 Axes>"
      ]
     },
     "metadata": {
      "needs_background": "light"
     },
     "output_type": "display_data"
    }
   ],
   "source": [
    "sr = stats.zscore(residual)\n",
    "(x, y), _ = stats.probplot(sr)\n",
    "sns.scatterplot(x, y)\n",
    "plt.plot([-3, 3], [-3, 3], '--', color='grey')"
   ]
  },
  {
   "cell_type": "markdown",
   "id": "6e0ee93e",
   "metadata": {},
   "source": [
    "## 잔차의 등분산성 검정"
   ]
  },
  {
   "cell_type": "code",
   "execution_count": 83,
   "id": "ac283f13",
   "metadata": {
    "ExecuteTime": {
     "end_time": "2021-12-21T14:05:43.967422Z",
     "start_time": "2021-12-21T14:05:43.213424Z"
    }
   },
   "outputs": [
    {
     "data": {
      "text/plain": [
       "<AxesSubplot:xlabel='predict'>"
      ]
     },
     "execution_count": 83,
     "metadata": {},
     "output_type": "execute_result"
    },
    {
     "data": {
      "image/png": "[encoded data removed]",
      "text/plain": [
       "<Figure size 432x288 with 1 Axes>"
      ]
     },
     "metadata": {
      "needs_background": "light"
     },
     "output_type": "display_data"
    }
   ],
   "source": [
    "sns.regplot(midfielder_df['predict'], np.sqrt(np.abs(sr)), lowess=True, line_kws={'color': 'red'})"
   ]
  },
  {
   "cell_type": "code",
   "execution_count": 85,
   "id": "436baa05",
   "metadata": {
    "ExecuteTime": {
     "end_time": "2021-12-21T14:06:07.519263Z",
     "start_time": "2021-12-21T14:06:07.507266Z"
    }
   },
   "outputs": [
    {
     "data": {
      "text/plain": [
       "LeveneResult(statistic=573.4410868826591, pvalue=7.151551695472934e-119)"
      ]
     },
     "execution_count": 85,
     "metadata": {},
     "output_type": "execute_result"
    }
   ],
   "source": [
    "# 등분산성 불만족\n",
    "stats.levene(midfielder_df['평균획득승점/경기'],midfielder_df['predict'])"
   ]
  },
  {
   "cell_type": "markdown",
   "id": "783f0b5e",
   "metadata": {},
   "source": [
    "## 잔차의 독립성 검정"
   ]
  },
  {
   "cell_type": "code",
   "execution_count": 87,
   "id": "4b3caf3b",
   "metadata": {
    "ExecuteTime": {
     "end_time": "2021-12-21T14:41:48.448618Z",
     "start_time": "2021-12-21T14:41:48.426618Z"
    }
   },
   "outputs": [
    {
     "data": {
      "text/plain": [
       "0.9482314241773196"
      ]
     },
     "execution_count": 87,
     "metadata": {},
     "output_type": "execute_result"
    }
   ],
   "source": [
    "from statsmodels.stats.stattools import durbin_watson\n",
    "\n",
    "# 독립성 불만족\n",
    "durbin_watson(residual)"
   ]
  },
  {
   "cell_type": "code",
   "execution_count": 86,
   "id": "613d91ce",
   "metadata": {
    "ExecuteTime": {
     "end_time": "2021-12-21T14:06:31.481455Z",
     "start_time": "2021-12-21T14:06:31.465455Z"
    }
   },
   "outputs": [
    {
     "data": {
      "text/plain": [
       "0.27624560242544666"
      ]
     },
     "execution_count": 86,
     "metadata": {},
     "output_type": "execute_result"
    }
   ],
   "source": [
    "mean_absolute_error(midfielder_df['평균획득승점/경기'],midfielder_df['predict'])"
   ]
  }
 ],
 "metadata": {
  "kernelspec": {
   "display_name": "Python 3 (ipykernel)",
   "language": "python",
   "name": "python3"
  },
  "language_info": {
   "codemirror_mode": {
    "name": "ipython",
    "version": 3
   },
   "file_extension": ".py",
   "mimetype": "text/x-python",
   "name": "python",
   "nbconvert_exporter": "python",
   "pygments_lexer": "ipython3",
   "version": "3.9.7"
  },
  "toc": {
   "base_numbering": 1,
   "nav_menu": {},
   "number_sections": true,
   "sideBar": true,
   "skip_h1_title": false,
   "title_cell": "Table of Contents",
   "title_sidebar": "Contents",
   "toc_cell": false,
   "toc_position": {},
   "toc_section_display": true,
   "toc_window_display": false
  },
  "varInspector": {
   "cols": {
    "lenName": 16,
    "lenType": 16,
    "lenVar": 40
   },
   "kernels_config": {
    "python": {
     "delete_cmd_postfix": "",
     "delete_cmd_prefix": "del ",
     "library": "var_list.py",
     "varRefreshCmd": "print(var_dic_list())"
    },
    "r": {
     "delete_cmd_postfix": ") ",
     "delete_cmd_prefix": "rm(",
     "library": "var_list.r",
     "varRefreshCmd": "cat(var_dic_list()) "
    }
   },
   "position": {
    "height": "144.83px",
    "left": "1373.42px",
    "right": "20px",
    "top": "128.983px",
    "width": "350px"
   },
   "types_to_exclude": [
    "module",
    "function",
    "builtin_function_or_method",
    "instance",
    "_Feature"
   ],
   "window_display": false
  }
 },
 "nbformat": 4,
 "nbformat_minor": 5
}
